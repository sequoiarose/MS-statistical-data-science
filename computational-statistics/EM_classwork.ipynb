{
 "cells": [
  {
   "cell_type": "code",
   "execution_count": 5,
   "metadata": {
    "vscode": {
     "languageId": "r"
    }
   },
   "outputs": [],
   "source": [
    "data = c( 4.5,4.5,2.9719593223425,3.57714378873628,4.5,3.88310804477432,3.04268597197829,2.03521044807455,4.5,2.56138462269069,3.90321366953768,3.15185317373851,4.5,4.40557340594113,4.5,4.5,2.30671479632584,4.5,4.1986290616469,3.4745138268405,2.1461321020044,3.93849412317917,4.5,3.47752104301941,3.93658927002286)"
   ]
  },
  {
   "cell_type": "code",
   "execution_count": 6,
   "metadata": {
    "vscode": {
     "languageId": "r"
    }
   },
   "outputs": [
    {
     "data": {
      "text/html": [
       "9"
      ],
      "text/latex": [
       "9"
      ],
      "text/markdown": [
       "9"
      ],
      "text/plain": [
       "[1] 9"
      ]
     },
     "metadata": {},
     "output_type": "display_data"
    }
   ],
   "source": [
    "sum(data==4.5)"
   ]
  },
  {
   "cell_type": "code",
   "execution_count": 7,
   "metadata": {
    "vscode": {
     "languageId": "r"
    }
   },
   "outputs": [],
   "source": [
    "x = data[data!=4.5]\n",
    "y = data[data == 4.5]"
   ]
  },
  {
   "cell_type": "code",
   "execution_count": 11,
   "metadata": {
    "vscode": {
     "languageId": "r"
    }
   },
   "outputs": [],
   "source": [
    "update_mu = function(mu_t){\n",
    "    mu = ((16/25)*mean(x)) + ((9/25)*((dnorm(4.5-mu_t)/(1-pnorm(4.5-mu_t)))+mu_t))\n",
    "    return(mu)\n",
    "}"
   ]
  },
  {
   "cell_type": "code",
   "execution_count": 12,
   "metadata": {
    "vscode": {
     "languageId": "r"
    }
   },
   "outputs": [
    {
     "data": {
      "text/html": [
       "3.9681700616128"
      ],
      "text/latex": [
       "3.9681700616128"
      ],
      "text/markdown": [
       "3.9681700616128"
      ],
      "text/plain": [
       "[1] 3.96817"
      ]
     },
     "metadata": {},
     "output_type": "display_data"
    }
   ],
   "source": [
    "mu_initial = 0\n",
    "tolerance = .Machine$double.eps^5\n",
    "\n",
    "max = 10000\n",
    "\n",
    "mu_current = mu_initial\n",
    "for (i in 1:max){\n",
    "    mu_next = update_mu(mu_current)\n",
    "    if (abs(mu_next - mu_current)<tolerance){\n",
    "        break\n",
    "    }\n",
    "\n",
    "    mu_current = mu_next\n",
    "}\n",
    "\n",
    "mu_current"
   ]
  },
  {
   "cell_type": "code",
   "execution_count": null,
   "metadata": {
    "vscode": {
     "languageId": "r"
    }
   },
   "outputs": [],
   "source": []
  }
 ],
 "metadata": {
  "kernelspec": {
   "display_name": "R",
   "language": "R",
   "name": "ir"
  },
  "language_info": {
   "codemirror_mode": "r",
   "file_extension": ".r",
   "mimetype": "text/x-r-source",
   "name": "R",
   "pygments_lexer": "r",
   "version": "4.2.2"
  }
 },
 "nbformat": 4,
 "nbformat_minor": 2
}

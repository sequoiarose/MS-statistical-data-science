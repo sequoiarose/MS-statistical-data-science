{
 "cells": [
  {
   "cell_type": "markdown",
   "metadata": {},
   "source": [
    "The code below estimates $\\int_0^x e^{x^2/2}$"
   ]
  },
  {
   "cell_type": "code",
   "execution_count": 5,
   "metadata": {
    "vscode": {
     "languageId": "r"
    }
   },
   "outputs": [],
   "source": [
    "hx = function(x, u){\n",
    "        exp((-(x*u)^2)/2)\n",
    "}"
   ]
  },
  {
   "cell_type": "code",
   "execution_count": 22,
   "metadata": {
    "vscode": {
     "languageId": "r"
    }
   },
   "outputs": [
    {
     "data": {
      "text/html": [
       "<table class=\"dataframe\">\n",
       "<caption>A data.frame: 30 × 6</caption>\n",
       "<thead>\n",
       "\t<tr><th scope=col>xs</th><th scope=col>true</th><th scope=col>est</th><th scope=col>lower_bound</th><th scope=col>upper_bound</th><th scope=col>ses</th></tr>\n",
       "\t<tr><th scope=col>&lt;dbl&gt;</th><th scope=col>&lt;dbl&gt;</th><th scope=col>&lt;dbl&gt;</th><th scope=col>&lt;dbl&gt;</th><th scope=col>&lt;dbl&gt;</th><th scope=col>&lt;dbl&gt;</th></tr>\n",
       "</thead>\n",
       "<tbody>\n",
       "\t<tr><td>0.1</td><td>0.5398278</td><td>0.5398276</td><td>0.5310062</td><td>0.5486491</td><td>0.004500835</td></tr>\n",
       "\t<tr><td>0.2</td><td>0.5792597</td><td>0.5792666</td><td>0.5714139</td><td>0.5871193</td><td>0.004006554</td></tr>\n",
       "\t<tr><td>0.3</td><td>0.6179114</td><td>0.6179245</td><td>0.6110211</td><td>0.6248279</td><td>0.003522214</td></tr>\n",
       "\t<tr><td>0.4</td><td>0.6554217</td><td>0.6553690</td><td>0.6493835</td><td>0.6613545</td><td>0.003053888</td></tr>\n",
       "\t<tr><td>0.5</td><td>0.6914625</td><td>0.6913938</td><td>0.6862859</td><td>0.6965017</td><td>0.002606101</td></tr>\n",
       "\t<tr><td>0.6</td><td>0.7257469</td><td>0.7258098</td><td>0.7215240</td><td>0.7300956</td><td>0.002186651</td></tr>\n",
       "\t<tr><td>0.7</td><td>0.7580363</td><td>0.7581691</td><td>0.7546175</td><td>0.7617208</td><td>0.001812100</td></tr>\n",
       "\t<tr><td>0.8</td><td>0.7881446</td><td>0.7879720</td><td>0.7850020</td><td>0.7909420</td><td>0.001515341</td></tr>\n",
       "\t<tr><td>0.9</td><td>0.8159399</td><td>0.8160199</td><td>0.8134111</td><td>0.8186286</td><td>0.001331009</td></tr>\n",
       "\t<tr><td>1.0</td><td>0.8413447</td><td>0.8412583</td><td>0.8386930</td><td>0.8438236</td><td>0.001308854</td></tr>\n",
       "\t<tr><td>1.1</td><td>0.8643339</td><td>0.8658623</td><td>0.8630194</td><td>0.8687052</td><td>0.001450505</td></tr>\n",
       "\t<tr><td>1.2</td><td>0.8849303</td><td>0.8856864</td><td>0.8822809</td><td>0.8890919</td><td>0.001737533</td></tr>\n",
       "\t<tr><td>1.3</td><td>0.9031995</td><td>0.9028581</td><td>0.8987547</td><td>0.9069616</td><td>0.002093656</td></tr>\n",
       "\t<tr><td>1.4</td><td>0.9192433</td><td>0.9189015</td><td>0.9139681</td><td>0.9238348</td><td>0.002517051</td></tr>\n",
       "\t<tr><td>1.5</td><td>0.9331928</td><td>0.9329691</td><td>0.9271795</td><td>0.9387588</td><td>0.002953949</td></tr>\n",
       "\t<tr><td>1.6</td><td>0.9452007</td><td>0.9473961</td><td>0.9407374</td><td>0.9540548</td><td>0.003397351</td></tr>\n",
       "\t<tr><td>1.7</td><td>0.9554345</td><td>0.9576285</td><td>0.9500898</td><td>0.9651671</td><td>0.003846314</td></tr>\n",
       "\t<tr><td>1.8</td><td>0.9640697</td><td>0.9634769</td><td>0.9549293</td><td>0.9720245</td><td>0.004361090</td></tr>\n",
       "\t<tr><td>1.9</td><td>0.9712834</td><td>0.9736454</td><td>0.9641661</td><td>0.9831248</td><td>0.004836485</td></tr>\n",
       "\t<tr><td>2.0</td><td>0.9772499</td><td>0.9746016</td><td>0.9642677</td><td>0.9849355</td><td>0.005272490</td></tr>\n",
       "\t<tr><td>2.1</td><td>0.9821356</td><td>0.9867810</td><td>0.9755291</td><td>0.9980330</td><td>0.005740899</td></tr>\n",
       "\t<tr><td>2.2</td><td>0.9860966</td><td>0.9882683</td><td>0.9761150</td><td>1.0004216</td><td>0.006200778</td></tr>\n",
       "\t<tr><td>2.3</td><td>0.9892759</td><td>0.9893141</td><td>0.9762624</td><td>1.0023658</td><td>0.006659136</td></tr>\n",
       "\t<tr><td>2.4</td><td>0.9918025</td><td>0.9869810</td><td>0.9731280</td><td>1.0008340</td><td>0.007067966</td></tr>\n",
       "\t<tr><td>2.5</td><td>0.9937903</td><td>0.9941503</td><td>0.9793489</td><td>1.0089516</td><td>0.007551865</td></tr>\n",
       "\t<tr><td>2.6</td><td>0.9953388</td><td>1.0038561</td><td>0.9882416</td><td>1.0194706</td><td>0.007966738</td></tr>\n",
       "\t<tr><td>2.7</td><td>0.9965330</td><td>0.9991962</td><td>0.9826990</td><td>1.0156933</td><td>0.008417068</td></tr>\n",
       "\t<tr><td>2.8</td><td>0.9974449</td><td>0.9943165</td><td>0.9771696</td><td>1.0114635</td><td>0.008748585</td></tr>\n",
       "\t<tr><td>2.9</td><td>0.9981342</td><td>1.0032521</td><td>0.9853142</td><td>1.0211899</td><td>0.009152139</td></tr>\n",
       "\t<tr><td>3.0</td><td>0.9986501</td><td>0.9937853</td><td>0.9752855</td><td>1.0122851</td><td>0.009438839</td></tr>\n",
       "</tbody>\n",
       "</table>\n"
      ],
      "text/latex": [
       "A data.frame: 30 × 6\n",
       "\\begin{tabular}{llllll}\n",
       " xs & true & est & lower\\_bound & upper\\_bound & ses\\\\\n",
       " <dbl> & <dbl> & <dbl> & <dbl> & <dbl> & <dbl>\\\\\n",
       "\\hline\n",
       "\t 0.1 & 0.5398278 & 0.5398276 & 0.5310062 & 0.5486491 & 0.004500835\\\\\n",
       "\t 0.2 & 0.5792597 & 0.5792666 & 0.5714139 & 0.5871193 & 0.004006554\\\\\n",
       "\t 0.3 & 0.6179114 & 0.6179245 & 0.6110211 & 0.6248279 & 0.003522214\\\\\n",
       "\t 0.4 & 0.6554217 & 0.6553690 & 0.6493835 & 0.6613545 & 0.003053888\\\\\n",
       "\t 0.5 & 0.6914625 & 0.6913938 & 0.6862859 & 0.6965017 & 0.002606101\\\\\n",
       "\t 0.6 & 0.7257469 & 0.7258098 & 0.7215240 & 0.7300956 & 0.002186651\\\\\n",
       "\t 0.7 & 0.7580363 & 0.7581691 & 0.7546175 & 0.7617208 & 0.001812100\\\\\n",
       "\t 0.8 & 0.7881446 & 0.7879720 & 0.7850020 & 0.7909420 & 0.001515341\\\\\n",
       "\t 0.9 & 0.8159399 & 0.8160199 & 0.8134111 & 0.8186286 & 0.001331009\\\\\n",
       "\t 1.0 & 0.8413447 & 0.8412583 & 0.8386930 & 0.8438236 & 0.001308854\\\\\n",
       "\t 1.1 & 0.8643339 & 0.8658623 & 0.8630194 & 0.8687052 & 0.001450505\\\\\n",
       "\t 1.2 & 0.8849303 & 0.8856864 & 0.8822809 & 0.8890919 & 0.001737533\\\\\n",
       "\t 1.3 & 0.9031995 & 0.9028581 & 0.8987547 & 0.9069616 & 0.002093656\\\\\n",
       "\t 1.4 & 0.9192433 & 0.9189015 & 0.9139681 & 0.9238348 & 0.002517051\\\\\n",
       "\t 1.5 & 0.9331928 & 0.9329691 & 0.9271795 & 0.9387588 & 0.002953949\\\\\n",
       "\t 1.6 & 0.9452007 & 0.9473961 & 0.9407374 & 0.9540548 & 0.003397351\\\\\n",
       "\t 1.7 & 0.9554345 & 0.9576285 & 0.9500898 & 0.9651671 & 0.003846314\\\\\n",
       "\t 1.8 & 0.9640697 & 0.9634769 & 0.9549293 & 0.9720245 & 0.004361090\\\\\n",
       "\t 1.9 & 0.9712834 & 0.9736454 & 0.9641661 & 0.9831248 & 0.004836485\\\\\n",
       "\t 2.0 & 0.9772499 & 0.9746016 & 0.9642677 & 0.9849355 & 0.005272490\\\\\n",
       "\t 2.1 & 0.9821356 & 0.9867810 & 0.9755291 & 0.9980330 & 0.005740899\\\\\n",
       "\t 2.2 & 0.9860966 & 0.9882683 & 0.9761150 & 1.0004216 & 0.006200778\\\\\n",
       "\t 2.3 & 0.9892759 & 0.9893141 & 0.9762624 & 1.0023658 & 0.006659136\\\\\n",
       "\t 2.4 & 0.9918025 & 0.9869810 & 0.9731280 & 1.0008340 & 0.007067966\\\\\n",
       "\t 2.5 & 0.9937903 & 0.9941503 & 0.9793489 & 1.0089516 & 0.007551865\\\\\n",
       "\t 2.6 & 0.9953388 & 1.0038561 & 0.9882416 & 1.0194706 & 0.007966738\\\\\n",
       "\t 2.7 & 0.9965330 & 0.9991962 & 0.9826990 & 1.0156933 & 0.008417068\\\\\n",
       "\t 2.8 & 0.9974449 & 0.9943165 & 0.9771696 & 1.0114635 & 0.008748585\\\\\n",
       "\t 2.9 & 0.9981342 & 1.0032521 & 0.9853142 & 1.0211899 & 0.009152139\\\\\n",
       "\t 3.0 & 0.9986501 & 0.9937853 & 0.9752855 & 1.0122851 & 0.009438839\\\\\n",
       "\\end{tabular}\n"
      ],
      "text/markdown": [
       "\n",
       "A data.frame: 30 × 6\n",
       "\n",
       "| xs &lt;dbl&gt; | true &lt;dbl&gt; | est &lt;dbl&gt; | lower_bound &lt;dbl&gt; | upper_bound &lt;dbl&gt; | ses &lt;dbl&gt; |\n",
       "|---|---|---|---|---|---|\n",
       "| 0.1 | 0.5398278 | 0.5398276 | 0.5310062 | 0.5486491 | 0.004500835 |\n",
       "| 0.2 | 0.5792597 | 0.5792666 | 0.5714139 | 0.5871193 | 0.004006554 |\n",
       "| 0.3 | 0.6179114 | 0.6179245 | 0.6110211 | 0.6248279 | 0.003522214 |\n",
       "| 0.4 | 0.6554217 | 0.6553690 | 0.6493835 | 0.6613545 | 0.003053888 |\n",
       "| 0.5 | 0.6914625 | 0.6913938 | 0.6862859 | 0.6965017 | 0.002606101 |\n",
       "| 0.6 | 0.7257469 | 0.7258098 | 0.7215240 | 0.7300956 | 0.002186651 |\n",
       "| 0.7 | 0.7580363 | 0.7581691 | 0.7546175 | 0.7617208 | 0.001812100 |\n",
       "| 0.8 | 0.7881446 | 0.7879720 | 0.7850020 | 0.7909420 | 0.001515341 |\n",
       "| 0.9 | 0.8159399 | 0.8160199 | 0.8134111 | 0.8186286 | 0.001331009 |\n",
       "| 1.0 | 0.8413447 | 0.8412583 | 0.8386930 | 0.8438236 | 0.001308854 |\n",
       "| 1.1 | 0.8643339 | 0.8658623 | 0.8630194 | 0.8687052 | 0.001450505 |\n",
       "| 1.2 | 0.8849303 | 0.8856864 | 0.8822809 | 0.8890919 | 0.001737533 |\n",
       "| 1.3 | 0.9031995 | 0.9028581 | 0.8987547 | 0.9069616 | 0.002093656 |\n",
       "| 1.4 | 0.9192433 | 0.9189015 | 0.9139681 | 0.9238348 | 0.002517051 |\n",
       "| 1.5 | 0.9331928 | 0.9329691 | 0.9271795 | 0.9387588 | 0.002953949 |\n",
       "| 1.6 | 0.9452007 | 0.9473961 | 0.9407374 | 0.9540548 | 0.003397351 |\n",
       "| 1.7 | 0.9554345 | 0.9576285 | 0.9500898 | 0.9651671 | 0.003846314 |\n",
       "| 1.8 | 0.9640697 | 0.9634769 | 0.9549293 | 0.9720245 | 0.004361090 |\n",
       "| 1.9 | 0.9712834 | 0.9736454 | 0.9641661 | 0.9831248 | 0.004836485 |\n",
       "| 2.0 | 0.9772499 | 0.9746016 | 0.9642677 | 0.9849355 | 0.005272490 |\n",
       "| 2.1 | 0.9821356 | 0.9867810 | 0.9755291 | 0.9980330 | 0.005740899 |\n",
       "| 2.2 | 0.9860966 | 0.9882683 | 0.9761150 | 1.0004216 | 0.006200778 |\n",
       "| 2.3 | 0.9892759 | 0.9893141 | 0.9762624 | 1.0023658 | 0.006659136 |\n",
       "| 2.4 | 0.9918025 | 0.9869810 | 0.9731280 | 1.0008340 | 0.007067966 |\n",
       "| 2.5 | 0.9937903 | 0.9941503 | 0.9793489 | 1.0089516 | 0.007551865 |\n",
       "| 2.6 | 0.9953388 | 1.0038561 | 0.9882416 | 1.0194706 | 0.007966738 |\n",
       "| 2.7 | 0.9965330 | 0.9991962 | 0.9826990 | 1.0156933 | 0.008417068 |\n",
       "| 2.8 | 0.9974449 | 0.9943165 | 0.9771696 | 1.0114635 | 0.008748585 |\n",
       "| 2.9 | 0.9981342 | 1.0032521 | 0.9853142 | 1.0211899 | 0.009152139 |\n",
       "| 3.0 | 0.9986501 | 0.9937853 | 0.9752855 | 1.0122851 | 0.009438839 |\n",
       "\n"
      ],
      "text/plain": [
       "   xs  true      est       lower_bound upper_bound ses        \n",
       "1  0.1 0.5398278 0.5398276 0.5310062   0.5486491   0.004500835\n",
       "2  0.2 0.5792597 0.5792666 0.5714139   0.5871193   0.004006554\n",
       "3  0.3 0.6179114 0.6179245 0.6110211   0.6248279   0.003522214\n",
       "4  0.4 0.6554217 0.6553690 0.6493835   0.6613545   0.003053888\n",
       "5  0.5 0.6914625 0.6913938 0.6862859   0.6965017   0.002606101\n",
       "6  0.6 0.7257469 0.7258098 0.7215240   0.7300956   0.002186651\n",
       "7  0.7 0.7580363 0.7581691 0.7546175   0.7617208   0.001812100\n",
       "8  0.8 0.7881446 0.7879720 0.7850020   0.7909420   0.001515341\n",
       "9  0.9 0.8159399 0.8160199 0.8134111   0.8186286   0.001331009\n",
       "10 1.0 0.8413447 0.8412583 0.8386930   0.8438236   0.001308854\n",
       "11 1.1 0.8643339 0.8658623 0.8630194   0.8687052   0.001450505\n",
       "12 1.2 0.8849303 0.8856864 0.8822809   0.8890919   0.001737533\n",
       "13 1.3 0.9031995 0.9028581 0.8987547   0.9069616   0.002093656\n",
       "14 1.4 0.9192433 0.9189015 0.9139681   0.9238348   0.002517051\n",
       "15 1.5 0.9331928 0.9329691 0.9271795   0.9387588   0.002953949\n",
       "16 1.6 0.9452007 0.9473961 0.9407374   0.9540548   0.003397351\n",
       "17 1.7 0.9554345 0.9576285 0.9500898   0.9651671   0.003846314\n",
       "18 1.8 0.9640697 0.9634769 0.9549293   0.9720245   0.004361090\n",
       "19 1.9 0.9712834 0.9736454 0.9641661   0.9831248   0.004836485\n",
       "20 2.0 0.9772499 0.9746016 0.9642677   0.9849355   0.005272490\n",
       "21 2.1 0.9821356 0.9867810 0.9755291   0.9980330   0.005740899\n",
       "22 2.2 0.9860966 0.9882683 0.9761150   1.0004216   0.006200778\n",
       "23 2.3 0.9892759 0.9893141 0.9762624   1.0023658   0.006659136\n",
       "24 2.4 0.9918025 0.9869810 0.9731280   1.0008340   0.007067966\n",
       "25 2.5 0.9937903 0.9941503 0.9793489   1.0089516   0.007551865\n",
       "26 2.6 0.9953388 1.0038561 0.9882416   1.0194706   0.007966738\n",
       "27 2.7 0.9965330 0.9991962 0.9826990   1.0156933   0.008417068\n",
       "28 2.8 0.9974449 0.9943165 0.9771696   1.0114635   0.008748585\n",
       "29 2.9 0.9981342 1.0032521 0.9853142   1.0211899   0.009152139\n",
       "30 3.0 0.9986501 0.9937853 0.9752855   1.0122851   0.009438839"
      ]
     },
     "metadata": {},
     "output_type": "display_data"
    }
   ],
   "source": [
    "xs = seq(0.1, 3, 0.1)\n",
    "n = 10000\n",
    "true = rep(NA, length(xs))\n",
    "est = rep(NA, length(xs))\n",
    "error = rep(NA, length(xs))\n",
    "ses = rep(NA, length(xs))\n",
    "upper_bound = rep(NA, length(xs))\n",
    "lower_bound = rep(NA, length(xs))\n",
    "\n",
    "for (i in 1:length(xs)){\n",
    "    x = xs[i]\n",
    "    u = runif(n)\n",
    "    true[i] = pnorm(x) # compare to true\n",
    "    theta_hat = 0.5 + x*mean(hx(x, u))*(1/sqrt(2*pi))\n",
    "    est[i] = theta_hat # calculate estimate\n",
    "    se = sqrt(sum((x * hx(x, u) * (1 / sqrt(2 * pi) + 0.5) - theta_hat)^2)) / n\n",
    "    ses[i] = se\n",
    "    z = qnorm(0.025, lower.tail = FALSE)\n",
    "    CI = c(theta_hat - se * z, theta_hat + se * z)\n",
    "    lower_bound[i] = CI[1]\n",
    "    upper_bound[i] = CI[2]\n",
    "}\n",
    "\n",
    "data.frame(xs, true, est, lower_bound, upper_bound, ses)"
   ]
  },
  {
   "cell_type": "code",
   "execution_count": 32,
   "metadata": {
    "vscode": {
     "languageId": "r"
    }
   },
   "outputs": [
    {
     "data": {
      "image/png": "[encoded data removed]",
      "text/plain": [
       "plot without title"
      ]
     },
     "metadata": {
      "image/png": {
       "height": 420,
       "width": 420
      }
     },
     "output_type": "display_data"
    }
   ],
   "source": [
    "plot(xs, true, 'l', col = 1)\n",
    "lines(xs, est, col = 2)\n",
    "lines(xs, upper_bound, col = 3)\n",
    "lines(xs, lower_bound, col = 3)\n",
    "legend(\"bottomright\", legend=c(\"True\", \"Estimate\", \"95% CI\"), col=c(1, 2, 3),  lty=1)"
   ]
  },
  {
   "cell_type": "code",
   "execution_count": null,
   "metadata": {
    "vscode": {
     "languageId": "r"
    }
   },
   "outputs": [],
   "source": []
  }
 ],
 "metadata": {
  "kernelspec": {
   "display_name": "R",
   "language": "R",
   "name": "ir"
  },
  "language_info": {
   "codemirror_mode": "r",
   "file_extension": ".r",
   "mimetype": "text/x-r-source",
   "name": "R",
   "pygments_lexer": "r",
   "version": "4.2.2"
  },
  "orig_nbformat": 4
 },
 "nbformat": 4,
 "nbformat_minor": 2
}

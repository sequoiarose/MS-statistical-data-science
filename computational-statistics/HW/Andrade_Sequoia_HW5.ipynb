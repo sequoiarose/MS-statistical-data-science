{
 "cells": [
  {
   "cell_type": "markdown",
   "metadata": {},
   "source": [
    "<h1><center> Math761 - HW 5 <br>\n",
    "MC Integration and Importance Sampling </center> </h1>\n"
   ]
  },
  {
   "cell_type": "markdown",
   "metadata": {},
   "source": [
    "### Exercise 1: Compare MC Integrals\n",
    "\n",
    "Compute two MC estimates of\n",
    "\n",
    "$$\n",
    "\\theta = \\int_{0}^{0.5} e^{-x}dx.\n",
    "$$\n",
    "\n",
    "a) First, generate $\\hat{\\theta}$ by sampling from Uniform(0, 0.5) 10000 times, and also estimate the variance of $\\hat{\\theta}$. \n",
    "\n",
    "**Solution**\n",
    "To generate $\\hat{\\theta}$ with monte carlo integration, consider:\n",
    "\n",
    "$$E_f[h(x)]=\\int_{x} h(x)f(x)dx$$\n",
    "\n",
    "In this case we have $h(x) = e^{-x}$ and $f(x) = \\frac{1}{0.5}$, since $x\\sim Uniform(0, 0.5)$. Hence we will be really sampling:\n",
    "\n",
    "$$E_f[h(x)]=\\int_{0}^{0.5} e^{-x}\\frac{1}{0.5}dx=\\frac{1}{0.5}\\int_{0}^{0.5} e^{-x}dx$$\n",
    "\n",
    "Since we want $\\int_{0}^{0.5} e^{-x}dx$:\n",
    "\n",
    "$$ \\int_{0}^{0.5} e^{-x}dx =E_f[h(x)]*0.5$$\n",
    "\n",
    "We end up with the estimate $\\hat{\\theta}=0.3925$ and $Var(\\hat{\\theta}) = 0.0006$ "
   ]
  },
  {
   "cell_type": "code",
   "execution_count": 1,
   "metadata": {
    "vscode": {
     "languageId": "r"
    }
   },
   "outputs": [],
   "source": [
    "# a) \n",
    "n = 10000\n",
    "u = runif(n, 0, 0.5)\n",
    "theta_hats = exp(-u)*(0.5)\n",
    "theta_hat = mean(theta_hats)\n",
    "se_hat = sqrt(var(theta_hats)/n)"
   ]
  },
  {
   "cell_type": "code",
   "execution_count": 2,
   "metadata": {
    "vscode": {
     "languageId": "r"
    }
   },
   "outputs": [
    {
     "data": {
      "text/html": [
       "0.00056524263901662"
      ],
      "text/latex": [
       "0.00056524263901662"
      ],
      "text/markdown": [
       "0.00056524263901662"
      ],
      "text/plain": [
       "[1] 0.0005652426"
      ]
     },
     "metadata": {},
     "output_type": "display_data"
    },
    {
     "data": {
      "text/html": [
       "0.393074512117898"
      ],
      "text/latex": [
       "0.393074512117898"
      ],
      "text/markdown": [
       "0.393074512117898"
      ],
      "text/plain": [
       "[1] 0.3930745"
      ]
     },
     "metadata": {},
     "output_type": "display_data"
    }
   ],
   "source": [
    "se_hat; theta_hat"
   ]
  },
  {
   "cell_type": "markdown",
   "metadata": {},
   "source": [
    "b) Second, find another MC estimator $\\tilde{\\theta}$ by sampling from the exponential distribution 10,000 times, and also estimate the variance of $\\tilde{\\theta}$.\n",
    "\n",
    "**Solution**\n",
    "\n",
    "In this case we can use importance sampling, by sampling from $g(x)=exp(1)$. \n",
    "\n",
    "$$E_g[h(x)\\frac{f(x)}{g(x)}]=\\int_{x} h(x)f(x)\\frac{g(x)}{g(x)}dx$$\n",
    "\n",
    "$$E_g[h(x)\\frac{f(x)}{g(x)}]=\\int_{x} h(x)\\frac{1}{0.5}dx$$\n",
    "\n",
    "$$E_g[h(x)\\frac{f(x)}{g(x)}]*0.5=\\int_{x} h(x)dx$$\n",
    "\n",
    "Here $h(x) = e^{-x}$ and $f(x) = \\frac{1}{0.5}$.\n",
    "\n",
    "Hence the weights are $w(i) = \\frac{1/0.5}{g(x_i)} = \\frac{2}{g(x_i)}$ and the estimate is: \n",
    "\n",
    "$$E_g[h(x)\\frac{f(x)}{g(x)}] \\approx \\frac{1}{n} \\sum_{i=1}^n w_i h(x_i) $$\n",
    "\n",
    "Then we get: \n",
    "$$ \\tilde{\\theta} = 0.5* \\frac{1}{n} \\sum_{i=1}^n w_i h(x_i) $$\n",
    "\n",
    "We end up with the estimate $\\tilde{\\theta}=0.3921$ and $Var(\\hat{\\theta}) = 0.0049$ \n",
    "Something interesting about this method is that it only returns ones and zeros when sampling from exp(1). The sample average ends up still estimating the integral well."
   ]
  },
  {
   "cell_type": "code",
   "execution_count": 3,
   "metadata": {
    "vscode": {
     "languageId": "r"
    }
   },
   "outputs": [],
   "source": [
    "n = 10000\n",
    "X = c()\n",
    "weights = rep(NA, n)\n",
    "theta_tildes = rep(NA, n)\n",
    "\n",
    "for (i in 1:n){\n",
    "    x = rexp(1, rate=1)\n",
    "    # while (x>0.5) {\n",
    "    #      x = rexp(1, rate=2)\n",
    "    # }\n",
    "    X[i] = x\n",
    "    weights[i] = dunif(X[i], 0, 0.5)/ dexp(X[i], rate=1)#/ dexp(0.5, rate=2))\n",
    "    theta_tildes[i] = weights[i]*exp(-1*X[i])*0.5\n",
    "}\n",
    "\n",
    "theta_tilde = mean(theta_tildes)\n",
    "se_tilde = sqrt(var(theta_tildes)/n)"
   ]
  },
  {
   "cell_type": "code",
   "execution_count": 4,
   "metadata": {
    "vscode": {
     "languageId": "r"
    }
   },
   "outputs": [
    {
     "data": {
      "text/html": [
       "0.00488176803688137"
      ],
      "text/latex": [
       "0.00488176803688137"
      ],
      "text/markdown": [
       "0.00488176803688137"
      ],
      "text/plain": [
       "[1] 0.004881768"
      ]
     },
     "metadata": {},
     "output_type": "display_data"
    },
    {
     "data": {
      "text/html": [
       "0.3918"
      ],
      "text/latex": [
       "0.3918"
      ],
      "text/markdown": [
       "0.3918"
      ],
      "text/plain": [
       "[1] 0.3918"
      ]
     },
     "metadata": {},
     "output_type": "display_data"
    }
   ],
   "source": [
    "se_tilde; theta_tilde"
   ]
  },
  {
   "cell_type": "code",
   "execution_count": 5,
   "metadata": {
    "vscode": {
     "languageId": "r"
    }
   },
   "outputs": [
    {
     "data": {
      "text/plain": [
       "theta_tildes\n",
       "   0    1 \n",
       "6082 3918 "
      ]
     },
     "metadata": {},
     "output_type": "display_data"
    }
   ],
   "source": [
    "table(theta_tildes)"
   ]
  },
  {
   "cell_type": "markdown",
   "metadata": {},
   "source": [
    "c) Create a side-by-side boxplot of the 10,000 runs of these two estimators.\n",
    "\n",
    "**Solution**\n",
    "\n",
    "See plot"
   ]
  },
  {
   "cell_type": "code",
   "execution_count": 6,
   "metadata": {
    "vscode": {
     "languageId": "r"
    }
   },
   "outputs": [
    {
     "data": {
      "image/png": "[encoded data removed]",
      "text/plain": [
       "plot without title"
      ]
     },
     "metadata": {
      "image/png": {
       "height": 420,
       "width": 420
      }
     },
     "output_type": "display_data"
    }
   ],
   "source": [
    "#c)\n",
    "boxplot(theta_hats, theta_tildes, names = c(\"theta_hat\", \"theta_tilde\"), ylim=c(0,1))\n",
    "means = c(theta_hat, theta_tilde)                   # Store means\n",
    "points(c(1,2), means, pch = 21, cex =1.5, bg = \"blue\")   # Label mean on boxplot"
   ]
  },
  {
   "cell_type": "markdown",
   "metadata": {},
   "source": [
    "d) Compute the theoretical value of $\\theta$.\n",
    "\n",
    "**Solution**\n",
    "\n",
    "We can find the theoretical value by manually performing the integration\n",
    "\n",
    "$$\\theta =\\int_{0}^{0.5} e^{-x}dx =  -e^{-x}|_0 ^{0.5} = -e^{-0.5}+ e*0= -e^0.5 + 1 = 0.393469$$"
   ]
  },
  {
   "cell_type": "code",
   "execution_count": 7,
   "metadata": {
    "vscode": {
     "languageId": "r"
    }
   },
   "outputs": [
    {
     "data": {
      "text/html": [
       "0.393469340287367"
      ],
      "text/latex": [
       "0.393469340287367"
      ],
      "text/markdown": [
       "0.393469340287367"
      ],
      "text/plain": [
       "[1] 0.3934693"
      ]
     },
     "metadata": {},
     "output_type": "display_data"
    }
   ],
   "source": [
    "1-exp(-0.5)"
   ]
  },
  {
   "cell_type": "markdown",
   "metadata": {},
   "source": [
    "e) Which of the variances of  $\\hat{\\theta}$ and $\\tilde{\\theta}$ is smaller. Explain using the idea of efficiency.\n",
    "\n",
    "**Solution**\n",
    "\n",
    "The variance for $\\hat{\\theta}$ is smaller than the varaince for  $\\tilde{\\theta}$. Efficiency is a metric used to compare estimators and is defined as the ratio of the variances from two estimators. In this case, the efficiency is given by:\n",
    "\n",
    "$$\\frac{se_{\\hat{\\theta}}}{se_{\\tilde{\\theta}}} = \\frac{0.00056524}{0.004881768} = 0.116 $$\n",
    "\n",
    "Indicating $\\hat{\\theta}$ is more efficient that $\\tilde{\\theta}$. We can also clearly see this from the boxplot, where $\\tilde{\\theta}$ spans the range from $[0,1]$, while $\\hat{\\theta}$ has a much smaller spread of data."
   ]
  },
  {
   "cell_type": "code",
   "execution_count": 10,
   "metadata": {
    "vscode": {
     "languageId": "r"
    }
   },
   "outputs": [
    {
     "data": {
      "text/html": [
       "0.115786459894501"
      ],
      "text/latex": [
       "0.115786459894501"
      ],
      "text/markdown": [
       "0.115786459894501"
      ],
      "text/plain": [
       "[1] 0.1157865"
      ]
     },
     "metadata": {},
     "output_type": "display_data"
    }
   ],
   "source": [
    "eff = se_hat/se_tilde\n",
    "eff"
   ]
  },
  {
   "cell_type": "markdown",
   "metadata": {},
   "source": [
    "### Exercise 2: Importance Sampling\n",
    "\n",
    "Obtain Monte Carlo estimates of \n",
    "$$\n",
    "\\int_{1}^{\\infty} \\frac{x^2}{\\sqrt{2\\pi}}e^{-x^2/2}dx\n",
    "$$\n",
    "by importance sampling.\n",
    "\n",
    "a) For this, you must try out four different importance samplers. Use these two\n",
    "   - $$g_1(x) = \\frac{\\sqrt{e}}{2}e^{-x/2} \\text{ for x > 1 }$$\n",
    "   \n",
    "   - $$ g_2(x) = \\frac{e^{1/2.88}}{1.44}xe^{-x^2/4} \\text{ for x > 1}$$\n",
    "   \n",
    "   and also create two of your own. Please give the equations of your two functions. Also plot all four importance functions along with h(x)f(x) on a single plot.\n",
    "\n",
    "**Solution**\n",
    "\n",
    "The two equations I chose are:\n",
    "   - $$g_3(x) = \\frac{1}{2}e^{-x/4} \\text{ for x > 1 }$$\n",
    "   \n",
    "   - $$ g_4(x) = \\sqrt{e}e^{-x} \\text{ for x > 1}$$\n",
    "\n",
    "I really wanted to use $g(x) = \\frac{x}{e} e^{-x^2/4}$ but it does not have an inverse cdf - I figured this out after approximately 10 attempts.\n",
    "\n",
    "These were chosen due to their proximity to the target curve and ease of computation. See the plot below.\n"
   ]
  },
  {
   "cell_type": "code",
   "execution_count": 118,
   "metadata": {
    "vscode": {
     "languageId": "r"
    }
   },
   "outputs": [
    {
     "data": {
      "image/png": "[encoded data removed]",
      "text/plain": [
       "plot without title"
      ]
     },
     "metadata": {
      "image/png": {
       "height": 420,
       "width": 420
      }
     },
     "output_type": "display_data"
    }
   ],
   "source": [
    "curve((x^2)*exp(-(x^2)/2)/(sqrt(2*pi)), 1, 50, n = 1000, xlim=c(1,10), ylim=c(0, 0.5), ylab = \"y\", lwd = 3)\n",
    "curve(sqrt(exp(1))*exp(-x/2)/2, add=TRUE, col=\"orange\", lwd = 3)\n",
    "curve(exp(1/2.88)*x*exp(-(x^2)/2.88)/1.44, add=TRUE, col=\"red\", lwd = 3)\n",
    "curve(exp(-x/4)/2, add=TRUE, col=\"green\", lwd = 3)\n",
    "curve(sqrt(exp(1))*exp(-(x)), add=TRUE, col=\"blue\", lwd = 3)\n",
    "legend(\"topright\", legend=c(\"h(x)f(x)\", \"g1(x)\", \"g2(x)\", \"g3(x)\", \"g4(x)\"), col=c(1, \"orange\", \"red\", \"green\", \"blue\"),  lty=1)"
   ]
  },
  {
   "cell_type": "markdown",
   "metadata": {},
   "source": [
    "\n",
    "b) Use all four $g_{i}(x)$ to obtain MC estimates of the integral, using a sample of 10000 for each importance function, and also report the estimated variance. Put both estimates and variances in a table. Which of your functions is best and why?\n",
    "\n",
    "**Solution:**\n",
    "\n",
    "Let $f(x) = \\frac{1}{\\sqrt{2\\pi}}e^{-x^2/2}$ and $h(x) = x^2$\n",
    "\n",
    "From the resulting table, we see that $g_2$ is the best estimator, followed by $g_4$, $g_3$, and $g_1$. This is due to how closely the curves follow the target distribution. $g_4$ diverges far from the target distribution on the left end, which likely accounts for the error. It is also very possible I made arithmatic errrors when calculating inverse cdfs :)"
   ]
  },
  {
   "cell_type": "code",
   "execution_count": 6,
   "metadata": {
    "vscode": {
     "languageId": "r"
    }
   },
   "outputs": [],
   "source": [
    "h_x <- function(x){\n",
    "    return (x^2)\n",
    "} "
   ]
  },
  {
   "cell_type": "markdown",
   "metadata": {},
   "source": [
    "First, use inverse transform to sample from $g_1(x)$:\n",
    "\n",
    "$$g_1(x) = \\frac{\\sqrt{e}}{2}e^{-x/2} \\text{ for x > 1 }$$\n",
    "\n",
    "1. CDF\n",
    "\n",
    "$$G_1(x) = \\int_1 ^ x \\frac{\\sqrt{e}}{2}e^{-s/2} ds$$\n",
    "\n",
    "$$G_1(x) =\\sqrt{e} \\int_1 ^ x \\frac{1}{2}e^{-s/2} ds = -\\sqrt{e}[e^{-s /2}]_1^x$$\n",
    "\n",
    "$$= -\\sqrt{e}[e^{-x /2} - e^{-1/2}] = -\\sqrt{e}e^{-x /2} +1 = 1-\\sqrt{e}e^{-x /2}$$\n",
    "\n",
    "2. Inverse CDF\n",
    "\n",
    "$$y=1-\\sqrt{e}e^{-x /2}$$\n",
    "\n",
    "$$\\frac{1-y}{\\sqrt{e}} = e^{-x /2}$$\n",
    "\n",
    "$$ln(\\frac{1-y}{\\sqrt{e}} ) = -x/2$$\n",
    "\n",
    "$$-2ln(\\frac{1-y}{\\sqrt{e}} ) = x$$\n",
    "\n",
    "$$x=1-2ln(1-y)$$\n",
    "\n",
    "Next, $g_2(x)$:\n",
    "\n",
    "1. CDF\n",
    "\n",
    "$$ g_2(x) = \\frac{e^{1/2.88}}{1.44}xe^{-x^2/2.88} \\text{ for x > 1}$$\n",
    "\n",
    "$$ G_2(x) = \\int_1^x \\frac{e^{1/2.88}}{1.44}se^{-s^2/2.88} ds =  \\int_1^x \\frac{e^{1/2.88}}{1.44} se^{-s^2/2.88} ds $$\n",
    "\n",
    "$$= e^{1/2.88}[e^{-s^2/4}]_1^x= e^{1/2.88}[e^{-x^2/2.88} - e^{-1/2.88}]$$\n",
    "\n",
    "2. Inverse CDF\n",
    "\n",
    "$$y =e^{1/2.88}[e^{-x^2/2.88} - e^{-1/2.88}]$$\n",
    "$$\\frac{y}{e^{1/2.88}} + e^{-1/2.88} = e^{-x^2/2.88}$$\n",
    "$$ln(\\frac{y}{e^{1/2.88}}) + ln(e^{-1/2.88}) = \\frac{-x^2}{2.88}$$\n",
    "\n",
    "$$x = \\sqrt{2-2.88ln(y)}$$\n",
    "\n",
    "Next, $g_3(x)$:\n",
    "\n",
    "$$g_3(x) = \\frac{x}{2}e^{-x^2/4} \\text{ for x > 1 }$$\n",
    "\n",
    "1. CDF\n",
    "\n",
    "$$G_3(x) = \\int_1^x\\frac{1}{2}e^{-s/4} ds = \\frac{-1}{2} [e^{-s/4}]|_1^x$$\n",
    "$$= \\frac{-1}{2} [e^{-x/4} - e^{-1/4}]$$\n",
    "\n",
    "2. Inverse CDF\n",
    "\n",
    "$$y = \\frac{-1}{2} [e^{-x/4} - e^{-1/4}]$$\n",
    "\n",
    "$$- 2y +e^{-1/4} = e^{-x^4}$$\n",
    "\n",
    "$$\\frac{-1}{4} - ln(2y) = -x/4$$\n",
    "\n",
    "$$4 + 4ln(2y) = x$$\n",
    "\n",
    "Finally, for $g_4(x)$:\n",
    "\n",
    "$$ g_4(x) = \\sqrt{e}e^{-x} \\text{ for x > 1}$$\n",
    "\n",
    "1. CDF:\n",
    "\n",
    "$$G_4(x) = \\int_1^x \\sqrt{e}e^{-s} ds= \\sqrt{e}\\int_1^x e^{-s} ds$$\n",
    "\n",
    "$$=-\\sqrt{e}[e^{-x}]_1^x = -\\sqrt{e}[e^{-x} - e^{-1}]$$\n",
    "\n",
    "2. Inverse CDF:\n",
    "\n",
    "$$y= -\\sqrt{e}[e^{-x} - e^{-1}]$$\n",
    "\n",
    "$$\\frac{-y}{\\sqrt{e}} + e^{-1}= e^{-x}$$\n",
    "$$-(ln(y)-0.5) -1= -ln(y) -0.5= -x$$\n",
    "$$ln(y) +0.5 = x$$"
   ]
  },
  {
   "cell_type": "code",
   "execution_count": 7,
   "metadata": {
    "vscode": {
     "languageId": "r"
    }
   },
   "outputs": [],
   "source": [
    "n = 10000\n",
    "est_1 = rep(NA, n)\n",
    "est_2 = rep(NA, n)\n",
    "est_3 = rep(NA, n)\n",
    "est_4 = rep(NA, n)"
   ]
  },
  {
   "cell_type": "code",
   "execution_count": 8,
   "metadata": {
    "vscode": {
     "languageId": "r"
    }
   },
   "outputs": [],
   "source": [
    "# g1\n",
    "inv_g1 = function(u){\n",
    "    return (1-2*log(1-u))\n",
    "}\n",
    "\n",
    "g1 = function (u) {\n",
    "    return((sqrt(exp(1))/2)*exp(-u/2))\n",
    "}"
   ]
  },
  {
   "cell_type": "code",
   "execution_count": 9,
   "metadata": {
    "vscode": {
     "languageId": "r"
    }
   },
   "outputs": [],
   "source": [
    "u = runif(n, 0, 1)\n",
    "X = inv_g1(u)\n",
    "weights = (dnorm(X))/g1(X)\n",
    "est_1 = weights*h_x(X)"
   ]
  },
  {
   "cell_type": "code",
   "execution_count": 10,
   "metadata": {
    "vscode": {
     "languageId": "r"
    }
   },
   "outputs": [
    {
     "data": {
      "text/html": [
       "0.400202539310567"
      ],
      "text/latex": [
       "0.400202539310567"
      ],
      "text/markdown": [
       "0.400202539310567"
      ],
      "text/plain": [
       "[1] 0.4002025"
      ]
     },
     "metadata": {},
     "output_type": "display_data"
    }
   ],
   "source": [
    "mean(est_1)"
   ]
  },
  {
   "cell_type": "code",
   "execution_count": 34,
   "metadata": {
    "vscode": {
     "languageId": "r"
    }
   },
   "outputs": [],
   "source": [
    "# g2\n",
    "inv_g2 = function(u){\n",
    "    return (sqrt(2-2.88*log(u)))\n",
    "}\n",
    "\n",
    "g2 = function(u){\n",
    "    return((exp(1/2.88)/1.44)*u*exp((-u^2)/2.88))\n",
    "}"
   ]
  },
  {
   "cell_type": "code",
   "execution_count": 35,
   "metadata": {
    "vscode": {
     "languageId": "r"
    }
   },
   "outputs": [],
   "source": [
    "X = rep(NA, n)\n",
    "u = runif(n, 0, 1)\n",
    "X = inv_g2(u)\n",
    "weights = (dnorm(X))/g2(X)\n",
    "est_2 = weights*h_x(X)"
   ]
  },
  {
   "cell_type": "code",
   "execution_count": 43,
   "metadata": {
    "vscode": {
     "languageId": "r"
    }
   },
   "outputs": [],
   "source": [
    "# g(3) \n",
    "inv_g3 = function(u){\n",
    "    return ((4 + 4*log(2*u)))\n",
    "}\n",
    "\n",
    "g3 = function(u){\n",
    "    return((u/2)*exp((-(u^2))/4))\n",
    "}"
   ]
  },
  {
   "cell_type": "code",
   "execution_count": 44,
   "metadata": {
    "vscode": {
     "languageId": "r"
    }
   },
   "outputs": [],
   "source": [
    "u = runif(n, 0, 1)\n",
    "X = inv_g3(u)\n",
    "weights = (dnorm(X))/g3(X)\n",
    "est_3 = weights*h_x(X)"
   ]
  },
  {
   "cell_type": "code",
   "execution_count": 45,
   "metadata": {
    "vscode": {
     "languageId": "r"
    }
   },
   "outputs": [],
   "source": [
    "inv_g4 = function(u){\n",
    "    return(log(u)+0.5)\n",
    "}\n",
    "\n",
    "g4 = function(u){\n",
    "    return(sqrt(exp(1))*exp(-u)) \n",
    "}"
   ]
  },
  {
   "cell_type": "code",
   "execution_count": 46,
   "metadata": {
    "vscode": {
     "languageId": "r"
    }
   },
   "outputs": [
    {
     "data": {
      "text/html": [
       "0.0280110018616573"
      ],
      "text/latex": [
       "0.0280110018616573"
      ],
      "text/markdown": [
       "0.0280110018616573"
      ],
      "text/plain": [
       "[1] 0.028011"
      ]
     },
     "metadata": {},
     "output_type": "display_data"
    }
   ],
   "source": [
    "u = runif(n, 0, 1)\n",
    "X = inv_g4(u)\n",
    "weights = (dnorm(X))/g4(X)\n",
    "est_4 = weights*h_x(X)\n",
    "mean(est_4)"
   ]
  },
  {
   "cell_type": "code",
   "execution_count": 47,
   "metadata": {
    "vscode": {
     "languageId": "r"
    }
   },
   "outputs": [
    {
     "data": {
      "text/html": [
       "<table class=\"dataframe\">\n",
       "<caption>A data.frame: 2 × 4</caption>\n",
       "<thead>\n",
       "\t<tr><th></th><th scope=col>res_1</th><th scope=col>res_2</th><th scope=col>res_3</th><th scope=col>res_4</th></tr>\n",
       "\t<tr><th></th><th scope=col>&lt;dbl&gt;</th><th scope=col>&lt;dbl&gt;</th><th scope=col>&lt;dbl&gt;</th><th scope=col>&lt;dbl&gt;</th></tr>\n",
       "</thead>\n",
       "<tbody>\n",
       "\t<tr><th scope=row>estimate</th><td>0.400563567</td><td>0.4050710537</td><td>0.065624919</td><td>0.028011002</td></tr>\n",
       "\t<tr><th scope=row>variance</th><td>0.003017425</td><td>0.0006401261</td><td>0.002745248</td><td>0.000227502</td></tr>\n",
       "</tbody>\n",
       "</table>\n"
      ],
      "text/latex": [
       "A data.frame: 2 × 4\n",
       "\\begin{tabular}{r|llll}\n",
       "  & res\\_1 & res\\_2 & res\\_3 & res\\_4\\\\\n",
       "  & <dbl> & <dbl> & <dbl> & <dbl>\\\\\n",
       "\\hline\n",
       "\testimate & 0.400563567 & 0.4050710537 & 0.065624919 & 0.028011002\\\\\n",
       "\tvariance & 0.003017425 & 0.0006401261 & 0.002745248 & 0.000227502\\\\\n",
       "\\end{tabular}\n"
      ],
      "text/markdown": [
       "\n",
       "A data.frame: 2 × 4\n",
       "\n",
       "| <!--/--> | res_1 &lt;dbl&gt; | res_2 &lt;dbl&gt; | res_3 &lt;dbl&gt; | res_4 &lt;dbl&gt; |\n",
       "|---|---|---|---|---|\n",
       "| estimate | 0.400563567 | 0.4050710537 | 0.065624919 | 0.028011002 |\n",
       "| variance | 0.003017425 | 0.0006401261 | 0.002745248 | 0.000227502 |\n",
       "\n"
      ],
      "text/plain": [
       "         res_1       res_2        res_3       res_4      \n",
       "estimate 0.400563567 0.4050710537 0.065624919 0.028011002\n",
       "variance 0.003017425 0.0006401261 0.002745248 0.000227502"
      ]
     },
     "metadata": {},
     "output_type": "display_data"
    }
   ],
   "source": [
    "res_1 = c(mean(est_1), sqrt(var(est_1)/n))\n",
    "res_2 = c(mean(est_2), sqrt(var(est_2)/n))\n",
    "res_3 = c(mean(est_3), sqrt(var(est_3)/n))\n",
    "res_4 = c(mean(est_4), sqrt(var(est_4)/n))\n",
    "results = data.frame(res_1, res_2, res_3, res_4, row.names=c(\"estimate\", \"variance\"))\n",
    "results"
   ]
  },
  {
   "cell_type": "markdown",
   "metadata": {},
   "source": [
    "## Exercise 3\n",
    "\n",
    "Recall from class that it is possible to create estimates of $\\Phi(x)= \\int_{-\\infty}^x \\frac{1}{\\sqrt{2\\pi}} e^{-s^2/2} ds$ by generating random variables from $U(0,x)$.\n",
    "\n",
    "a) Show the math that justifies how you can form an estimate of $\\Phi(x)$ by using $U(0, x)$ random variables. Hint: this should look similar to the reasoning for the $U(a, b)$ example from class.\n",
    "\n",
    "**Solution**\n",
    "\n",
    "We can estimate $\\Phi(x)$ from sampling from $U(0, x)$ similar to sampling from $U(0, 1)$. \n",
    "\n",
    "Recall that we are really estimating $E_{u(0,x)}[h(u)] = \\int_{-\\infty}^x  h(u)f(u)du$. In the case of $\\Phi$, we set $h(u) = e^{-u^2/2}$ and $f(u) = \\frac{1}{x}$ since $U\\sim U(0,x)$. Then the integral becomes:\n",
    "\n",
    "$$\\int_{-\\infty}^x e^{-u^2/2} \\frac{1}{x} du = \\frac{1}{x}\\int_{-\\infty}^x e^{-u^2/2} du$$\n",
    "\n",
    "Then to get the integral we want, we must multiply by $x$:\n",
    "\n",
    "$$\\Phi(x)= 0.5 + \\frac{1}{\\sqrt{2\\pi}} x E_{u(0,x)}[h(u)] = (\\frac{1}{\\sqrt{2\\pi}} x) \\frac{1}{n}(\\sum_{i=1}^n h(u_i))$$\n",
    "\n",
    "Thus we can form an estimate of $\\Phi(x)$ by using $U(0, x)$ random variables by sampling from $u_i\\sim U(0,x)$, taking the sample mean of $h(u)$ where $h(u) = e^{-u^2/2}$, multiplying by $x$ and $\\frac{1}{\\sqrt{2\\pi}}$, and adding 0.5 to account for the area from $(-\\infty, 0)$.\n",
    "\n",
    "\n",
    "b) Estimate $\\Phi(x)$ for a sequence of 10 equally spaced $x$ values from $-2.5$ to $-.1$ and 10 equally spaced $x$ values from from $.1$ to $2.5.$ Then plot these values as a line plot.\n",
    "\n",
    "**Solution**\n",
    "\n",
    "Note that for the $-2.5$ to $-.1$ case, we must sample from unif(x, 0). See the plots below, which include one for the negative x values, one for the positive x values, and one plot with both together."
   ]
  },
  {
   "cell_type": "code",
   "execution_count": 19,
   "metadata": {
    "vscode": {
     "languageId": "r"
    }
   },
   "outputs": [],
   "source": [
    "hx = function(u){\n",
    "        exp((-(u)^2)/2)\n",
    "}"
   ]
  },
  {
   "cell_type": "code",
   "execution_count": 20,
   "metadata": {
    "vscode": {
     "languageId": "r"
    }
   },
   "outputs": [
    {
     "data": {
      "image/png": "[encoded data removed]",
      "text/plain": [
       "plot without title"
      ]
     },
     "metadata": {
      "image/png": {
       "height": 420,
       "width": 420
      }
     },
     "output_type": "display_data"
    }
   ],
   "source": [
    "xs_neg = seq(-2.5, -0.1, length.out=10)\n",
    "n = 1000\n",
    "est_neg = rep(NA, length(xs_neg))\n",
    "true_neg = rep(NA, length(xs_neg))\n",
    "\n",
    "for (i in 1:length(xs_neg)){\n",
    "    x = xs_neg[i]\n",
    "    u = runif(n, min=x, max=0)\n",
    "    est_neg[i] = 0.5 + x*mean(hx(u))*(1/sqrt(2*pi)) \n",
    "    true_neg[i] = pnorm(x)\n",
    "}\n",
    "plot(xs_neg, est_neg, 'l')\n",
    "lines(xs_neg, true_neg, col=\"blue\")\n",
    "legend(\"bottomright\", legend=c(\"Estimate\", \"True\"), col = c(\"black\", \"blue\"), lty=1)"
   ]
  },
  {
   "cell_type": "code",
   "execution_count": 21,
   "metadata": {
    "vscode": {
     "languageId": "r"
    }
   },
   "outputs": [
    {
     "data": {
      "image/png": "[encoded data removed]",
      "text/plain": [
       "plot without title"
      ]
     },
     "metadata": {
      "image/png": {
       "height": 420,
       "width": 420
      }
     },
     "output_type": "display_data"
    }
   ],
   "source": [
    "xs = seq(0.1, 2.5, length.out=10)\n",
    "n = 1000\n",
    "est = rep(NA, length(xs))\n",
    "true = rep(NA, length(xs))\n",
    "for (i in 1:length(xs)){\n",
    "    x = xs[i]\n",
    "    u = runif(n, min=0, max=x)\n",
    "    est[i] = 0.5 + x*mean(hx(u))*(1/sqrt(2*pi))\n",
    "    true[i] = pnorm(x)\n",
    "}\n",
    "\n",
    "plot(xs, est, 'l')\n",
    "lines(xs, true, col=\"blue\")\n",
    "legend(\"bottomright\", legend=c(\"Estimate\", \"True\"), col = c(\"black\", \"blue\"), lty=1)"
   ]
  },
  {
   "cell_type": "code",
   "execution_count": 24,
   "metadata": {
    "vscode": {
     "languageId": "r"
    }
   },
   "outputs": [
    {
     "data": {
      "image/png": "[encoded data removed]",
      "text/plain": [
       "plot without title"
      ]
     },
     "metadata": {
      "image/png": {
       "height": 420,
       "width": 420
      }
     },
     "output_type": "display_data"
    }
   ],
   "source": [
    "plot(c(xs_neg, xs), c(est_neg, est), 'l', xlab=\"x\", ylab=\"Phi(x)\")\n",
    "lines(c(xs_neg, xs), c(true_neg, true), col=\"blue\")\n",
    "legend(\"bottomright\", legend=c(\"Estimate\", \"True\"), col = c(\"black\", \"blue\"), lty=1)"
   ]
  },
  {
   "cell_type": "code",
   "execution_count": null,
   "metadata": {
    "vscode": {
     "languageId": "r"
    }
   },
   "outputs": [],
   "source": []
  }
 ],
 "metadata": {
  "kernelspec": {
   "display_name": "R",
   "language": "R",
   "name": "ir"
  },
  "language_info": {
   "codemirror_mode": "r",
   "file_extension": ".r",
   "mimetype": "text/x-r-source",
   "name": "R",
   "pygments_lexer": "r",
   "version": "4.2.2"
  }
 },
 "nbformat": 4,
 "nbformat_minor": 2
}

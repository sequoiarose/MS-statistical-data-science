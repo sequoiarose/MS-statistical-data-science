{
 "cells": [
  {
   "cell_type": "markdown",
   "metadata": {},
   "source": [
    "# Math 761 HW 6: MCMC, Gibbs Sampler, MH"
   ]
  },
  {
   "attachments": {
    "image.png": {
     "image/png": "[encoded data removed]"
    }
   },
   "cell_type": "markdown",
   "metadata": {},
   "source": [
    "### Exercise 1\n",
    "\n",
    "Cosider a scenario where 16 people stand in a  4x4 grid $\\textbf{X}$ and the Covid status of each person is recorded. One random instance of $\\textbf{X}$ is shown below: \n",
    "\n",
    "![image.png](attachment:image.png)\n",
    "where the person in the $ith$ row and $jth$ column  is \n",
    "\n",
    "$$\n",
    "X_{i, j} = \n",
    "\\begin{cases}\n",
    "0 & \\text{ if they don't have Covid19}\\\\\n",
    "1 & \\text{ if they have Covid19}\n",
    "\\end{cases}\n",
    "$$\n",
    "\n",
    "and the configuration of the grid is determined by the probability model\n",
    "\n",
    "$$\n",
    "P\\{H(\\textbf{X}) = h\\} = \\frac{e^{\\beta h}}{NC},\n",
    "$$\n",
    "\n",
    "where $\\beta>0$ is a constant; $NC$ is a normalizing constant that makes the total probability sum to 1; and $H(\\textbf{X}) = h$ is the sum of number of neighbors each person has (up, down, left, right) that share the same health status. If a person is on an edge or corner, then they may not have some of these neighbors. In the example of\n",
    "$\\textbf{X}$ shown above, $h(\\textbf{X}) = 24$ because\n",
    "\n",
    "| $X_{i,j}$    | Number of same-status neighbors |\n",
    "|-------------|---------------------------------|\n",
    "| $X_{1,1}$   | 0                               |\n",
    "| $X_{1,2}$   | 2                               |\n",
    "| $X_{1,3}$   | 2                               |\n",
    "| $X_{1,4}$   | 2                               |\n",
    "| $X_{2,1}$   | 1                               |\n",
    "| $X_{2,2}$   | 3                               |\n",
    "| $X_{2,3}$   | 1                               |\n",
    "| $X_{2,4}$   | 1                               |\n",
    "| $X_{3,1}$   | 1                               |\n",
    "| $X_{3,2}$   | 1                               |\n",
    "| $X_{3,3}$   | 3                               |\n",
    "| $X_{3,4}$   | 1                               |\n",
    "| $X_{4,1}$   | 2                               |\n",
    "| $X_{4,2}$   | 2                               |\n",
    "| $X_{4,3}$   | 2                               |\n",
    "| $X_{4,4}$   | 0                               |\n",
    "| $sum$ | 24                              |\n",
    "\n",
    "To be extra clear, we get the numbers in the table like so:  the person in the 2nd row and 3rd column is $X_{2,3}$ and has status 0. If we look above, below, left, and right (exclude diagonals) of this person, there is only one other person who shares the same Covid status of 0 ($X_{3,3}$). Therefore the number of same-status neighbors $X_{2,3}$ is 1. We tally up the same-status neighbors for each person in the grid and that value is  $h(\\bf{X})$.\n",
    "\n",
    "Now our goal is to estimate $P\\{H(\\textbf{X})\\leq 11\\}.$ You can probably tell that it is difficult to generate a bunch of 4x4 grids $\\textbf{X}$ directly in order to then calculate what proportion of times $H({X})$ is less than 11. So we will use Gibbs sampling instead to swap between {0,1} status for each person $X_{i,j}$ in turn.\n",
    "\n",
    "\n",
    "a) First, figure out what the conditional probability is for any $X_{i,j}$ to be 0 or 1 by finding the conditional probability of $P\\{H(\\textbf{X})=h|X_{-i,-j}\\}$, where the given $X_{-i,-j}$ represents the fixed covid-statuses of everyone except the (i,j)th person. Hint: $h$ can only take on two different values, and you should use Bayes theorem.\n",
    "\n",
    "\n",
    "b) Create a deterministic Gibbs sampler using a burn-in of 1000 and $\\beta=1/4$. For your results, try to estimate  $P\\{H(\\textbf{X})\\leq 11\\};$  $P\\{H(\\textbf{X})\\leq 15\\}$ ; and  $P\\{H(\\textbf{X})\\leq 20\\}$ using 50 replications of your MCMC code. Report in one table the mean and se for each estimate over the 50 replications. (Thank you!)"
   ]
  },
  {
   "cell_type": "markdown",
   "metadata": {},
   "source": [
    "**Solution**\n",
    " \n",
    " a) $X_{i,j}$ can be 0 or 1, thus $h$ can be one of only two values, $h_0, h_1$. Then we can find the $P\\{H(\\textbf{X})=h_0|X_{-i,-j}\\}$ and $P\\{H(\\textbf{X})=h_1|X_{-i,-j}\\}$. First using Bayes theorem, we can solve for the $h_0$ case:\n",
    "\n",
    "$$P\\{H(\\textbf{X})=h_0|X_{-i,-j}\\} = \\frac{P\\{H(\\textbf{X})=h_0, X_{-i,-j}\\}}{P(X_{-i,-j})}$$\n",
    "$$ = \\frac{P\\{H(\\textbf{X})=h_0, X_{-i,-j}\\}}{P\\{H(\\textbf{X})=h_0, X_{-i,-j}\\} + P\\{H(\\textbf{X})=h_1, X_{-i,-j}\\} }$$\n",
    "$$ = \\frac{P\\{H(\\textbf{X})=h_0\\}}{P\\{H(\\textbf{X})=h_0\\} + P\\{H(\\textbf{X})=h_1\\} }$$\n",
    "Using $P\\{H(\\textbf{X}) = h\\} = \\frac{e^{\\beta h}}{NC}$, this simplifies to:\n",
    "$$ = \\frac{\\frac{e^{\\beta h_0}}{NC}}{\\frac{e^{\\beta h_0}}{NC} + \\frac{e^{\\beta h_1}}{NC} }$$\n",
    "Finally, the normalizing constant cancels out to get:\n",
    "$$P\\{H(\\textbf{X})=h_0|X_{-i,-j}\\}  = \\frac{e^{\\beta h_0}}{e^{\\beta h_0}+e^{\\beta h_1}}$$\n",
    "\n",
    "Using the same process, we also get that:\n",
    "$$P\\{H(\\textbf{X})=h_1|X_{-i,-j}\\}  = \\frac{e^{\\beta h_1}}{e^{\\beta h_0}+e^{\\beta h_1}}$$\n",
    "\n",
    " b) To estimate $P\\{H(\\textbf{X})\\leq h_i\\};$, we can calculate the proportion of samples that are less than $h_i$. The resulting estimates of $P\\{H(\\textbf{X})\\leq 11\\};$  $P\\{H(\\textbf{X})\\leq 15\\}$ ; and  $P\\{H(\\textbf{X})\\leq 20\\}$ are shown in the dataframe below. All probabilities are quite low, indicating $H(\\textbf{X})$ is usually greater than 20."
   ]
  },
  {
   "cell_type": "code",
   "execution_count": 3,
   "metadata": {
    "vscode": {
     "languageId": "r"
    }
   },
   "outputs": [],
   "source": [
    "beta = 1/4\n",
    "\n",
    "h = function(m){\n",
    "    x_max = nrow(m)\n",
    "    y_max = ncol(m)\n",
    "    n = 0\n",
    "    for (i in 1:x_max){\n",
    "        for (j in 1:y_max){\n",
    "            last_state = m[i, j]\n",
    "            if (i<x_max){\n",
    "                # check down\n",
    "                n = n +(last_state == m[i + 1, j])\n",
    "            }\n",
    "            if (i > 1) {\n",
    "                # check up\n",
    "                n = n +(last_state == m[i - 1, j])\n",
    "            }\n",
    "            if (j<y_max){\n",
    "                # check right\n",
    "                n = n +(last_state == m[i, j+1])\n",
    "            }\n",
    "            if (j>1) {\n",
    "                # check left\n",
    "                n = n +(last_state == m[i, j-1])\n",
    "            }\n",
    "        }\n",
    "    }\n",
    "    return(n)\n",
    "}\n",
    "\n",
    "gibbs_step = function(current_x){\n",
    "    for(i in 1:nrow(current_x)){\n",
    "        for (j in 1:ncol(current_x)){\n",
    "            current_x[i,j] = 0\n",
    "            alt_x = current_x\n",
    "            alt_x[i,j] = 1\n",
    "            u = runif(1)\n",
    "            if (u > exp(beta*h(current_x))/(exp(beta*h(current_x))+exp(beta*h(alt_x)))){\n",
    "                current_x = alt_x\n",
    "            }\n",
    "        }\n",
    "    }\n",
    "    return(current_x)\n",
    "}"
   ]
  },
  {
   "cell_type": "code",
   "execution_count": 4,
   "metadata": {
    "vscode": {
     "languageId": "r"
    }
   },
   "outputs": [
    {
     "data": {
      "text/html": [
       "<table class=\"dataframe\">\n",
       "<caption>A data.frame: 3 × 2</caption>\n",
       "<thead>\n",
       "\t<tr><th scope=col>means</th><th scope=col>std_err</th></tr>\n",
       "\t<tr><th scope=col>&lt;dbl&gt;</th><th scope=col>&lt;dbl&gt;</th></tr>\n",
       "</thead>\n",
       "<tbody>\n",
       "\t<tr><td>0.000074</td><td>7.507819e-07</td></tr>\n",
       "\t<tr><td>0.000938</td><td>2.805898e-06</td></tr>\n",
       "\t<tr><td>0.030344</td><td>1.646537e-05</td></tr>\n",
       "</tbody>\n",
       "</table>\n"
      ],
      "text/latex": [
       "A data.frame: 3 × 2\n",
       "\\begin{tabular}{ll}\n",
       " means & std\\_err\\\\\n",
       " <dbl> & <dbl>\\\\\n",
       "\\hline\n",
       "\t 0.000074 & 7.507819e-07\\\\\n",
       "\t 0.000938 & 2.805898e-06\\\\\n",
       "\t 0.030344 & 1.646537e-05\\\\\n",
       "\\end{tabular}\n"
      ],
      "text/markdown": [
       "\n",
       "A data.frame: 3 × 2\n",
       "\n",
       "| means &lt;dbl&gt; | std_err &lt;dbl&gt; |\n",
       "|---|---|\n",
       "| 0.000074 | 7.507819e-07 |\n",
       "| 0.000938 | 2.805898e-06 |\n",
       "| 0.030344 | 1.646537e-05 |\n",
       "\n"
      ],
      "text/plain": [
       "  means    std_err     \n",
       "1 0.000074 7.507819e-07\n",
       "2 0.000938 2.805898e-06\n",
       "3 0.030344 1.646537e-05"
      ]
     },
     "metadata": {},
     "output_type": "display_data"
    }
   ],
   "source": [
    "# Gibbs sampler\n",
    "n = 50\n",
    "p_11 = rep(NA, n)\n",
    "p_15 = rep(NA, n)\n",
    "p_20 = rep(NA, n)\n",
    "burn_in = 1000\n",
    "runs = 10*burn_in\n",
    "\n",
    "for (i in 1:n){\n",
    "    x0 = matrix(rbinom(16, size = 1, p=0.5), nrow=4)\n",
    "    current_x = x0\n",
    "    samples = c()\n",
    "    for(b in 1:burn_in){\n",
    "        current_x = gibbs_step(current_x)\n",
    "    }\n",
    "\n",
    "    for(r in 1:runs){\n",
    "        current_x = gibbs_step(current_x)\n",
    "        samples[r] = h(current_x)\n",
    "    }\n",
    "    p_11[i] = sum(samples <= 11)/runs\n",
    "    p_15[i] = sum(samples <= 15)/runs\n",
    "    p_20[i] = sum(samples <= 20)/runs\n",
    "}\n",
    "\n",
    "means = c(mean(p_11), mean(p_15), mean(p_20))\n",
    "std_err = c(sd(p_11)/sqrt(runs), sd(p_15)/sqrt(runs), sd(p_20)/sqrt(runs))\n",
    "\n",
    "data.frame(means, std_err)"
   ]
  },
  {
   "cell_type": "markdown",
   "metadata": {},
   "source": [
    "### Exercise 2\n",
    "\n",
    "We can actually use the MH sampler to carry out the sampling in the 4x4 gride model that is equivalent to the random scan Gibbs sampler. For this, use a proposal distribution that uniformly picks 1 amongst all the people on the grid and uniformly chooses a 0 or 1 health status for that person, that is\n",
    "\n",
    "$$ g(X_{t+1}|X_{t}) = g(X_{t+1}) = \\frac{1}{16*2}.\n",
    "$$\n",
    "\n",
    "a) Calculate the acceptance probability\n",
    "\n",
    "b) Then estimate  $P\\{H(\\textbf{X})\\leq 11\\};$  $P\\{H(\\textbf{X})\\leq 15\\}$ ; and  $P\\{H(\\textbf{X})\\leq 20\\}$ using 50 replications of your MCMC code. Report in one table the mean and se for each estimate over the 50 replications."
   ]
  },
  {
   "cell_type": "markdown",
   "metadata": {},
   "source": [
    "**Solution**\n",
    "\n",
    "a) The acceptance probability for MH is given by:\n",
    "\n",
    "$$\\alpha _{x_{t},x_{t+1}} = min(1, \\frac{f(x_{t+1})g(x_{t}|x_{t+1})}{f(x_{t})g(x_{t+1}|x_{t})})$$\n",
    "\n",
    "We are given that the proabaility of picking a person is $ g(X_{t+1}|X_{t}) = g(X_{t+1}) = \\frac{1}{16*2}$. Since we are uniformly sampling, $ g(X_{t}|X_{t+1}) = g(X_{t}) = g(X_{t}) = \\frac{1}{16*2}$. That is we are equally likely to have chosen the previous person given the next person. Then the acceptance probability simplifies to:\n",
    "\n",
    "$$\\alpha _{x_{t},x_{t+1}} = min(1, \\frac{f(x_{t+1})}{f(x_{t})})$$\n",
    "\n",
    "In this case, $f(X_{t+1}) = \\frac{\\pi(X_{t+1})}{NC}$ is related to $P\\{H({X_{t+1}}) = h_{t+1}\\} = \\frac{e^{\\beta h_{t+1}}}{NC}$, where $\\pi(X_{t+1})=e^{\\beta h_{t+1}}$. Then the acceptance probability becomes:\n",
    "\n",
    "$$\\alpha _{x_{t},x_{t+1}} = min(1, \\frac{e^{\\beta h_{t+1}}}{e^{\\beta h_{t}}})$$"
   ]
  },
  {
   "cell_type": "markdown",
   "metadata": {},
   "source": [
    "b) The estimates for $P\\{H(\\textbf{X})\\leq 11\\};$  $P\\{H(\\textbf{X})\\leq 15\\}$ ; and  $P\\{H(\\textbf{X})\\leq 20\\}$ are in the table below. The MH sampler was much faster than the gibbs sampler, and the standard error is comparable for the two samplers for $P\\{H(\\textbf{X})\\leq 15\\}$ and  $P\\{H(\\textbf{X})\\leq 20\\}$. The gibbs sampler has a smaller standard error for $P\\{H(\\textbf{X})\\leq 11\\}$ and may be a better estimator in that scenario. Both estimators provide similar values for the mean."
   ]
  },
  {
   "cell_type": "code",
   "execution_count": 24,
   "metadata": {
    "vscode": {
     "languageId": "r"
    }
   },
   "outputs": [],
   "source": [
    "update = function(X){\n",
    "    # get proposed next state\n",
    "    next_state_ind = sample(seq(1,16), 1)\n",
    "    next_state_value = sample(c(0,1), 1)\n",
    "    i = ceiling(next_state_ind/4)\n",
    "    j = (next_state_ind%%4)\n",
    "    if (j==0){\n",
    "        j = 4\n",
    "    }\n",
    "    # check acceptance criteria\n",
    "    alt_x = X\n",
    "    alt_x[i, j] = next_state_value \n",
    "    u = runif(1)\n",
    "    alpha = min(exp(beta*h(alt_x))/exp(beta*h(X)))\n",
    "    if (u<alpha){\n",
    "        X[i, j] = next_state_value\n",
    "    }\n",
    "    return(X)\n",
    "}\n"
   ]
  },
  {
   "cell_type": "code",
   "execution_count": 25,
   "metadata": {
    "vscode": {
     "languageId": "r"
    }
   },
   "outputs": [
    {
     "data": {
      "text/html": [
       "<table class=\"dataframe\">\n",
       "<caption>A data.frame: 3 × 2</caption>\n",
       "<thead>\n",
       "\t<tr><th scope=col>means</th><th scope=col>std_err</th></tr>\n",
       "\t<tr><th scope=col>&lt;dbl&gt;</th><th scope=col>&lt;dbl&gt;</th></tr>\n",
       "</thead>\n",
       "<tbody>\n",
       "\t<tr><td>0.000048</td><td>1.417673e-06</td></tr>\n",
       "\t<tr><td>0.000996</td><td>8.278223e-06</td></tr>\n",
       "\t<tr><td>0.030098</td><td>5.523142e-05</td></tr>\n",
       "</tbody>\n",
       "</table>\n"
      ],
      "text/latex": [
       "A data.frame: 3 × 2\n",
       "\\begin{tabular}{ll}\n",
       " means & std\\_err\\\\\n",
       " <dbl> & <dbl>\\\\\n",
       "\\hline\n",
       "\t 0.000048 & 1.417673e-06\\\\\n",
       "\t 0.000996 & 8.278223e-06\\\\\n",
       "\t 0.030098 & 5.523142e-05\\\\\n",
       "\\end{tabular}\n"
      ],
      "text/markdown": [
       "\n",
       "A data.frame: 3 × 2\n",
       "\n",
       "| means &lt;dbl&gt; | std_err &lt;dbl&gt; |\n",
       "|---|---|\n",
       "| 0.000048 | 1.417673e-06 |\n",
       "| 0.000996 | 8.278223e-06 |\n",
       "| 0.030098 | 5.523142e-05 |\n",
       "\n"
      ],
      "text/plain": [
       "  means    std_err     \n",
       "1 0.000048 1.417673e-06\n",
       "2 0.000996 8.278223e-06\n",
       "3 0.030098 5.523142e-05"
      ]
     },
     "metadata": {},
     "output_type": "display_data"
    }
   ],
   "source": [
    "n = 50\n",
    "p_11 = rep(NA, n)\n",
    "p_15 = rep(NA, n)\n",
    "p_20 = rep(NA, n)\n",
    "burn_in = 1000\n",
    "runs = 10*burn_in\n",
    "\n",
    "for (i in 1:n){\n",
    "    x0 = matrix(rbinom(16, size = 1, p=0.5), nrow=4)\n",
    "    current_x = x0\n",
    "    samples = c()\n",
    "    for(b in 1:burn_in){\n",
    "        current_x = update(current_x)\n",
    "    }\n",
    "\n",
    "    for(r in 1:runs){\n",
    "        current_x = update(current_x)\n",
    "        samples[r] = h(current_x)\n",
    "    }\n",
    "    p_11[i] = sum(samples <= 11)/runs\n",
    "    p_15[i] = sum(samples <= 15)/runs\n",
    "    p_20[i] = sum(samples <= 20)/runs\n",
    "}\n",
    "\n",
    "means = c(mean(p_11), mean(p_15), mean(p_20))\n",
    "std_err = c(sd(p_11)/sqrt(runs), sd(p_15)/sqrt(runs), sd(p_20)/sqrt(runs))\n",
    "\n",
    "data.frame(means, std_err)"
   ]
  },
  {
   "cell_type": "markdown",
   "metadata": {},
   "source": [
    "### Exercise 3\n",
    "\n",
    "Look at Rizzo Example 9.7 (first edition) or 10.11 (second edition) about generating a bivariate normal distribution with correlation -0.75.\n",
    "\n",
    "We can instead use the ***random scan*** Gibbs sampler, but there is a question about how the random scan affects the burn in period since we are no longer sampling from both coordinates for each step.\n",
    "\n",
    "a) Try to implement the random scan Gibbs sampler using the same number of burn-ins and saved runs as in the example, and plot the resulting sample.\n",
    "\n",
    "b) Then experiment with the random scan using different burn-ins but (10*burn-in) for the number of saved runs. What is the size of the burn-in that you need to get a plot similar to what you get for the deterministic scan?\n"
   ]
  },
  {
   "cell_type": "markdown",
   "metadata": {},
   "source": [
    "**Solution**\n",
    "\n",
    "a) We can use the random scan by randomly sampling which $x \\in (x_1, x_2)$ we want to update. Then we update the selected value and the new point becomes the updated value for the selected $x$ and the previous value for the non-selected $x$. For example, if $x_1$ is selected and updated to $x_1^*$, the saved point is $(x_1^*, x_2)$.  The code below has been adapted to do this and the resulting plot below matches the example well."
   ]
  },
  {
   "cell_type": "code",
   "execution_count": 26,
   "metadata": {
    "vscode": {
     "languageId": "r"
    }
   },
   "outputs": [],
   "source": [
    "#initialize constants and parameters\n",
    "N <- 5000 #length of chain\n",
    "burn <- 1000 #burn-in length\n",
    "X <- matrix(0, N, 2) #the chain, a bivariate sample\n",
    "rho <- -.75 #correlation\n",
    "mu1 <- 0\n",
    "mu2 <- 2\n",
    "sigma1 <- 1\n",
    "sigma2 <- .5\n",
    "s1 <- sqrt(1-rho^2)*sigma1\n",
    "s2 <- sqrt(1-rho^2)*sigma2\n",
    "\n",
    "###### generate the chain #####\n",
    "X[1, ] <- c(mu1, mu2) #initialize\n",
    "for (i in 2:N) {\n",
    "    # randomly sample ind to update\n",
    "    update_ind = sample(c(1,2), size=1) \n",
    "    freeze_ind = 1 + (update_ind ==1)\n",
    "    if (update_ind == 1){\n",
    "        x2 <- X[i-1, 2]\n",
    "        m1 <- mu1 + rho * (x2 - mu2) * sigma1/sigma2\n",
    "        X[i, 1] <- rnorm(1, m1, s1)\n",
    "        X[i, 2] = x2\n",
    "    } else {\n",
    "        x1 <- X[i-1, 1]\n",
    "        m2 <- mu2 + rho * (x1 - mu1) * sigma2/sigma1\n",
    "        X[i, 2] <- rnorm(1, m2, s2)\n",
    "        X[i, 1] = x1\n",
    "    }\n",
    "}\n",
    "\n",
    "b <- burn + 1\n",
    "x <- X[b:N, ]"
   ]
  },
  {
   "cell_type": "code",
   "execution_count": 27,
   "metadata": {
    "vscode": {
     "languageId": "r"
    }
   },
   "outputs": [
    {
     "data": {
      "image/png": "[encoded data removed]",
      "text/plain": [
       "Plot with title \"\""
      ]
     },
     "metadata": {
      "image/png": {
       "height": 420,
       "width": 420
      }
     },
     "output_type": "display_data"
    }
   ],
   "source": [
    "plot(x, main=\"\", cex=.5, xlab=bquote(X[1]),\n",
    "ylab=bquote(X[2]), ylim=range(x[,2]))"
   ]
  },
  {
   "cell_type": "markdown",
   "metadata": {},
   "source": [
    "b) burn-in of $b = 10, 50, 100, 250, 500, 1000$ were tested and compared graphically. The graph starts to look like the example around $b=50$, though this could be due to the number of points. To double check, the correlation is calculated for each burn in period. The correlation starts to converge around a burn in of 250, hence the sampling seems to match the figure best with a burn in of 250."
   ]
  },
  {
   "cell_type": "code",
   "execution_count": 28,
   "metadata": {
    "vscode": {
     "languageId": "r"
    }
   },
   "outputs": [],
   "source": [
    "random_scan_mvn = function(burn_in){\n",
    "    N <- burn_in*10 + burn_in #length of chain\n",
    "    X <- matrix(0, N, 2) #the chain, a bivariate sample\n",
    "    rho <- -.75 #correlation\n",
    "    mu1 <- 0\n",
    "    mu2 <- 2\n",
    "    sigma1 <- 1\n",
    "    sigma2 <- .5\n",
    "    s1 <- sqrt(1-rho^2)*sigma1\n",
    "    s2 <- sqrt(1-rho^2)*sigma2\n",
    "    X[1, ] <- c(mu1, mu2) #initialize\n",
    "    for (i in 2:N) {\n",
    "        # randomly sample ind to update\n",
    "        update_ind = sample(c(1,2), size=1) \n",
    "        freeze_ind = 1 + (update_ind ==1)\n",
    "        if (update_ind == 1){\n",
    "            x2 <- X[i-1, 2]\n",
    "            m1 <- mu1 + rho * (x2 - mu2) * sigma1/sigma2\n",
    "            X[i, 1] <- rnorm(1, m1, s1)\n",
    "            X[i, 2] = x2\n",
    "        } else {\n",
    "            x1 <- X[i-1, 1]\n",
    "            m2 <- mu2 + rho * (x1 - mu1) * sigma2/sigma1\n",
    "            X[i, 2] <- rnorm(1, m2, s2)\n",
    "            X[i, 1] = x1\n",
    "        }\n",
    "    }\n",
    "\n",
    "    b <- burn_in + 1\n",
    "    x <- X[b:N, ]\n",
    "    return(x)\n",
    "}"
   ]
  },
  {
   "cell_type": "code",
   "execution_count": 29,
   "metadata": {
    "vscode": {
     "languageId": "r"
    }
   },
   "outputs": [],
   "source": [
    "x_100 = random_scan_mvn(100)\n",
    "x_10 = random_scan_mvn(10)\n",
    "x_50 = random_scan_mvn(50)\n",
    "x_250 = random_scan_mvn(250)\n",
    "x_1000 = random_scan_mvn(1000)\n",
    "x_500 = random_scan_mvn(500)"
   ]
  },
  {
   "cell_type": "code",
   "execution_count": 30,
   "metadata": {
    "vscode": {
     "languageId": "r"
    }
   },
   "outputs": [
    {
     "data": {
      "text/html": [
       "<table class=\"dataframe\">\n",
       "<caption>A data.frame: 6 × 2</caption>\n",
       "<thead>\n",
       "\t<tr><th scope=col>labels</th><th scope=col>corrs</th></tr>\n",
       "\t<tr><th scope=col>&lt;dbl&gt;</th><th scope=col>&lt;dbl&gt;</th></tr>\n",
       "</thead>\n",
       "<tbody>\n",
       "\t<tr><td>  10</td><td>-0.6934682</td></tr>\n",
       "\t<tr><td>  50</td><td>-0.7496557</td></tr>\n",
       "\t<tr><td> 100</td><td>-0.7964889</td></tr>\n",
       "\t<tr><td> 250</td><td>-0.7435852</td></tr>\n",
       "\t<tr><td> 500</td><td>-0.7413666</td></tr>\n",
       "\t<tr><td>1000</td><td>-0.7477857</td></tr>\n",
       "</tbody>\n",
       "</table>\n"
      ],
      "text/latex": [
       "A data.frame: 6 × 2\n",
       "\\begin{tabular}{ll}\n",
       " labels & corrs\\\\\n",
       " <dbl> & <dbl>\\\\\n",
       "\\hline\n",
       "\t   10 & -0.6934682\\\\\n",
       "\t   50 & -0.7496557\\\\\n",
       "\t  100 & -0.7964889\\\\\n",
       "\t  250 & -0.7435852\\\\\n",
       "\t  500 & -0.7413666\\\\\n",
       "\t 1000 & -0.7477857\\\\\n",
       "\\end{tabular}\n"
      ],
      "text/markdown": [
       "\n",
       "A data.frame: 6 × 2\n",
       "\n",
       "| labels &lt;dbl&gt; | corrs &lt;dbl&gt; |\n",
       "|---|---|\n",
       "|   10 | -0.6934682 |\n",
       "|   50 | -0.7496557 |\n",
       "|  100 | -0.7964889 |\n",
       "|  250 | -0.7435852 |\n",
       "|  500 | -0.7413666 |\n",
       "| 1000 | -0.7477857 |\n",
       "\n"
      ],
      "text/plain": [
       "  labels corrs     \n",
       "1   10   -0.6934682\n",
       "2   50   -0.7496557\n",
       "3  100   -0.7964889\n",
       "4  250   -0.7435852\n",
       "5  500   -0.7413666\n",
       "6 1000   -0.7477857"
      ]
     },
     "metadata": {},
     "output_type": "display_data"
    }
   ],
   "source": [
    "corrs = c(cor(x_10)[1,2], cor(x_50)[1,2], cor(x_100)[1,2], cor(x_250)[1,2], cor(x_500)[1,2], cor(x_1000)[1,2])\n",
    "labels = c(10, 50, 100, 250, 500, 1000)\n",
    "data.frame(labels, corrs)"
   ]
  },
  {
   "cell_type": "code",
   "execution_count": 43,
   "metadata": {
    "vscode": {
     "languageId": "r"
    }
   },
   "outputs": [
    {
     "data": {
      "image/png": "[encoded data removed]",
      "text/plain": [
       "Plot with title \"\""
      ]
     },
     "metadata": {
      "image/png": {
       "height": 420,
       "width": 420
      }
     },
     "output_type": "display_data"
    }
   ],
   "source": [
    "par(mfrow = c(3, 2))\n",
    "plot(x_10, main=\"\", cex=.5, xlab=bquote(X[1]),\n",
    "ylab=bquote(X[2]), ylim=range(x[,2]))\n",
    "plot(x_50, main=\"\", cex=.5, xlab=bquote(X[1]),\n",
    "ylab=bquote(X[2]), ylim=range(x[,2]))\n",
    "plot(x_100, main=\"\", cex=.5, xlab=bquote(X[1]),\n",
    "ylab=bquote(X[2]), ylim=range(x[,2]))\n",
    "plot(x_250, main=\"\", cex=.5, xlab=bquote(X[1]),\n",
    "ylab=bquote(X[2]), ylim=range(x[,2]))\n",
    "plot(x_500, main=\"\", cex=.5, xlab=bquote(X[1]),\n",
    "ylab=bquote(X[2]), ylim=range(x[,2]))\n",
    "plot(x_1000, main=\"\", cex=.5, xlab=bquote(X[1]),\n",
    "ylab=bquote(X[2]), ylim=range(x[,2]))"
   ]
  },
  {
   "cell_type": "markdown",
   "metadata": {},
   "source": [
    "### Exercise 4\n",
    "\n",
    "Verify that Gibbs sampling satisfies detailed balance in the sense that sampling from each component conditional on the other components satisfies detailed balance. Without loss of generality, you can assume that we're using the deterministic Gibbs sampler. Please show all your work!"
   ]
  },
  {
   "cell_type": "markdown",
   "metadata": {},
   "source": [
    "**Solution**\n",
    "\n",
    "Detailed balance is given by the equation:\n",
    "\n",
    "$$\\pi(x)P(y|x) = \\pi(y)P(x|y)$$\n",
    "In the case of the deterministic gibs sampler, $\\pi(x)= P\\{H(\\textbf{X}) = h_x\\} = \\frac{e^{\\beta h_x}}{NC}$ and $P(y|x) = P\\{H(\\textbf{X})=h_y|X_{-i,-j}\\}  = \\frac{e^{\\beta h_y}}{e^{\\beta h_y}+e^{\\beta h_x}}$. Then the detailed balance equation becomes:\n",
    "$$P\\{H(\\textbf{X}) = h_x\\} P\\{H(\\textbf{X})=h_y|X_{-i,-j}\\} = P\\{H(\\textbf{X}) = h_y\\} P\\{H(\\textbf{X})=h_x|X_{-i,-j}\\}$$\n",
    "$$\\frac{e^{\\beta h_x}}{NC}\\frac{e^{\\beta h_y}}{e^{\\beta h_y}+e^{\\beta h_x}} = \\frac{e^{\\beta h_y}}{NC}\\frac{e^{\\beta h_x}}{e^{\\beta h_y}+e^{\\beta h_x}} $$\n",
    "\n",
    "It is clear that the LHS=RHS, hence the deterministic gibbs sampler satisfies the detailed balance equation."
   ]
  }
 ],
 "metadata": {
  "kernelspec": {
   "display_name": "R",
   "language": "R",
   "name": "ir"
  },
  "language_info": {
   "codemirror_mode": "r",
   "file_extension": ".r",
   "mimetype": "text/x-r-source",
   "name": "R",
   "pygments_lexer": "r",
   "version": "4.2.2"
  }
 },
 "nbformat": 4,
 "nbformat_minor": 2
}

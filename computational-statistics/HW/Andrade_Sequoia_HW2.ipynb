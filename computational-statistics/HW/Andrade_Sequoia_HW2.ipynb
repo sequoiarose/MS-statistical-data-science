{
 "cells": [
  {
   "cell_type": "markdown",
   "metadata": {},
   "source": [
    "<center>\n",
    "    <h1> Math761: HW 2 <br>\n",
    "    Basic Simulation Practice </h1>\n",
    "  </center>\n",
    "  \n",
    "  ## Sequoia Andrade\n",
    "### 9/12/2023\n"
   ]
  },
  {
   "cell_type": "code",
   "execution_count": 1,
   "metadata": {
    "vscode": {
     "languageId": "r"
    }
   },
   "outputs": [],
   "source": [
    "set.seed(1)   # for reproducibility"
   ]
  },
  {
   "cell_type": "markdown",
   "metadata": {},
   "source": [
    "### Exercise 1\n",
    "\n",
    "We saw a problem where 5 students sat in a room that was scaled to the unit square. Now consider a situation where 10 students are sitting in a rectangular room, but their positions can only take on discrete values because they sit in chairs which are arranged in rows and columns. The seats are in rows 1, 2, ..., 6 and columns 1, 2, ..., 5.  The students are sitting in the seats located at the following pairs of (row, column):\n",
    "\n",
    "(1, 3); (1, 4); (1; 5);\n",
    "\n",
    "(2, 3); \n",
    "\n",
    "(4, 2); (4, 4); (4, 5);\n",
    "\n",
    "(5, 1); (5, 2);\n",
    "\n",
    "(6, 3)\n",
    "\n",
    "#### a) Using simulation, please plot a histogram of your simulated distance values and draw a vertical line through it that represents the statistic for the actual data. Also report the approximate p-value that we would see data as extreme as this data (one sided test) if the students really were sitting randomly, independently discretely uniformly around the classroom. Make sure you justify which direction you test in as part of your work.\n",
    "\n",
    "*Answer:*\n",
    "\n",
    " In this case, the sample statistic gives a value of 268.16, while the mean of the randomly sampled data gives a value of 254.29. Hence, we test for extremety by looking for samples that are greater than our sample statistic of 268.16. In this case, we would be testing the hypothesis that students sit at a greater distance from one another than random. \n",
    "\n",
    "$H_0:$ students are sitting randomly $\\mu=\\mu_0$\n",
    "\n",
    "$H_1:$ students are sitting further apart than random $\\mu>\\mu_0$ \n",
    " \n",
    " The approximate p-value is 0.317 from the simulation when using a one-sided test. Thus the probability of seeing data as extreme as ours given the students really sit randomly is 0.317. \n",
    "\n",
    "*Redo*: Edited the justification, hypothesis test setup, and p-value\n"
   ]
  },
  {
   "cell_type": "code",
   "execution_count": 2,
   "metadata": {
    "vscode": {
     "languageId": "r"
    }
   },
   "outputs": [
    {
     "data": {
      "text/html": [
       "268.157461290508"
      ],
      "text/latex": [
       "268.157461290508"
      ],
      "text/markdown": [
       "268.157461290508"
      ],
      "text/plain": [
       "[1] 268.1575"
      ]
     },
     "metadata": {},
     "output_type": "display_data"
    }
   ],
   "source": [
    "# a) \n",
    "# define x and y coordinate vectors\n",
    "xCoord = c(1, 1, 1, 2, 4, 4, 4, 5, 5, 6)\n",
    "yCoord = c(3, 4, 5, 3, 2, 4, 5, 1, 2, 3)\n",
    "\n",
    "#define point distance function\n",
    "pointDistances = function(xVec, yVec){\n",
    "    total = 0\n",
    "    n = length(xVec)\n",
    "    for (i in 1:n){\n",
    "        for (j in 1:n){\n",
    "            dist_ij = sqrt((xVec[i] - xVec[j])^2 + (yVec[i] - yVec[j])^2)\n",
    "            total = total +dist_ij\n",
    "        }\n",
    "    }\n",
    "    return(total)\n",
    "}\n",
    "\n",
    "test_statistic = pointDistances(xCoord, yCoord)\n",
    "test_statistic"
   ]
  },
  {
   "cell_type": "code",
   "execution_count": 3,
   "metadata": {
    "vscode": {
     "languageId": "r"
    }
   },
   "outputs": [
    {
     "data": {
      "text/html": [
       "254.286793215638"
      ],
      "text/latex": [
       "254.286793215638"
      ],
      "text/markdown": [
       "254.286793215638"
      ],
      "text/plain": [
       "[1] 254.2868"
      ]
     },
     "metadata": {},
     "output_type": "display_data"
    }
   ],
   "source": [
    "# select random students\n",
    "\n",
    "numStudents = 10\n",
    "runs = 1000\n",
    "x = 1:6\n",
    "y = 1:5\n",
    "s = rep(NA, runs)\n",
    "for (r in 1:runs){\n",
    "    studentsX = sample(x, numStudents, replace=TRUE) # sample student x positions\n",
    "    studentsY = sample(y, numStudents, replace=TRUE) # sample student y positions\n",
    "    s[r] = pointDistances(studentsX, studentsY) # sample statistic\n",
    "}\n",
    "mean(s)\n"
   ]
  },
  {
   "cell_type": "code",
   "execution_count": 4,
   "metadata": {
    "vscode": {
     "languageId": "r"
    }
   },
   "outputs": [
    {
     "data": {
      "text/html": [
       "0.317"
      ],
      "text/latex": [
       "0.317"
      ],
      "text/markdown": [
       "0.317"
      ],
      "text/plain": [
       "[1] 0.317"
      ]
     },
     "metadata": {},
     "output_type": "display_data"
    }
   ],
   "source": [
    "mean(s>test_statistic)"
   ]
  },
  {
   "cell_type": "code",
   "execution_count": 5,
   "metadata": {
    "vscode": {
     "languageId": "r"
    }
   },
   "outputs": [
    {
     "data": {
      "image/png": "[encoded data removed]",
      "text/plain": [
       "Plot with title \"Histogram of s\""
      ]
     },
     "metadata": {
      "image/png": {
       "height": 420,
       "width": 420
      }
     },
     "output_type": "display_data"
    }
   ],
   "source": [
    "hist(s)\n",
    "abline(v=test_statistic)"
   ]
  },
  {
   "cell_type": "markdown",
   "metadata": {},
   "source": [
    "\n",
    "#### b) Then answer: what is your conclusion about how students sat in class? Use hypothesis testing at the $\\alpha=.05$ level.\n",
    "\n",
    "*Answer:*\n",
    "\n",
    "$H_0:$ students are sitting randomly $\\mu=\\mu_0$\n",
    "\n",
    "$H_1:$ students are sitting further apart than random $\\mu>\\mu_0$ *Updated for redo*\n",
    "\n",
    "The resulting p-value is about 0.317, thus at the  $\\alpha=.05$ we fail to reject the null hypothesis and do not have evidence that students sit farther apart than they would by random. *Updated for redo*"
   ]
  },
  {
   "cell_type": "code",
   "execution_count": 6,
   "metadata": {
    "vscode": {
     "languageId": "r"
    }
   },
   "outputs": [
    {
     "data": {
      "text/html": [
       "0.317"
      ],
      "text/latex": [
       "0.317"
      ],
      "text/markdown": [
       "0.317"
      ],
      "text/plain": [
       "[1] 0.317"
      ]
     },
     "metadata": {},
     "output_type": "display_data"
    }
   ],
   "source": [
    "mean(s>test_statistic)"
   ]
  },
  {
   "cell_type": "markdown",
   "metadata": {},
   "source": [
    "### Exercise 2: Performance of $k$ trimmed means\n",
    "\n",
    "Estimate the MSE and variances of the level $k$ trimmed means for 1000 random samples of size 20 generated from a standard Cauchy distribution with center at 0. Summarize the estimates of MSE and variances in a table for $k = 1, 2, ..., 9.$ Then answer, what does the simulation tell you about how the different k-level trimmed means perform for this setting? As part of your answer, answer what levels of $k$ seem to do best.\n",
    "\n",
    "*Answer:*\n",
    "\n",
    "The different k-level trimmed means perform better as k increases generally, with all means showing very low bias. The mean with the worst performance is k=1, while the mean with k=8 is best with a MSE of 0.1372752 and variance of 0.1371415. At the k=9 mean, performance appears to decrease slightly.\n",
    "    "
   ]
  },
  {
   "cell_type": "code",
   "execution_count": 7,
   "metadata": {
    "vscode": {
     "languageId": "r"
    }
   },
   "outputs": [],
   "source": [
    "kTrimmedMean = function(x,k){\n",
    "    return(mean(sort(x)[(k+1): (length(x)-k)]))\n",
    "}"
   ]
  },
  {
   "cell_type": "code",
   "execution_count": 8,
   "metadata": {
    "vscode": {
     "languageId": "r"
    }
   },
   "outputs": [
    {
     "data": {
      "text/html": [
       "<table class=\"dataframe\">\n",
       "<caption>A data.frame: 9 × 2</caption>\n",
       "<thead>\n",
       "\t<tr><th></th><th scope=col>MSE</th><th scope=col>Var</th></tr>\n",
       "\t<tr><th></th><th scope=col>&lt;dbl&gt;</th><th scope=col>&lt;dbl&gt;</th></tr>\n",
       "</thead>\n",
       "<tbody>\n",
       "\t<tr><th scope=row>1-trimmed mean</th><td>1.2434148</td><td>1.2446140</td></tr>\n",
       "\t<tr><th scope=row>2-trimmed mean</th><td>0.4118633</td><td>0.4122692</td></tr>\n",
       "\t<tr><th scope=row>3-trimmed mean</th><td>0.2322813</td><td>0.2324029</td></tr>\n",
       "\t<tr><th scope=row>4-trimmed mean</th><td>0.1838342</td><td>0.1838302</td></tr>\n",
       "\t<tr><th scope=row>5-trimmed mean</th><td>0.1617130</td><td>0.1612652</td></tr>\n",
       "\t<tr><th scope=row>6-trimmed mean</th><td>0.1541962</td><td>0.1543269</td></tr>\n",
       "\t<tr><th scope=row>7-trimmed mean</th><td>0.1475527</td><td>0.1474962</td></tr>\n",
       "\t<tr><th scope=row>8-trimmed mean</th><td>0.1372752</td><td>0.1371415</td></tr>\n",
       "\t<tr><th scope=row>9-trimmed mean</th><td>0.1473505</td><td>0.1472886</td></tr>\n",
       "</tbody>\n",
       "</table>\n"
      ],
      "text/latex": [
       "A data.frame: 9 × 2\n",
       "\\begin{tabular}{r|ll}\n",
       "  & MSE & Var\\\\\n",
       "  & <dbl> & <dbl>\\\\\n",
       "\\hline\n",
       "\t1-trimmed mean & 1.2434148 & 1.2446140\\\\\n",
       "\t2-trimmed mean & 0.4118633 & 0.4122692\\\\\n",
       "\t3-trimmed mean & 0.2322813 & 0.2324029\\\\\n",
       "\t4-trimmed mean & 0.1838342 & 0.1838302\\\\\n",
       "\t5-trimmed mean & 0.1617130 & 0.1612652\\\\\n",
       "\t6-trimmed mean & 0.1541962 & 0.1543269\\\\\n",
       "\t7-trimmed mean & 0.1475527 & 0.1474962\\\\\n",
       "\t8-trimmed mean & 0.1372752 & 0.1371415\\\\\n",
       "\t9-trimmed mean & 0.1473505 & 0.1472886\\\\\n",
       "\\end{tabular}\n"
      ],
      "text/markdown": [
       "\n",
       "A data.frame: 9 × 2\n",
       "\n",
       "| <!--/--> | MSE &lt;dbl&gt; | Var &lt;dbl&gt; |\n",
       "|---|---|---|\n",
       "| 1-trimmed mean | 1.2434148 | 1.2446140 |\n",
       "| 2-trimmed mean | 0.4118633 | 0.4122692 |\n",
       "| 3-trimmed mean | 0.2322813 | 0.2324029 |\n",
       "| 4-trimmed mean | 0.1838342 | 0.1838302 |\n",
       "| 5-trimmed mean | 0.1617130 | 0.1612652 |\n",
       "| 6-trimmed mean | 0.1541962 | 0.1543269 |\n",
       "| 7-trimmed mean | 0.1475527 | 0.1474962 |\n",
       "| 8-trimmed mean | 0.1372752 | 0.1371415 |\n",
       "| 9-trimmed mean | 0.1473505 | 0.1472886 |\n",
       "\n"
      ],
      "text/plain": [
       "               MSE       Var      \n",
       "1-trimmed mean 1.2434148 1.2446140\n",
       "2-trimmed mean 0.4118633 0.4122692\n",
       "3-trimmed mean 0.2322813 0.2324029\n",
       "4-trimmed mean 0.1838342 0.1838302\n",
       "5-trimmed mean 0.1617130 0.1612652\n",
       "6-trimmed mean 0.1541962 0.1543269\n",
       "7-trimmed mean 0.1475527 0.1474962\n",
       "8-trimmed mean 0.1372752 0.1371415\n",
       "9-trimmed mean 0.1473505 0.1472886"
      ]
     },
     "metadata": {},
     "output_type": "display_data"
    }
   ],
   "source": [
    "# set up\n",
    "n = 20\n",
    "runs = 1000 \n",
    "theta = 0\n",
    "set.seed(3)\n",
    "# data storage\n",
    "results = data.frame(\"MSE\"=rep(NA,9), \"Var\"=rep(NA,9),\n",
    "        row.names=c(\"1-trimmed mean\", \"2-trimmed mean\", \"3-trimmed mean\", \"4-trimmed mean\", \"5-trimmed mean\", \"6-trimmed mean\", \"7-trimmed mean\", \"8-trimmed mean\", \"9-trimmed mean\"))\n",
    "ks = 1:9\n",
    "theta_hat_1s = rep(NA, runs)\n",
    "for (k in ks){\n",
    "    for (r in 1:runs){\n",
    "        sample = rcauchy(n, location = 0, scale = 1)\n",
    "        # estimators\n",
    "        theta_hat1 = kTrimmedMean(sample,k)\n",
    "        theta_hat_1s[r] = theta_hat1\n",
    "    }\n",
    "    #store mse\n",
    "    results[k, 1] = mean((theta_hat_1s-theta)^2)\n",
    "    #store var\n",
    "    results[k, 2] = var(theta_hat_1s)\n",
    "}\n",
    "\n",
    "\n",
    "\n",
    "results"
   ]
  },
  {
   "cell_type": "markdown",
   "metadata": {},
   "source": [
    "### Exercise 3: Studying outside the scope of the CLT\n",
    "\n",
    "Recall that we simulated the CLT (Central Limit Theorem) phenomenon in class by creating 1000 averages, each average from a random sample of 100 random variables drawn from various distributions (normal, uniform, binomial, negative binomial, and Poisson).\n",
    "\n",
    "a. Now create a similar simulation by modifying what we did in class, but explore the results of drawing only a sample size of 5 points from an exponential distribution with rate .2.  Draw a histogram of 1000 averages, and over it, draw the theoretical curve that the CLT says the average should follow for large samples. Then answer, do the 1000 averages still seem to obey the CLT?\n",
    "\n",
    "*Answer:*\n",
    "First we need to calculate the theoretical mean and standard error.\n",
    "\n",
    "$\\mu = 1/\\lambda = 1/0.2= 5$\n",
    "\n",
    "$\\sigma^2 = (1/\\lambda)^2 = 5^2 = 25$\n",
    "\n",
    "$\\sigma = 5$\n",
    "\n",
    "Standard error:\n",
    "\n",
    "$\\sigma^2 = \\frac{25}{5} =5 $\n",
    "\n",
    "The samples appear skewed right slightly and do not exactly follow the CLT for this small sample size, though it is close. The sample peak is slightly to the left of the peak given by the CLT.\n",
    "\n",
    "*Redo:*\n",
    "\n",
    "Updated a) to use the theoretical mean and standrad deviation instead of the sample values. Also updated the theoretical standard deviation to be correct.\n"
   ]
  },
  {
   "cell_type": "code",
   "execution_count": 18,
   "metadata": {
    "vscode": {
     "languageId": "r"
    }
   },
   "outputs": [],
   "source": [
    "theoretical_mean = 1/0.2\n",
    "theoretical_sd = sqrt(5) "
   ]
  },
  {
   "cell_type": "code",
   "execution_count": 19,
   "metadata": {
    "vscode": {
     "languageId": "r"
    }
   },
   "outputs": [
    {
     "name": "stdout",
     "output_type": "stream",
     "text": [
      "[1] \"Mean\"\n",
      "[1] 4.848735\n",
      "[1] \"Standard Deviation\"\n",
      "[1] 2.27751\n",
      "[1] \"Variance\"\n",
      "[1] 5.187054\n"
     ]
    },
    {
     "data": {
      "image/png": "[encoded data removed]",
      "text/plain": [
       "Plot with title \"Histogram of vector_of_means\""
      ]
     },
     "metadata": {
      "image/png": {
       "height": 420,
       "width": 420
      }
     },
     "output_type": "display_data"
    }
   ],
   "source": [
    "# a\n",
    "n = 5\n",
    "n_samples = 1000\n",
    "\n",
    "vector_of_means = rep(NA, n_samples)\n",
    "\n",
    "for (i in 1:n_samples){\n",
    "    obs = rexp(n, 0.2)\n",
    "    vector_of_means[i] = mean(obs)\n",
    "}\n",
    "\n",
    "print(\"Mean\")\n",
    "\n",
    "sample_mean = mean(vector_of_means)\n",
    "print(sample_mean)\n",
    "\n",
    "print(\"Standard Deviation\")\n",
    "sample_sd = sd(vector_of_means, na.rm=FALSE)\n",
    "print(sample_sd)\n",
    "\n",
    "print(\"Variance\")\n",
    "print(var(vector_of_means))\n",
    "\n",
    "\n",
    "hist(vector_of_means, prob=TRUE, ylim=c(0, 0.3))\n",
    "x = seq( from=0, to=15, length =100)\n",
    "lines(x, dnorm(x, mean=theoretical_mean, sd = theoretical_sd))"
   ]
  },
  {
   "cell_type": "markdown",
   "metadata": {},
   "source": [
    "b. The CLT also doesn't say anything about the median but we can use simulations to explore its properties. Again modify what we did in class but explore the results of drawing a sample size of 100 points from an exponential distribution with rate .2. This time look at the histogram of 1000 medians rather than 1000 means. Again, plot the CLT theorem curve (as it applies to the mean) over it. What do your results seem to suggest about the distributional properties for the median with respect to the CLT?\n",
    "\n",
    "*Answer:*\n",
    "\n",
    "The distribution of the sample medians appear to follow the shape given by the CLT; however, the distribution is offset when the curve is plotted with respect to the mean. When the CLT theorem curve is plotted with respect to the mean of the medians, then the distribution fits the CLT well. The median itself follows the CLT when the median is considered as the sample mean, but the sampling distribution of the medians does not follow the CLT curve of the sampling distribution of the mean."
   ]
  },
  {
   "cell_type": "code",
   "execution_count": 11,
   "metadata": {
    "vscode": {
     "languageId": "r"
    }
   },
   "outputs": [
    {
     "name": "stdout",
     "output_type": "stream",
     "text": [
      "[1] \"Mean\"\n",
      "[1] 3.476645\n",
      "[1] \"Standard Deviation\"\n",
      "[1] 0.5108438\n",
      "[1] \"Variance\"\n",
      "[1] 0.2609614\n"
     ]
    },
    {
     "data": {
      "image/png": "[encoded data removed]",
      "text/plain": [
       "Plot with title \"Histogram of vector_of_medians\""
      ]
     },
     "metadata": {
      "image/png": {
       "height": 420,
       "width": 420
      }
     },
     "output_type": "display_data"
    }
   ],
   "source": [
    "# b\n",
    "n = 100\n",
    "n_samples = 1000\n",
    "\n",
    "vector_of_medians = rep(NA, n_samples)\n",
    "\n",
    "for (i in 1:n_samples){\n",
    "    obs = rexp(n, 0.2)\n",
    "    vector_of_medians[i] = median(obs)\n",
    "}\n",
    "\n",
    "print(\"Mean\")\n",
    "\n",
    "sample_mean = mean(vector_of_medians)\n",
    "print(sample_mean)\n",
    "\n",
    "print(\"Standard Deviation\")\n",
    "sample_sd = sd(vector_of_medians, na.rm=FALSE)\n",
    "print(sample_sd)\n",
    "\n",
    "print(\"Variance\")\n",
    "print(var(vector_of_medians))\n",
    "\n",
    "\n",
    "hist(vector_of_medians, prob=TRUE, ylim=c(0, 1), breaks=10)\n",
    "x = seq( from=0, to=6, length =100)\n",
    "lines(x, dnorm(x, mean=mean(vector_of_means), sd = sample_sd))"
   ]
  },
  {
   "cell_type": "code",
   "execution_count": 15,
   "metadata": {
    "vscode": {
     "languageId": "r"
    }
   },
   "outputs": [
    {
     "data": {
      "image/png": "[encoded data removed]",
      "text/plain": [
       "Plot with title \"Histogram of vector_of_medians\""
      ]
     },
     "metadata": {
      "image/png": {
       "height": 420,
       "width": 420
      }
     },
     "output_type": "display_data"
    }
   ],
   "source": [
    "hist(vector_of_medians, prob=TRUE, ylim=c(0, 1), breaks=10)\n",
    "x = seq( from=0, to=6, length =100)\n",
    "lines(x, dnorm(x, mean=mean(vector_of_medians), sd = sample_sd))"
   ]
  },
  {
   "cell_type": "markdown",
   "metadata": {},
   "source": [
    "### Exercise 4: Performance of the Gini Index\n",
    "\n",
    "Let $X$ be a non-negative random variance with $\\mu=\\mathbb{E}X <\\infty$. For a random sample $x_1, \\ldots, x_n$ from the distribution of $X$, the Gini ratio is defined by\n",
    "\n",
    "$$\n",
    "G = \\frac{1}{2n^2\\mu}\\sum_{j=1}^{n}\\sum_{i=1}^{n}|x_i-x_j|.\n",
    "$$\n",
    "\n",
    "The Gini ratio is a measure of income equality (used in Economics). Note that G can be written in terms of the order statistics $x_{(i)}$ as\n",
    "\n",
    "$$\n",
    "G = \\frac{1}{n^2\\mu}\\sum_{i=1}^{n}\\left(2i-n-1\\right)x_{(i)}.\n",
    "$$\n",
    "\n",
    "If the mean is unknown, let $\\hat{G}$ be the statistic $G$ with $\\mu$ replaced by $\\bar{x}$. Estimate using 1000 samples (each sample size 100) the mean and standard error of $\\hat{G}$ if $X$ is\n"
   ]
  },
  {
   "cell_type": "code",
   "execution_count": 12,
   "metadata": {
    "vscode": {
     "languageId": "r"
    }
   },
   "outputs": [],
   "source": [
    "gini = function(x){ # definition of gini using the order statistics\n",
    "    x = sort(x) # get x in order\n",
    "    n = length(x)\n",
    "    sum = 0\n",
    "    for (i in 1:n){\n",
    "        sum = sum + ((2*i - n-1)*x[i]) # calculate summation\n",
    "    }\n",
    "    G = sum/(n*n*mean(x)) # calculate G hate\n",
    "    return (G)\n",
    "}"
   ]
  },
  {
   "cell_type": "markdown",
   "metadata": {},
   "source": [
    "(a) Uniform(0, 1);\n",
    "\n",
    "*Answer:*"
   ]
  },
  {
   "cell_type": "code",
   "execution_count": 13,
   "metadata": {
    "vscode": {
     "languageId": "r"
    }
   },
   "outputs": [
    {
     "name": "stdout",
     "output_type": "stream",
     "text": [
      "[1] \"mean\"\n",
      "[1] 0.3320886\n",
      "[1] \"standard error\"\n",
      "[1] 0.002389156\n"
     ]
    }
   ],
   "source": [
    "# a\n",
    "n_samples = 1000\n",
    "sample_size = 100\n",
    "g_vals = rep(NA, n_samples)\n",
    "for (i in 1:n_samples){\n",
    "    x = runif(sample_size)\n",
    "    g_vals[i] = gini(x)\n",
    "}\n",
    "\n",
    "print(\"mean\")\n",
    "\n",
    "print(mean(g_vals))\n",
    "\n",
    "print(\"standard error\")\n",
    "\n",
    "print(sd(g_vals)/sqrt(sample_size))"
   ]
  },
  {
   "cell_type": "markdown",
   "metadata": {},
   "source": [
    "(b) Bernoulli(0.1).\n",
    "\n",
    "*Answer:*"
   ]
  },
  {
   "cell_type": "code",
   "execution_count": 14,
   "metadata": {
    "vscode": {
     "languageId": "r"
    }
   },
   "outputs": [
    {
     "name": "stdout",
     "output_type": "stream",
     "text": [
      "[1] \"mean\"\n",
      "[1] 0.90085\n",
      "[1] \"standard error\"\n",
      "[1] 0.002999462\n"
     ]
    }
   ],
   "source": [
    "# b\n",
    "n_samples = 1000\n",
    "sample_size = 100\n",
    "g_vals = rep(NA, n_samples)\n",
    "for (i in 1:n_samples){\n",
    "    x = rbinom(sample_size, 1, 0.1)\n",
    "    g_vals[i] = gini(x)\n",
    "}\n",
    "\n",
    "print(\"mean\")\n",
    "\n",
    "print(mean(g_vals))\n",
    "\n",
    "print(\"standard error\")\n",
    "\n",
    "print(sd(g_vals)/sqrt(sample_size))"
   ]
  },
  {
   "cell_type": "code",
   "execution_count": null,
   "metadata": {
    "vscode": {
     "languageId": "r"
    }
   },
   "outputs": [],
   "source": []
  }
 ],
 "metadata": {
  "kernelspec": {
   "display_name": "R",
   "language": "R",
   "name": "ir"
  },
  "language_info": {
   "codemirror_mode": "r",
   "file_extension": ".r",
   "mimetype": "text/x-r-source",
   "name": "R",
   "pygments_lexer": "r",
   "version": "4.2.2"
  }
 },
 "nbformat": 4,
 "nbformat_minor": 2
}

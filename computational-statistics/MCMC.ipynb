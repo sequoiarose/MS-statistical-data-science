{
 "cells": [
  {
   "cell_type": "code",
   "execution_count": 1,
   "metadata": {
    "vscode": {
     "languageId": "r"
    }
   },
   "outputs": [],
   "source": [
    "# update function\n",
    "update = function(current_state){\n",
    "    spinner = runif(1)\n",
    "    if (current_state == \"A\"){\n",
    "        if (spinner < 1 / 3) {\n",
    "            next_state = \"B\"\n",
    "        } else if (spinner < 2 / 3) {\n",
    "            next_state = \"C\"\n",
    "        } else if (spinner <1){\n",
    "            next_state = \"D\"\n",
    "        }\n",
    "    }else if (current_state == \"B\"){\n",
    "        if (spinner < 1 / 4) {\n",
    "            next_state = \"A\"\n",
    "        } else if (spinner < 2 / 4) {\n",
    "            next_state = \"C\"\n",
    "        } else if (spinner <3/4){\n",
    "            next_state = \"D\"\n",
    "        } else if (spinner <1){\n",
    "            next_state = \"E\"\n",
    "        }\n",
    "    }else if (current_state == \"C\"){\n",
    "        if (spinner < 1 / 2) {\n",
    "            next_state = \"A\"\n",
    "        } else if (spinner < 1) {\n",
    "            next_state = \"B\"\n",
    "        }\n",
    "    }else if (current_state == \"D\"){\n",
    "        if (spinner < 1 / 2) {\n",
    "            next_state = \"A\"\n",
    "        } else if (spinner < 1) {\n",
    "            next_state = \"B\"\n",
    "        }\n",
    "    }else if (current_state == \"E\"){\n",
    "        next_state = \"B\"\n",
    "    } else{\n",
    "        next_state = \"Error\"\n",
    "    }\n",
    "\n",
    "    return(next_state)\n",
    "}"
   ]
  },
  {
   "cell_type": "code",
   "execution_count": 26,
   "metadata": {
    "vscode": {
     "languageId": "r"
    }
   },
   "outputs": [],
   "source": [
    "n = 10000\n",
    "burn_in = 10000\n",
    "saved_states = rep(NA, n)\n",
    "initial_state = \"C\"\n",
    "current_state = update(initial_state)\n",
    "for (step in 2:burn_in){\n",
    "    current_state = update(current_state)\n",
    "}\n",
    "for(step in 1:n){\n",
    "    saved_states[step] = update(current_state)\n",
    "    current_state = saved_states[step]\n",
    "}\n"
   ]
  },
  {
   "cell_type": "code",
   "execution_count": 27,
   "metadata": {
    "vscode": {
     "languageId": "r"
    }
   },
   "outputs": [
    {
     "data": {
      "text/plain": [
       "saved_states\n",
       "     A      B      C      D      E \n",
       "0.2530 0.3311 0.1695 0.1665 0.0799 "
      ]
     },
     "metadata": {},
     "output_type": "display_data"
    }
   ],
   "source": [
    "table(saved_states)/n"
   ]
  },
  {
   "cell_type": "markdown",
   "metadata": {},
   "source": [
    "# Classwork\n",
    "\n",
    "random walk s= {1,2,3,4} p = 0.5\n",
    "1. why is it a markov chain?\n",
    "\n",
    "The probability of the next state only depends on the current state\n",
    "\n",
    "2. code it for n = 1000, burn in = 1000\n",
    "\n",
    "3. what burn in gives best? what n? n > 3000, burn in > 1000 - seems we need atleast 4,000 samples total\n",
    "\n",
    "4. 0.25 for all\n"
   ]
  },
  {
   "cell_type": "code",
   "execution_count": 81,
   "metadata": {
    "vscode": {
     "languageId": "r"
    }
   },
   "outputs": [],
   "source": [
    "update = function(x) {\n",
    "    p = runif(1)\n",
    "    if (x == 1){\n",
    "        if (p <0.5){\n",
    "            next_state = 1\n",
    "        } else if (p<1) {\n",
    "            next_state = 2\n",
    "        }\n",
    "    } else if (x == 2){\n",
    "        if (p <0.5){\n",
    "            next_state = 1\n",
    "        } else if (p<1) {\n",
    "            next_state = 3\n",
    "        }\n",
    "    } else if (x == 3){\n",
    "        if (p <0.5){\n",
    "            next_state = 2\n",
    "        } else if (p<1) {\n",
    "            next_state = 4\n",
    "        }\n",
    "    } else if (x == 4){\n",
    "        if (p <0.5){\n",
    "            next_state = 3\n",
    "        } else if (p<1) {\n",
    "            next_state = 4\n",
    "        }\n",
    "    }\n",
    "    return (next_state)\n",
    "}\n",
    "\n",
    "alternate_update = function(x) {\n",
    "    i = sample(c(-1,1), 1)\n",
    "    next_step = i + x\n",
    "    if (next_step > 4){\n",
    "        next_step = 4\n",
    "    } else if (next_step<1){\n",
    "        next_step = 1\n",
    "    }\n",
    "    return (next_step)\n",
    "}\n",
    "\n",
    "alternate_update_10 = function(x) {\n",
    "    i = sample(c(-1,1), 1)\n",
    "    next_step = i + x\n",
    "    if (next_step > 10){\n",
    "        next_step = 10\n",
    "    } else if (next_step<1){\n",
    "        next_step = 1\n",
    "    }\n",
    "    return (next_step)\n",
    "}"
   ]
  },
  {
   "cell_type": "code",
   "execution_count": 112,
   "metadata": {
    "vscode": {
     "languageId": "r"
    }
   },
   "outputs": [],
   "source": [
    "n = 20000\n",
    "burn_in = 5000\n",
    "saved_states = rep(NA, n)\n",
    "initial_state = 4\n",
    "current_state = alternate_update_10(initial_state)\n",
    "for (step in 2:burn_in){\n",
    "    current_state = alternate_update_10(current_state)\n",
    "}\n",
    "for(step in 1:n){\n",
    "    saved_states[step] = alternate_update_10(current_state)\n",
    "    current_state = saved_states[step]\n",
    "}"
   ]
  },
  {
   "cell_type": "code",
   "execution_count": 113,
   "metadata": {
    "vscode": {
     "languageId": "r"
    }
   },
   "outputs": [
    {
     "data": {
      "image/png": "[encoded data removed]",
      "text/plain": [
       "plot without title"
      ]
     },
     "metadata": {
      "image/png": {
       "height": 420,
       "width": 420
      }
     },
     "output_type": "display_data"
    }
   ],
   "source": [
    "barplot(table(saved_states)/n)"
   ]
  },
  {
   "cell_type": "markdown",
   "metadata": {},
   "source": [
    "# Class work 10/17"
   ]
  },
  {
   "cell_type": "code",
   "execution_count": null,
   "metadata": {
    "vscode": {
     "languageId": "r"
    }
   },
   "outputs": [],
   "source": []
  }
 ],
 "metadata": {
  "kernelspec": {
   "display_name": "R",
   "language": "R",
   "name": "ir"
  },
  "language_info": {
   "codemirror_mode": "r",
   "file_extension": ".r",
   "mimetype": "text/x-r-source",
   "name": "R",
   "pygments_lexer": "r",
   "version": "4.2.2"
  },
  "orig_nbformat": 4
 },
 "nbformat": 4,
 "nbformat_minor": 2
}

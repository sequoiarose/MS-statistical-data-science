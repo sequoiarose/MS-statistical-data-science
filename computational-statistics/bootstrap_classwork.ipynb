{
 "cells": [
  {
   "cell_type": "code",
   "execution_count": 3,
   "metadata": {
    "vscode": {
     "languageId": "r"
    }
   },
   "outputs": [
    {
     "name": "stderr",
     "output_type": "stream",
     "text": [
      "Installing package into 'C:/Users/sequo/AppData/Local/R/win-library/4.2'\n",
      "(as 'lib' is unspecified)\n",
      "\n"
     ]
    },
    {
     "name": "stdout",
     "output_type": "stream",
     "text": [
      "package 'bootstrap' successfully unpacked and MD5 sums checked\n"
     ]
    },
    {
     "name": "stderr",
     "output_type": "stream",
     "text": [
      "Warning message:\n",
      "\"cannot remove prior installation of package 'bootstrap'\"\n",
      "Warning message in file.copy(savedcopy, lib, recursive = TRUE):\n",
      "\"problem copying C:\\Users\\sequo\\AppData\\Local\\R\\win-library\\4.2\\00LOCK\\bootstrap\\libs\\x64\\bootstrap.dll to C:\\Users\\sequo\\AppData\\Local\\R\\win-library\\4.2\\bootstrap\\libs\\x64\\bootstrap.dll: Permission denied\"\n",
      "Warning message:\n",
      "\"restored 'bootstrap'\"\n"
     ]
    },
    {
     "name": "stdout",
     "output_type": "stream",
     "text": [
      "\n",
      "The downloaded binary packages are in\n",
      "\tC:\\Users\\sequo\\AppData\\Local\\Temp\\RtmpuOmxdx\\downloaded_packages\n"
     ]
    }
   ],
   "source": [
    "install.packages(\"bootstrap\")"
   ]
  },
  {
   "cell_type": "code",
   "execution_count": 4,
   "metadata": {
    "vscode": {
     "languageId": "r"
    }
   },
   "outputs": [],
   "source": [
    "library(bootstrap)"
   ]
  },
  {
   "cell_type": "code",
   "execution_count": 5,
   "metadata": {
    "vscode": {
     "languageId": "r"
    }
   },
   "outputs": [
    {
     "data": {
      "text/html": [
       "<table class=\"dataframe\">\n",
       "<caption>A data.frame: 15 × 2</caption>\n",
       "<thead>\n",
       "\t<tr><th></th><th scope=col>LSAT</th><th scope=col>GPA</th></tr>\n",
       "\t<tr><th></th><th scope=col>&lt;dbl&gt;</th><th scope=col>&lt;dbl&gt;</th></tr>\n",
       "</thead>\n",
       "<tbody>\n",
       "\t<tr><th scope=row>1</th><td>576</td><td>3.39</td></tr>\n",
       "\t<tr><th scope=row>2</th><td>635</td><td>3.30</td></tr>\n",
       "\t<tr><th scope=row>3</th><td>558</td><td>2.81</td></tr>\n",
       "\t<tr><th scope=row>4</th><td>578</td><td>3.03</td></tr>\n",
       "\t<tr><th scope=row>5</th><td>666</td><td>3.44</td></tr>\n",
       "\t<tr><th scope=row>6</th><td>580</td><td>3.07</td></tr>\n",
       "\t<tr><th scope=row>7</th><td>555</td><td>3.00</td></tr>\n",
       "\t<tr><th scope=row>8</th><td>661</td><td>3.43</td></tr>\n",
       "\t<tr><th scope=row>9</th><td>651</td><td>3.36</td></tr>\n",
       "\t<tr><th scope=row>10</th><td>605</td><td>3.13</td></tr>\n",
       "\t<tr><th scope=row>11</th><td>653</td><td>3.12</td></tr>\n",
       "\t<tr><th scope=row>12</th><td>575</td><td>2.74</td></tr>\n",
       "\t<tr><th scope=row>13</th><td>545</td><td>2.76</td></tr>\n",
       "\t<tr><th scope=row>14</th><td>572</td><td>2.88</td></tr>\n",
       "\t<tr><th scope=row>15</th><td>594</td><td>2.96</td></tr>\n",
       "</tbody>\n",
       "</table>\n"
      ],
      "text/latex": [
       "A data.frame: 15 × 2\n",
       "\\begin{tabular}{r|ll}\n",
       "  & LSAT & GPA\\\\\n",
       "  & <dbl> & <dbl>\\\\\n",
       "\\hline\n",
       "\t1 & 576 & 3.39\\\\\n",
       "\t2 & 635 & 3.30\\\\\n",
       "\t3 & 558 & 2.81\\\\\n",
       "\t4 & 578 & 3.03\\\\\n",
       "\t5 & 666 & 3.44\\\\\n",
       "\t6 & 580 & 3.07\\\\\n",
       "\t7 & 555 & 3.00\\\\\n",
       "\t8 & 661 & 3.43\\\\\n",
       "\t9 & 651 & 3.36\\\\\n",
       "\t10 & 605 & 3.13\\\\\n",
       "\t11 & 653 & 3.12\\\\\n",
       "\t12 & 575 & 2.74\\\\\n",
       "\t13 & 545 & 2.76\\\\\n",
       "\t14 & 572 & 2.88\\\\\n",
       "\t15 & 594 & 2.96\\\\\n",
       "\\end{tabular}\n"
      ],
      "text/markdown": [
       "\n",
       "A data.frame: 15 × 2\n",
       "\n",
       "| <!--/--> | LSAT &lt;dbl&gt; | GPA &lt;dbl&gt; |\n",
       "|---|---|---|\n",
       "| 1 | 576 | 3.39 |\n",
       "| 2 | 635 | 3.30 |\n",
       "| 3 | 558 | 2.81 |\n",
       "| 4 | 578 | 3.03 |\n",
       "| 5 | 666 | 3.44 |\n",
       "| 6 | 580 | 3.07 |\n",
       "| 7 | 555 | 3.00 |\n",
       "| 8 | 661 | 3.43 |\n",
       "| 9 | 651 | 3.36 |\n",
       "| 10 | 605 | 3.13 |\n",
       "| 11 | 653 | 3.12 |\n",
       "| 12 | 575 | 2.74 |\n",
       "| 13 | 545 | 2.76 |\n",
       "| 14 | 572 | 2.88 |\n",
       "| 15 | 594 | 2.96 |\n",
       "\n"
      ],
      "text/plain": [
       "   LSAT GPA \n",
       "1  576  3.39\n",
       "2  635  3.30\n",
       "3  558  2.81\n",
       "4  578  3.03\n",
       "5  666  3.44\n",
       "6  580  3.07\n",
       "7  555  3.00\n",
       "8  661  3.43\n",
       "9  651  3.36\n",
       "10 605  3.13\n",
       "11 653  3.12\n",
       "12 575  2.74\n",
       "13 545  2.76\n",
       "14 572  2.88\n",
       "15 594  2.96"
      ]
     },
     "metadata": {},
     "output_type": "display_data"
    }
   ],
   "source": [
    "law"
   ]
  },
  {
   "cell_type": "code",
   "execution_count": 6,
   "metadata": {
    "vscode": {
     "languageId": "r"
    }
   },
   "outputs": [
    {
     "data": {
      "text/html": [
       "0.776374491289407"
      ],
      "text/latex": [
       "0.776374491289407"
      ],
      "text/markdown": [
       "0.776374491289407"
      ],
      "text/plain": [
       "[1] 0.7763745"
      ]
     },
     "metadata": {},
     "output_type": "display_data"
    }
   ],
   "source": [
    "theta_hat = cor(law$LSAT, law$GPA)\n",
    "theta_hat"
   ]
  },
  {
   "cell_type": "markdown",
   "metadata": {},
   "source": [
    "1. estimate SE using 2000 samples"
   ]
  },
  {
   "cell_type": "code",
   "execution_count": 7,
   "metadata": {
    "vscode": {
     "languageId": "r"
    }
   },
   "outputs": [],
   "source": [
    "B = 2000\n",
    "boot_means = rep(NA, B)\n",
    "inds = seq(1,15)\n",
    "for (b in 1:B){\n",
    "    boot = sample(inds, size=15, replace=TRUE)\n",
    "    boot_df = law[boot, ]\n",
    "    boot_means[b] = cor(boot_df$LSAT, boot_df$GPA)\n",
    "}"
   ]
  },
  {
   "cell_type": "code",
   "execution_count": 8,
   "metadata": {
    "vscode": {
     "languageId": "r"
    }
   },
   "outputs": [
    {
     "data": {
      "text/html": [
       "0.131085679269057"
      ],
      "text/latex": [
       "0.131085679269057"
      ],
      "text/markdown": [
       "0.131085679269057"
      ],
      "text/plain": [
       "[1] 0.1310857"
      ]
     },
     "metadata": {},
     "output_type": "display_data"
    }
   ],
   "source": [
    "sd(boot_means)"
   ]
  },
  {
   "cell_type": "code",
   "execution_count": 9,
   "metadata": {
    "vscode": {
     "languageId": "r"
    }
   },
   "outputs": [
    {
     "data": {
      "text/html": [
       "0.772054359690027"
      ],
      "text/latex": [
       "0.772054359690027"
      ],
      "text/markdown": [
       "0.772054359690027"
      ],
      "text/plain": [
       "[1] 0.7720544"
      ]
     },
     "metadata": {},
     "output_type": "display_data"
    }
   ],
   "source": [
    "mean(boot_means)"
   ]
  },
  {
   "cell_type": "markdown",
   "metadata": {},
   "source": [
    "2. calculate bias $bias = \\bar{\\theta}_B - \\hat{\\theta}$\n"
   ]
  },
  {
   "cell_type": "code",
   "execution_count": 10,
   "metadata": {
    "vscode": {
     "languageId": "r"
    }
   },
   "outputs": [],
   "source": [
    "theta_boot = mean(boot_means)\n",
    "bias = theta_boot-theta_hat"
   ]
  },
  {
   "cell_type": "code",
   "execution_count": 11,
   "metadata": {
    "vscode": {
     "languageId": "r"
    }
   },
   "outputs": [
    {
     "data": {
      "text/html": [
       "-0.00432013159937994"
      ],
      "text/latex": [
       "-0.00432013159937994"
      ],
      "text/markdown": [
       "-0.00432013159937994"
      ],
      "text/plain": [
       "[1] -0.004320132"
      ]
     },
     "metadata": {},
     "output_type": "display_data"
    }
   ],
   "source": [
    "bias"
   ]
  },
  {
   "cell_type": "markdown",
   "metadata": {},
   "source": [
    "3. As a rule of thumb, we need to correct an estimate for bias if |bias|/SE > 2.5. Using your estimates of the SE and bias from above, do we need to correct for bias in our sample correlation estimator? Why or why not?"
   ]
  },
  {
   "cell_type": "code",
   "execution_count": 12,
   "metadata": {
    "vscode": {
     "languageId": "r"
    }
   },
   "outputs": [
    {
     "data": {
      "text/html": [
       "0.0329565489035056"
      ],
      "text/latex": [
       "0.0329565489035056"
      ],
      "text/markdown": [
       "0.0329565489035056"
      ],
      "text/plain": [
       "[1] 0.03295655"
      ]
     },
     "metadata": {},
     "output_type": "display_data"
    }
   ],
   "source": [
    "abs(bias)/sd(boot_means)"
   ]
  },
  {
   "cell_type": "markdown",
   "metadata": {},
   "source": [
    "# Jackknife"
   ]
  },
  {
   "cell_type": "code",
   "execution_count": 24,
   "metadata": {
    "vscode": {
     "languageId": "r"
    }
   },
   "outputs": [],
   "source": [
    "n = nrow(law)\n",
    "theta.jack = rep(NA, n)\n",
    "for (i in 1:n){\n",
    "    jack_df = law[-c(i), ]\n",
    "    theta.jack[i] = cor(jack_df$LSAT, jack_df$GPA)\n",
    "}"
   ]
  },
  {
   "cell_type": "code",
   "execution_count": 25,
   "metadata": {
    "vscode": {
     "languageId": "r"
    }
   },
   "outputs": [],
   "source": [
    "se_est = sqrt((n-1)*(mean((theta.jack-mean(theta.jack))^2)))"
   ]
  },
  {
   "cell_type": "code",
   "execution_count": 27,
   "metadata": {
    "vscode": {
     "languageId": "r"
    }
   },
   "outputs": [
    {
     "data": {
      "text/html": [
       "0.00145082547487857"
      ],
      "text/latex": [
       "0.00145082547487857"
      ],
      "text/markdown": [
       "0.00145082547487857"
      ],
      "text/plain": [
       "[1] 0.001450825"
      ]
     },
     "metadata": {},
     "output_type": "display_data"
    }
   ],
   "source": [
    "mean((theta.jack-mean(theta.jack))^2)"
   ]
  },
  {
   "cell_type": "code",
   "execution_count": 26,
   "metadata": {
    "vscode": {
     "languageId": "r"
    }
   },
   "outputs": [
    {
     "data": {
      "text/html": [
       "0.142518618602272"
      ],
      "text/latex": [
       "0.142518618602272"
      ],
      "text/markdown": [
       "0.142518618602272"
      ],
      "text/plain": [
       "[1] 0.1425186"
      ]
     },
     "metadata": {},
     "output_type": "display_data"
    }
   ],
   "source": [
    "se_est"
   ]
  },
  {
   "cell_type": "code",
   "execution_count": 16,
   "metadata": {
    "vscode": {
     "languageId": "r"
    }
   },
   "outputs": [
    {
     "data": {
      "text/html": [
       "0.77591208964327"
      ],
      "text/latex": [
       "0.77591208964327"
      ],
      "text/markdown": [
       "0.77591208964327"
      ],
      "text/plain": [
       "[1] 0.7759121"
      ]
     },
     "metadata": {},
     "output_type": "display_data"
    }
   ],
   "source": [
    "mean(theta.jack)"
   ]
  },
  {
   "cell_type": "markdown",
   "metadata": {},
   "source": [
    "# bias"
   ]
  },
  {
   "cell_type": "code",
   "execution_count": 19,
   "metadata": {
    "vscode": {
     "languageId": "r"
    }
   },
   "outputs": [],
   "source": [
    "theta_jack = mean(theta.jack)\n",
    "bias_est = (n-1)*(mean(theta.jack)-theta_hat)"
   ]
  },
  {
   "cell_type": "code",
   "execution_count": 20,
   "metadata": {
    "vscode": {
     "languageId": "r"
    }
   },
   "outputs": [
    {
     "data": {
      "text/html": [
       "-0.00647362304592081"
      ],
      "text/latex": [
       "-0.00647362304592081"
      ],
      "text/markdown": [
       "-0.00647362304592081"
      ],
      "text/plain": [
       "[1] -0.006473623"
      ]
     },
     "metadata": {},
     "output_type": "display_data"
    }
   ],
   "source": [
    "bias_est"
   ]
  },
  {
   "cell_type": "code",
   "execution_count": 21,
   "metadata": {
    "vscode": {
     "languageId": "r"
    }
   },
   "outputs": [
    {
     "data": {
      "text/html": [
       "0.0454229988292743"
      ],
      "text/latex": [
       "0.0454229988292743"
      ],
      "text/markdown": [
       "0.0454229988292743"
      ],
      "text/plain": [
       "[1] 0.045423"
      ]
     },
     "metadata": {},
     "output_type": "display_data"
    }
   ],
   "source": [
    "abs(bias_est)/se_est"
   ]
  },
  {
   "cell_type": "code",
   "execution_count": null,
   "metadata": {
    "vscode": {
     "languageId": "r"
    }
   },
   "outputs": [],
   "source": []
  },
  {
   "cell_type": "markdown",
   "metadata": {},
   "source": [
    "1. what is the form of the $\\hat{SE}^{JK}(\\bar{X})$?\n",
    "\n",
    " $$\\hat{SE}^{JK}(\\bar{X}) = \\sqrt{\\frac{n-1}{n}\\sum_{i=1}^n(\\)}$$"
   ]
  }
 ],
 "metadata": {
  "kernelspec": {
   "display_name": "R",
   "language": "R",
   "name": "ir"
  },
  "language_info": {
   "codemirror_mode": "r",
   "file_extension": ".r",
   "mimetype": "text/x-r-source",
   "name": "R",
   "pygments_lexer": "r",
   "version": "4.2.2"
  }
 },
 "nbformat": 4,
 "nbformat_minor": 2
}

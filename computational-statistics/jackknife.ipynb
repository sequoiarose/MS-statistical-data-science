{
 "cells": [
  {
   "cell_type": "markdown",
   "metadata": {},
   "source": [
    "# Example:\n",
    "\n",
    "compute the jackknife bias of the MLE for $\\theta$ in an exponential model, given by $\\hat{\\theta_{MLE}} = 1/\\bar{x}$. To do so, generate a sample size of $n=20$ from an exponential distribution with parameter $\\theta = 3$. Compare the result with the theoretical bias which has $bias(\\hat{\\theta_{MLE}}) = \\frac{\\theta}{n-1}$. Then compute the jackknife standarad error of $\\hat{\\theta_{MLE}}$"
   ]
  },
  {
   "cell_type": "code",
   "execution_count": 1,
   "metadata": {
    "vscode": {
     "languageId": "r"
    }
   },
   "outputs": [],
   "source": [
    "n = 20\n",
    "theta = 3\n",
    "set.seed(1949)\n",
    "\n",
    "x = rexp(n = n, rate = theta)\n",
    "\n",
    "theta.hat = 1/mean(x)"
   ]
  },
  {
   "cell_type": "code",
   "execution_count": 2,
   "metadata": {
    "vscode": {
     "languageId": "r"
    }
   },
   "outputs": [
    {
     "data": {
      "text/html": [
       "1.97516649794918"
      ],
      "text/latex": [
       "1.97516649794918"
      ],
      "text/markdown": [
       "1.97516649794918"
      ],
      "text/plain": [
       "[1] 1.975166"
      ]
     },
     "metadata": {},
     "output_type": "display_data"
    }
   ],
   "source": [
    "theta.hat"
   ]
  },
  {
   "cell_type": "code",
   "execution_count": 3,
   "metadata": {
    "vscode": {
     "languageId": "r"
    }
   },
   "outputs": [],
   "source": [
    "# bias\n",
    "theta.jack = rep(NA, n)\n",
    "for (i in 1:n){\n",
    "    x_i = x[-i]\n",
    "    theta.jack[i] = 1/mean(x_i)\n",
    "}\n",
    "\n",
    "bias_est = (n-1)*(mean(theta.jack)-theta.hat)"
   ]
  },
  {
   "cell_type": "code",
   "execution_count": 4,
   "metadata": {
    "vscode": {
     "languageId": "r"
    }
   },
   "outputs": [
    {
     "data": {
      "text/html": [
       "0.0989894398064601"
      ],
      "text/latex": [
       "0.0989894398064601"
      ],
      "text/markdown": [
       "0.0989894398064601"
      ],
      "text/plain": [
       "[1] 0.09898944"
      ]
     },
     "metadata": {},
     "output_type": "display_data"
    }
   ],
   "source": [
    "bias_est"
   ]
  },
  {
   "cell_type": "code",
   "execution_count": 5,
   "metadata": {
    "vscode": {
     "languageId": "r"
    }
   },
   "outputs": [
    {
     "data": {
      "text/html": [
       "0.157894736842105"
      ],
      "text/latex": [
       "0.157894736842105"
      ],
      "text/markdown": [
       "0.157894736842105"
      ],
      "text/plain": [
       "[1] 0.1578947"
      ]
     },
     "metadata": {},
     "output_type": "display_data"
    }
   ],
   "source": [
    "3/19 #theory"
   ]
  },
  {
   "cell_type": "code",
   "execution_count": 9,
   "metadata": {
    "vscode": {
     "languageId": "r"
    }
   },
   "outputs": [],
   "source": [
    "se_est = sqrt(((n-1)/n)*(mean((theta.jack-mean(theta.jack))^2)))"
   ]
  },
  {
   "cell_type": "code",
   "execution_count": 10,
   "metadata": {
    "vscode": {
     "languageId": "r"
    }
   },
   "outputs": [
    {
     "data": {
      "text/html": [
       "0.102891735328681"
      ],
      "text/latex": [
       "0.102891735328681"
      ],
      "text/markdown": [
       "0.102891735328681"
      ],
      "text/plain": [
       "[1] 0.1028917"
      ]
     },
     "metadata": {},
     "output_type": "display_data"
    }
   ],
   "source": [
    "se_est"
   ]
  },
  {
   "cell_type": "code",
   "execution_count": null,
   "metadata": {
    "vscode": {
     "languageId": "r"
    }
   },
   "outputs": [],
   "source": []
  }
 ],
 "metadata": {
  "kernelspec": {
   "display_name": "R",
   "language": "R",
   "name": "ir"
  },
  "language_info": {
   "codemirror_mode": "r",
   "file_extension": ".r",
   "mimetype": "text/x-r-source",
   "name": "R",
   "pygments_lexer": "r",
   "version": "4.2.2"
  }
 },
 "nbformat": 4,
 "nbformat_minor": 2
}

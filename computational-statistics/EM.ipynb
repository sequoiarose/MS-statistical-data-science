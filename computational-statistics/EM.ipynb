{
 "cells": [
  {
   "cell_type": "markdown",
   "metadata": {},
   "source": [
    "# EM Algorithm\n",
    "\n",
    "1. Calculate E-step\n",
    "2. calculate M step - mu maximize loglikelihood"
   ]
  },
  {
   "cell_type": "code",
   "execution_count": 1,
   "metadata": {
    "vscode": {
     "languageId": "r"
    }
   },
   "outputs": [],
   "source": [
    "data = rnorm(10, 1, 1)\n",
    "x = data[-10] # known data\n",
    "y = data[10] # missing data"
   ]
  },
  {
   "cell_type": "code",
   "execution_count": 2,
   "metadata": {
    "vscode": {
     "languageId": "r"
    }
   },
   "outputs": [
    {
     "data": {
      "text/html": [
       "1.04455235701352"
      ],
      "text/latex": [
       "1.04455235701352"
      ],
      "text/markdown": [
       "1.04455235701352"
      ],
      "text/plain": [
       "[1] 1.044552"
      ]
     },
     "metadata": {},
     "output_type": "display_data"
    }
   ],
   "source": [
    "mu_initial = 0\n",
    "tolerance = .Machine$double.eps^5\n",
    "\n",
    "max = 10000\n",
    "\n",
    "mu_current = mu_initial\n",
    "for (i in 1:max){\n",
    "    mu_next = mean(c(x, mu_current))\n",
    "    if (abs(mu_next - mu_current)<tolerance){\n",
    "        break\n",
    "    }\n",
    "\n",
    "    mu_current = mu_next\n",
    "}\n",
    "\n",
    "mu_current"
   ]
  },
  {
   "cell_type": "code",
   "execution_count": null,
   "metadata": {
    "vscode": {
     "languageId": "r"
    }
   },
   "outputs": [],
   "source": []
  }
 ],
 "metadata": {
  "kernelspec": {
   "display_name": "R",
   "language": "R",
   "name": "ir"
  },
  "language_info": {
   "codemirror_mode": "r",
   "file_extension": ".r",
   "mimetype": "text/x-r-source",
   "name": "R",
   "pygments_lexer": "r",
   "version": "4.2.2"
  }
 },
 "nbformat": 4,
 "nbformat_minor": 2
}

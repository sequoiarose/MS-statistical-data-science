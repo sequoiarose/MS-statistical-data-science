{
 "cells": [
  {
   "cell_type": "markdown",
   "metadata": {},
   "source": [
    "The code below estimates $\\int_a^b e^{x^2/2}$"
   ]
  },
  {
   "cell_type": "code",
   "execution_count": 5,
   "metadata": {
    "vscode": {
     "languageId": "r"
    }
   },
   "outputs": [
    {
     "data": {
      "text/html": [
       "1.70700918448095"
      ],
      "text/latex": [
       "1.70700918448095"
      ],
      "text/markdown": [
       "1.70700918448095"
      ],
      "text/plain": [
       "[1] 1.707009"
      ]
     },
     "metadata": {},
     "output_type": "display_data"
    },
    {
     "data": {
      "text/html": [
       "0.680998136723021"
      ],
      "text/latex": [
       "0.680998136723021"
      ],
      "text/markdown": [
       "0.680998136723021"
      ],
      "text/plain": [
       "[1] 0.6809981"
      ]
     },
     "metadata": {},
     "output_type": "display_data"
    }
   ],
   "source": [
    "n = 100\n",
    "a = -1\n",
    "b = 1\n",
    "u = runif(n, a, b)\n",
    "\n",
    "# summary(u) to check u\n",
    "\n",
    "h = exp(-u^2 / 2)*(b-a)\n",
    "mean(h) \n",
    "\n",
    "# to get the normal\n",
    "mean(h) / sqrt((2 * pi))"
   ]
  },
  {
   "cell_type": "markdown",
   "metadata": {},
   "source": [
    "The code below estimates $\\int_{-\\infty}^2 e^{x^2/2}$"
   ]
  },
  {
   "cell_type": "code",
   "execution_count": 12,
   "metadata": {
    "vscode": {
     "languageId": "r"
    }
   },
   "outputs": [
    {
     "data": {
      "text/html": [
       "0.977458320205721"
      ],
      "text/latex": [
       "0.977458320205721"
      ],
      "text/markdown": [
       "0.977458320205721"
      ],
      "text/plain": [
       "[1] 0.9774583"
      ]
     },
     "metadata": {},
     "output_type": "display_data"
    }
   ],
   "source": [
    "n = 1000000\n",
    "a = 0\n",
    "b = 1\n",
    "u = runif(n, a, b)\n",
    "x = 2 \n",
    "hx = function(x,u){\n",
    "    exp((-(x*u)^2)/2)\n",
    "}\n",
    "\n",
    "(x/sqrt(2*pi))*mean(hx(x, u)) + 0.5 # 0.5 since x positive"
   ]
  },
  {
   "cell_type": "markdown",
   "metadata": {},
   "source": [
    "The code below estimates $\\int_{-\\infty}^2 e^{x^2/2}$"
   ]
  },
  {
   "cell_type": "code",
   "execution_count": 19,
   "metadata": {
    "vscode": {
     "languageId": "r"
    }
   },
   "outputs": [],
   "source": [
    "n = 10000\n",
    "u = runif(n)\n",
    "x = 2\n",
    "\n",
    "hx = function(x,u){\n",
    "    exp((-(x*u)^2)/2)\n",
    "}\n",
    "\n",
    "theta_hat = (x/sqrt(2*pi))*mean(hx(x, u)) + 0.5 # 0.5 since x positive"
   ]
  },
  {
   "cell_type": "code",
   "execution_count": 20,
   "metadata": {
    "vscode": {
     "languageId": "r"
    }
   },
   "outputs": [],
   "source": [
    "se =sqrt(sum((hx(x,u)-theta_hat)^2))/n"
   ]
  },
  {
   "cell_type": "code",
   "execution_count": 21,
   "metadata": {
    "vscode": {
     "languageId": "r"
    }
   },
   "outputs": [
    {
     "data": {
      "text/html": [
       "0.0047619280747858"
      ],
      "text/latex": [
       "0.0047619280747858"
      ],
      "text/markdown": [
       "0.0047619280747858"
      ],
      "text/plain": [
       "[1] 0.004761928"
      ]
     },
     "metadata": {},
     "output_type": "display_data"
    }
   ],
   "source": [
    "se"
   ]
  },
  {
   "cell_type": "code",
   "execution_count": 22,
   "metadata": {
    "vscode": {
     "languageId": "r"
    }
   },
   "outputs": [],
   "source": [
    "z = qnorm(0.025, lower.tail=FALSE)"
   ]
  },
  {
   "cell_type": "code",
   "execution_count": 23,
   "metadata": {
    "vscode": {
     "languageId": "r"
    }
   },
   "outputs": [],
   "source": [
    "CI = c(theta_hat-se*z, theta_hat+se*z)"
   ]
  },
  {
   "cell_type": "code",
   "execution_count": 24,
   "metadata": {
    "vscode": {
     "languageId": "r"
    }
   },
   "outputs": [
    {
     "data": {
      "text/html": [
       "<style>\n",
       ".list-inline {list-style: none; margin:0; padding: 0}\n",
       ".list-inline>li {display: inline-block}\n",
       ".list-inline>li:not(:last-child)::after {content: \"\\00b7\"; padding: 0 .5ex}\n",
       "</style>\n",
       "<ol class=list-inline><li>0.966112444351725</li><li>0.984778859398826</li></ol>\n"
      ],
      "text/latex": [
       "\\begin{enumerate*}\n",
       "\\item 0.966112444351725\n",
       "\\item 0.984778859398826\n",
       "\\end{enumerate*}\n"
      ],
      "text/markdown": [
       "1. 0.966112444351725\n",
       "2. 0.984778859398826\n",
       "\n",
       "\n"
      ],
      "text/plain": [
       "[1] 0.9661124 0.9847789"
      ]
     },
     "metadata": {},
     "output_type": "display_data"
    }
   ],
   "source": [
    "CI"
   ]
  }
 ],
 "metadata": {
  "kernelspec": {
   "display_name": "R",
   "language": "R",
   "name": "ir"
  },
  "language_info": {
   "codemirror_mode": "r",
   "file_extension": ".r",
   "mimetype": "text/x-r-source",
   "name": "R",
   "pygments_lexer": "r",
   "version": "4.2.2"
  },
  "orig_nbformat": 4
 },
 "nbformat": 4,
 "nbformat_minor": 2
}

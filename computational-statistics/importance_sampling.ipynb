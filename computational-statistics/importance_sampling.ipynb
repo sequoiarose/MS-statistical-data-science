{
 "cells": [
  {
   "cell_type": "markdown",
   "metadata": {},
   "source": [
    "Suppose $X\\sim Exp(1)$ want to estimate $E(e^{-X+cosX})$"
   ]
  },
  {
   "cell_type": "code",
   "execution_count": 2,
   "metadata": {
    "vscode": {
     "languageId": "r"
    }
   },
   "outputs": [
    {
     "data": {
      "image/png": "[encoded data removed]",
      "text/plain": [
       "plot without title"
      ]
     },
     "metadata": {
      "image/png": {
       "height": 420,
       "width": 420
      }
     },
     "output_type": "display_data"
    }
   ],
   "source": [
    "curve(exp(-x + cos(x)) * exp(-x), 0, 2.5, n = 101)\n",
    "curve(exp(-x), 0, 2.5, add = TRUE, col = \"violet\")\n",
    "curve(2*exp(-2*x), 0, 2.5, add=TRUE, col=\"orange\")"
   ]
  },
  {
   "cell_type": "markdown",
   "metadata": {},
   "source": [
    "# Importance sampling"
   ]
  },
  {
   "cell_type": "code",
   "execution_count": 4,
   "metadata": {
    "vscode": {
     "languageId": "r"
    }
   },
   "outputs": [
    {
     "data": {
      "text/html": [
       "1.16723936313745"
      ],
      "text/latex": [
       "1.16723936313745"
      ],
      "text/markdown": [
       "1.16723936313745"
      ],
      "text/plain": [
       "[1] 1.167239"
      ]
     },
     "metadata": {},
     "output_type": "display_data"
    },
    {
     "data": {
      "text/html": [
       "0.00823167446324641"
      ],
      "text/latex": [
       "0.00823167446324641"
      ],
      "text/markdown": [
       "0.00823167446324641"
      ],
      "text/plain": [
       "[1] 0.008231674"
      ]
     },
     "metadata": {},
     "output_type": "display_data"
    }
   ],
   "source": [
    "n = 1000\n",
    "X = rexp(n, rate=2)\n",
    "weights = rep(NA, n)\n",
    "mu = rep(NA, n)\n",
    "\n",
    "for (i in 1:n){\n",
    "    weights[i] = dexp(X[i])/dexp(X[i], rate=2)\n",
    "    mu[i] = weights[i]*exp((-1*X[i])+cos(X[i]))\n",
    "}\n",
    "\n",
    "mean(mu)\n",
    "sqrt(var(mu)/n)"
   ]
  },
  {
   "cell_type": "markdown",
   "metadata": {},
   "source": [
    "# Naive MC"
   ]
  },
  {
   "cell_type": "code",
   "execution_count": 5,
   "metadata": {
    "vscode": {
     "languageId": "r"
    }
   },
   "outputs": [
    {
     "data": {
      "text/html": [
       "1.15807966608975"
      ],
      "text/latex": [
       "1.15807966608975"
      ],
      "text/markdown": [
       "1.15807966608975"
      ],
      "text/plain": [
       "[1] 1.15808"
      ]
     },
     "metadata": {},
     "output_type": "display_data"
    },
    {
     "data": {
      "text/html": [
       "0.0277719072845393"
      ],
      "text/latex": [
       "0.0277719072845393"
      ],
      "text/markdown": [
       "0.0277719072845393"
      ],
      "text/plain": [
       "[1] 0.02777191"
      ]
     },
     "metadata": {},
     "output_type": "display_data"
    }
   ],
   "source": [
    "X = rexp(n, 1)\n",
    "mean(exp(-1*X+cos(X)))\n",
    "sqrt(var(exp(-1*X+cos(X)))/n)"
   ]
  },
  {
   "cell_type": "markdown",
   "metadata": {},
   "source": [
    "## Classwork"
   ]
  },
  {
   "cell_type": "markdown",
   "metadata": {},
   "source": [
    "Goal: find importance sampling estimator for \n",
    "\n",
    "$$= \\int_{0}^1 \\frac{e^{-x}}{1+x^2} dx$$\n",
    "\n",
    "$$h(x) = \\frac{e^{-x}}{1+x^2}$$\n",
    "\n",
    "$$\\pi (x) \\text{ as } U(0,1)$$\n",
    "proposal functions:\n",
    "\n",
    "1. $g(x)=1 \\text{ for } 0<x<1$\n",
    "2. $g(x)=e^{-x} \\text{ for } 0<x< \\infty$\n",
    "3. $g(x) = \\frac{e^{-x}}{1-e^{-1}}\\text{ for } 0<x<1$\n",
    "4. $g(x) = \\frac{4}{\\pi (1+x^2)} \\text{ for } 0<x<1$"
   ]
  },
  {
   "cell_type": "code",
   "execution_count": 3,
   "metadata": {
    "vscode": {
     "languageId": "r"
    }
   },
   "outputs": [
    {
     "data": {
      "image/png": "[encoded data removed]",
      "text/plain": [
       "plot without title"
      ]
     },
     "metadata": {
      "image/png": {
       "height": 420,
       "width": 420
      }
     },
     "output_type": "display_data"
    }
   ],
   "source": [
    "curve(exp(-x)/(1+x^2), 0, 1, n = 101)\n",
    "abline(h=1, col=\"violet\")\n",
    "curve(exp(-1*x), 0, 1, add=TRUE, col=\"orange\")\n",
    "curve(exp(-1*x)/(1-exp(-1)), 0, 1, add=TRUE, col=\"red\")\n",
    "curve(4/(pi*(1+x^2)), 0, 1, add=TRUE, col=\"blue\")"
   ]
  },
  {
   "cell_type": "code",
   "execution_count": 5,
   "metadata": {
    "vscode": {
     "languageId": "r"
    }
   },
   "outputs": [],
   "source": [
    "h_x = function(x){\n",
    "    return (exp(-1*x)/(1+x^2))\n",
    "}\n",
    "\n",
    "pi_x = function(x){\n",
    "    return (dunif(x, 0, 1))\n",
    "}\n",
    "\n",
    "g_x1 = function(x){\n",
    "    return(1)\n",
    "}\n",
    "\n",
    "g_x2 = function(x){\n",
    "    return(exp(-1*x))\n",
    "}\n",
    "\n",
    "g_x3 = function(x){\n",
    "    return(exp(-1*x)/(1-exp(-1)))\n",
    "}\n",
    "\n",
    "g_x4 = function(x){\n",
    "    \n",
    "}\n"
   ]
  },
  {
   "cell_type": "markdown",
   "metadata": {},
   "source": [
    "1. $g(x)=1 \\text{ for } 0<x<1$"
   ]
  },
  {
   "cell_type": "code",
   "execution_count": 8,
   "metadata": {
    "vscode": {
     "languageId": "r"
    }
   },
   "outputs": [
    {
     "data": {
      "text/html": [
       "0.516429241458095"
      ],
      "text/latex": [
       "0.516429241458095"
      ],
      "text/markdown": [
       "0.516429241458095"
      ],
      "text/plain": [
       "[1] 0.5164292"
      ]
     },
     "metadata": {},
     "output_type": "display_data"
    },
    {
     "data": {
      "text/html": [
       "0.00771028560860237"
      ],
      "text/latex": [
       "0.00771028560860237"
      ],
      "text/markdown": [
       "0.00771028560860237"
      ],
      "text/plain": [
       "[1] 0.007710286"
      ]
     },
     "metadata": {},
     "output_type": "display_data"
    }
   ],
   "source": [
    "n = 1000\n",
    "X = runif(n)\n",
    "weights = rep(NA, n)\n",
    "mu = rep(NA, n)\n",
    "\n",
    "for (i in 1:n){\n",
    "    weights[i] = dunif(X[i], 0, 1)/ dunif(X[i], 0, 1)\n",
    "    mu[i] = weights[i]*h_x(X[i])\n",
    "}\n",
    "\n",
    "mean(mu)\n",
    "sqrt(var(mu)/n)"
   ]
  },
  {
   "cell_type": "markdown",
   "metadata": {},
   "source": [
    "2. $g(x)=e^{-x} \\text{ for } 0<x< \\infty$"
   ]
  },
  {
   "cell_type": "code",
   "execution_count": 9,
   "metadata": {
    "vscode": {
     "languageId": "r"
    }
   },
   "outputs": [
    {
     "data": {
      "text/html": [
       "0.525158169032757"
      ],
      "text/latex": [
       "0.525158169032757"
      ],
      "text/markdown": [
       "0.525158169032757"
      ],
      "text/plain": [
       "[1] 0.5251582"
      ]
     },
     "metadata": {},
     "output_type": "display_data"
    },
    {
     "data": {
      "text/html": [
       "0.0132608064305815"
      ],
      "text/latex": [
       "0.0132608064305815"
      ],
      "text/markdown": [
       "0.0132608064305815"
      ],
      "text/plain": [
       "[1] 0.01326081"
      ]
     },
     "metadata": {},
     "output_type": "display_data"
    }
   ],
   "source": [
    "n = 1000\n",
    "X = rexp(n)\n",
    "weights = rep(NA, n)\n",
    "mu = rep(NA, n)\n",
    "\n",
    "for (i in 1:n){\n",
    "    weights[i] = dunif(X[i], 0, 1)/ dexp(X[i])\n",
    "    mu[i] = weights[i]*h_x(X[i])\n",
    "}\n",
    "\n",
    "mean(mu)\n",
    "sqrt(var(mu)/n)"
   ]
  },
  {
   "cell_type": "markdown",
   "metadata": {},
   "source": [
    "3. $g(x) = \\frac{e^{-x}}{1-e^{-1}}\\text{ for } 0<x<1$\n",
    "\n",
    "need to renormalize the exponential find k so $k\\int_{0} ^1 e^{-x}$ or inverse\n",
    "\n",
    "inverse sampling:\n",
    "\n",
    "1. find cdf\n",
    "\n",
    "cdf = $\\int_{0}^{x} \\frac{e^{-s}}{1-e^{-1}} ds = \\frac{e^{-s}}{e^{-1}-1}|_0 ^x = \\frac{e^{-x}}{e^{-1}-1} - \\frac{1}{e^{-1}-1}$\n",
    "\n",
    "2. find inverse \n",
    "\n",
    "$$ y = \\frac{e^{-x}}{e^{-1}-1} - \\frac{1}{e^{-1}-1} $$\n",
    "\n",
    "$$ y + \\frac{1}{e^{-1}-1} = \\frac{e^{-x}}{e^{-1}-1}$$\n",
    "\n",
    "$$log(y)+log(\\frac{1}{e^{-1}-1} ) = log(e^{-x}) - log(e^{-1}-1) = -x $$\n",
    "\n",
    "$$x = log(\\frac{y}{e^{-1}-1} )$$\n",
    "\n",
    "3. sample from uniform\n",
    "\n",
    "4. plug into inverse cdf"
   ]
  },
  {
   "cell_type": "code",
   "execution_count": 17,
   "metadata": {
    "vscode": {
     "languageId": "r"
    }
   },
   "outputs": [],
   "source": [
    "inverse_cdf = function(u){\n",
    "    return(log(u/(exp(-1)-1)))\n",
    "}"
   ]
  },
  {
   "cell_type": "code",
   "execution_count": null,
   "metadata": {
    "vscode": {
     "languageId": "r"
    }
   },
   "outputs": [],
   "source": []
  },
  {
   "cell_type": "code",
   "execution_count": 18,
   "metadata": {
    "vscode": {
     "languageId": "r"
    }
   },
   "outputs": [
    {
     "name": "stderr",
     "output_type": "stream",
     "text": [
      "Warning message in log(u/(exp(-1) - 1)):\n",
      "\"NaNs produced\"\n"
     ]
    },
    {
     "data": {
      "text/html": [
       "NaN"
      ],
      "text/latex": [
       "NaN"
      ],
      "text/markdown": [
       "NaN"
      ],
      "text/plain": [
       "[1] NaN"
      ]
     },
     "metadata": {},
     "output_type": "display_data"
    },
    {
     "data": {
      "text/html": [
       "&lt;NA&gt;"
      ],
      "text/latex": [
       "<NA>"
      ],
      "text/markdown": [
       "&lt;NA&gt;"
      ],
      "text/plain": [
       "[1] NA"
      ]
     },
     "metadata": {},
     "output_type": "display_data"
    }
   ],
   "source": [
    "n = 1000\n",
    "u = runif(n)\n",
    "X = inverse_cdf(u)\n",
    "weights = rep(NA, n)\n",
    "mu = rep(NA, n)\n",
    "\n",
    "for (i in 1:n){\n",
    "    weights[i] = dunif(X[i], 0, 1)/ u[i]\n",
    "    mu[i] = weights[i]*h_x(X[i])\n",
    "}\n",
    "\n",
    "mean(mu)\n",
    "sqrt(var(mu)/n)"
   ]
  },
  {
   "cell_type": "markdown",
   "metadata": {},
   "source": []
  },
  {
   "cell_type": "markdown",
   "metadata": {},
   "source": []
  }
 ],
 "metadata": {
  "kernelspec": {
   "display_name": "R",
   "language": "R",
   "name": "ir"
  },
  "language_info": {
   "codemirror_mode": "r",
   "file_extension": ".r",
   "mimetype": "text/x-r-source",
   "name": "R",
   "pygments_lexer": "r",
   "version": "4.2.2"
  },
  "orig_nbformat": 4
 },
 "nbformat": 4,
 "nbformat_minor": 2
}

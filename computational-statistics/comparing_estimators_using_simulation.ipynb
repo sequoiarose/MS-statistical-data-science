{
 "cells": [
  {
   "cell_type": "markdown",
   "metadata": {},
   "source": [
    "# Setting 1"
   ]
  },
  {
   "cell_type": "code",
   "execution_count": 1,
   "metadata": {
    "vscode": {
     "languageId": "r"
    }
   },
   "outputs": [],
   "source": [
    "# setting\n",
    "n = 20\n",
    "size = 1\n",
    "p = 0.9\n",
    "theta = 0\n",
    "fromZ = rbinom(n, size, p)"
   ]
  },
  {
   "cell_type": "markdown",
   "metadata": {},
   "source": [
    "### use the law of large numbers: \n",
    "using many runs of the simulation will give us something close to the mse"
   ]
  },
  {
   "cell_type": "code",
   "execution_count": 2,
   "metadata": {
    "vscode": {
     "languageId": "r"
    }
   },
   "outputs": [
    {
     "data": {
      "text/html": [
       "0.56465501088333"
      ],
      "text/latex": [
       "0.56465501088333"
      ],
      "text/markdown": [
       "0.56465501088333"
      ],
      "text/plain": [
       "[1] 0.564655"
      ]
     },
     "metadata": {},
     "output_type": "display_data"
    },
    {
     "data": {
      "text/html": [
       "0.087447453005446"
      ],
      "text/latex": [
       "0.087447453005446"
      ],
      "text/markdown": [
       "0.087447453005446"
      ],
      "text/plain": [
       "[1] 0.08744745"
      ]
     },
     "metadata": {},
     "output_type": "display_data"
    },
    {
     "data": {
      "text/html": [
       "20.1791322198738"
      ],
      "text/latex": [
       "20.1791322198738"
      ],
      "text/markdown": [
       "20.1791322198738"
      ],
      "text/plain": [
       "[1] 20.17913"
      ]
     },
     "metadata": {},
     "output_type": "display_data"
    },
    {
     "data": {
      "text/html": [
       "0.564902664605945"
      ],
      "text/latex": [
       "0.564902664605945"
      ],
      "text/markdown": [
       "0.564902664605945"
      ],
      "text/plain": [
       "[1] 0.5649027"
      ]
     },
     "metadata": {},
     "output_type": "display_data"
    },
    {
     "data": {
      "text/html": [
       "0.0875346160948996"
      ],
      "text/latex": [
       "0.0875346160948996"
      ],
      "text/markdown": [
       "0.0875346160948996"
      ],
      "text/plain": [
       "[1] 0.08753462"
      ]
     },
     "metadata": {},
     "output_type": "display_data"
    },
    {
     "data": {
      "text/html": [
       "20.1828285799065"
      ],
      "text/latex": [
       "20.1828285799065"
      ],
      "text/markdown": [
       "20.1828285799065"
      ],
      "text/plain": [
       "[1] 20.18283"
      ]
     },
     "metadata": {},
     "output_type": "display_data"
    }
   ],
   "source": [
    "runs = 1000 \n",
    "set.seed(1)\n",
    "theta_hat_1s = rep(NA, runs)\n",
    "theta_hat_2s = rep(NA, runs)\n",
    "theta_hat_3s = rep(NA, runs)\n",
    "for (r in 1:runs){\n",
    "    fromZ = rbinom(n, size, p)\n",
    "    sample = fromZ*rnorm(n, mean=theta, sd=1) + (fromZ == FALSE)*rnorm(n, mean=theta, sd=10)\n",
    "    # estimators\n",
    "    theta_hat1 = mean(sample)\n",
    "    theta_hat2 = median(sample)\n",
    "    theta_hat3 = (min(sample)+max(sample))/2\n",
    "    # save values\n",
    "    theta_hat_1s[r] = theta_hat1\n",
    "    theta_hat_2s[r] = theta_hat2\n",
    "    theta_hat_3s[r] = theta_hat3\n",
    "}\n",
    "\n",
    "#calculate performance measure\n",
    "MSE1 = mean((theta_hat_1s-theta)^2)\n",
    "MSE2 = mean((theta_hat_2s-theta)^2)\n",
    "MSE3 = mean((theta_hat_3s-theta)^2)\n",
    "\n",
    "MSE1; MSE2; MSE3\n",
    "\n",
    "var1 = var(theta_hat_1s)\n",
    "var2 = var(theta_hat_2s)\n",
    "var3 = var(theta_hat_3s)\n",
    "\n",
    "var1; var2; var3 # unbiased since var and mse similar"
   ]
  },
  {
   "cell_type": "markdown",
   "metadata": {},
   "source": [
    "# Setting 2"
   ]
  },
  {
   "cell_type": "code",
   "execution_count": 3,
   "metadata": {
    "vscode": {
     "languageId": "r"
    }
   },
   "outputs": [],
   "source": [
    "# setting p = 1 for just standard normal\n",
    "n = 20\n",
    "size = 1\n",
    "prob = c(1, 0.9)\n",
    "theta = 0\n",
    "fromZ = rbinom(n, size, p)"
   ]
  },
  {
   "cell_type": "markdown",
   "metadata": {},
   "source": [
    "### use the law of large numbers: \n",
    "using many runs of the simulation will give us something close to the mse"
   ]
  },
  {
   "cell_type": "code",
   "execution_count": 4,
   "metadata": {
    "vscode": {
     "languageId": "r"
    }
   },
   "outputs": [],
   "source": [
    "# data storage\n",
    "results = data.frame(\"p1.MSE\"=rep(NA,3), \"p1.Var\"=rep(NA,3), \"p 0.9.MSE\"=rep(NA,3), \"p0.9.Var\"=rep(NA,3),\n",
    "        row.names=c(\"mean\", \"median\", \"min max average\"))"
   ]
  },
  {
   "cell_type": "code",
   "execution_count": 5,
   "metadata": {
    "vscode": {
     "languageId": "r"
    }
   },
   "outputs": [
    {
     "data": {
      "text/html": [
       "<table class=\"dataframe\">\n",
       "<caption>A data.frame: 3 × 4</caption>\n",
       "<thead>\n",
       "\t<tr><th></th><th scope=col>p1.MSE</th><th scope=col>p1.Var</th><th scope=col>p.0.9.MSE</th><th scope=col>p0.9.Var</th></tr>\n",
       "\t<tr><th></th><th scope=col>&lt;lgl&gt;</th><th scope=col>&lt;lgl&gt;</th><th scope=col>&lt;lgl&gt;</th><th scope=col>&lt;lgl&gt;</th></tr>\n",
       "</thead>\n",
       "<tbody>\n",
       "\t<tr><th scope=row>mean</th><td>NA</td><td>NA</td><td>NA</td><td>NA</td></tr>\n",
       "\t<tr><th scope=row>median</th><td>NA</td><td>NA</td><td>NA</td><td>NA</td></tr>\n",
       "\t<tr><th scope=row>min max average</th><td>NA</td><td>NA</td><td>NA</td><td>NA</td></tr>\n",
       "</tbody>\n",
       "</table>\n"
      ],
      "text/latex": [
       "A data.frame: 3 × 4\n",
       "\\begin{tabular}{r|llll}\n",
       "  & p1.MSE & p1.Var & p.0.9.MSE & p0.9.Var\\\\\n",
       "  & <lgl> & <lgl> & <lgl> & <lgl>\\\\\n",
       "\\hline\n",
       "\tmean & NA & NA & NA & NA\\\\\n",
       "\tmedian & NA & NA & NA & NA\\\\\n",
       "\tmin max average & NA & NA & NA & NA\\\\\n",
       "\\end{tabular}\n"
      ],
      "text/markdown": [
       "\n",
       "A data.frame: 3 × 4\n",
       "\n",
       "| <!--/--> | p1.MSE &lt;lgl&gt; | p1.Var &lt;lgl&gt; | p.0.9.MSE &lt;lgl&gt; | p0.9.Var &lt;lgl&gt; |\n",
       "|---|---|---|---|---|\n",
       "| mean | NA | NA | NA | NA |\n",
       "| median | NA | NA | NA | NA |\n",
       "| min max average | NA | NA | NA | NA |\n",
       "\n"
      ],
      "text/plain": [
       "                p1.MSE p1.Var p.0.9.MSE p0.9.Var\n",
       "mean            NA     NA     NA        NA      \n",
       "median          NA     NA     NA        NA      \n",
       "min max average NA     NA     NA        NA      "
      ]
     },
     "metadata": {},
     "output_type": "display_data"
    }
   ],
   "source": [
    "results"
   ]
  },
  {
   "cell_type": "code",
   "execution_count": 6,
   "metadata": {
    "vscode": {
     "languageId": "r"
    }
   },
   "outputs": [
    {
     "data": {
      "text/html": [
       "<table class=\"dataframe\">\n",
       "<caption>A data.frame: 3 × 4</caption>\n",
       "<thead>\n",
       "\t<tr><th></th><th scope=col>p1.MSE</th><th scope=col>p1.Var</th><th scope=col>p.0.9.MSE</th><th scope=col>p0.9.Var</th></tr>\n",
       "\t<tr><th></th><th scope=col>&lt;dbl&gt;</th><th scope=col>&lt;dbl&gt;</th><th scope=col>&lt;dbl&gt;</th><th scope=col>&lt;dbl&gt;</th></tr>\n",
       "</thead>\n",
       "<tbody>\n",
       "\t<tr><th scope=row>mean</th><td>0.04697557</td><td>0.04702178</td><td> 0.56874010</td><td> 0.56930939</td></tr>\n",
       "\t<tr><th scope=row>median</th><td>0.06761610</td><td>0.06768364</td><td> 0.09177966</td><td> 0.09187153</td></tr>\n",
       "\t<tr><th scope=row>min max average</th><td>0.14366948</td><td>0.14375767</td><td>20.84343423</td><td>20.86197366</td></tr>\n",
       "</tbody>\n",
       "</table>\n"
      ],
      "text/latex": [
       "A data.frame: 3 × 4\n",
       "\\begin{tabular}{r|llll}\n",
       "  & p1.MSE & p1.Var & p.0.9.MSE & p0.9.Var\\\\\n",
       "  & <dbl> & <dbl> & <dbl> & <dbl>\\\\\n",
       "\\hline\n",
       "\tmean & 0.04697557 & 0.04702178 &  0.56874010 &  0.56930939\\\\\n",
       "\tmedian & 0.06761610 & 0.06768364 &  0.09177966 &  0.09187153\\\\\n",
       "\tmin max average & 0.14366948 & 0.14375767 & 20.84343423 & 20.86197366\\\\\n",
       "\\end{tabular}\n"
      ],
      "text/markdown": [
       "\n",
       "A data.frame: 3 × 4\n",
       "\n",
       "| <!--/--> | p1.MSE &lt;dbl&gt; | p1.Var &lt;dbl&gt; | p.0.9.MSE &lt;dbl&gt; | p0.9.Var &lt;dbl&gt; |\n",
       "|---|---|---|---|---|\n",
       "| mean | 0.04697557 | 0.04702178 |  0.56874010 |  0.56930939 |\n",
       "| median | 0.06761610 | 0.06768364 |  0.09177966 |  0.09187153 |\n",
       "| min max average | 0.14366948 | 0.14375767 | 20.84343423 | 20.86197366 |\n",
       "\n"
      ],
      "text/plain": [
       "                p1.MSE     p1.Var     p.0.9.MSE   p0.9.Var   \n",
       "mean            0.04697557 0.04702178  0.56874010  0.56930939\n",
       "median          0.06761610 0.06768364  0.09177966  0.09187153\n",
       "min max average 0.14366948 0.14375767 20.84343423 20.86197366"
      ]
     },
     "metadata": {},
     "output_type": "display_data"
    }
   ],
   "source": [
    "runs = 1000 \n",
    "set.seed(1)\n",
    "# data storage\n",
    "results = data.frame(\"p1.MSE\"=rep(NA,3), \"p1.Var\"=rep(NA,3), \"p 0.9.MSE\"=rep(NA,3), \"p0.9.Var\"=rep(NA,3),\n",
    "        row.names=c(\"mean\", \"median\", \"min max average\"))\n",
    "\n",
    "for (i in 1:length(prob)){\n",
    "    theta_hat_1s = rep(NA, runs)\n",
    "    theta_hat_2s = rep(NA, runs)\n",
    "    theta_hat_3s = rep(NA, runs)\n",
    "    p = prob[i]\n",
    "    for (r in 1:runs){\n",
    "        fromZ = rbinom(n, size, p)\n",
    "        sample = fromZ*rnorm(n, mean=theta, sd=1) + (fromZ == FALSE)*rnorm(n, mean=theta, sd=10)\n",
    "        # estimators\n",
    "        theta_hat1 = mean(sample)\n",
    "        theta_hat2 = median(sample)\n",
    "        theta_hat3 = (min(sample)+max(sample))/2\n",
    "        # save values\n",
    "        theta_hat_1s[r] = theta_hat1\n",
    "        theta_hat_2s[r] = theta_hat2\n",
    "        theta_hat_3s[r] = theta_hat3\n",
    "    }\n",
    "    #store mse\n",
    "    MSE_col = (2*i)-1\n",
    "    results[1, MSE_col] = mean((theta_hat_1s-theta)^2)\n",
    "    results[2, MSE_col] = mean((theta_hat_2s-theta)^2)\n",
    "    results[3, MSE_col] = mean((theta_hat_3s-theta)^2)\n",
    "    #store var\n",
    "    var_col = 2*i\n",
    "    results[1, var_col] = var(theta_hat_1s)\n",
    "    results[2, var_col] = var(theta_hat_2s)\n",
    "    results[3, var_col] = var(theta_hat_3s)\n",
    "}\n",
    "\n",
    "results"
   ]
  },
  {
   "cell_type": "markdown",
   "metadata": {},
   "source": [
    "# K-trimmed mean\n",
    "\n",
    "can replace median and mean with this above"
   ]
  },
  {
   "cell_type": "code",
   "execution_count": 29,
   "metadata": {
    "vscode": {
     "languageId": "r"
    }
   },
   "outputs": [],
   "source": [
    "kTrimmedMean = function(x,k){\n",
    "    print(x)\n",
    "    print(sort(x)[k+1: length(x)-k])\n",
    "    return(mean(sort(x)[k+1: length(x)-k]))\n",
    "}"
   ]
  },
  {
   "cell_type": "code",
   "execution_count": 31,
   "metadata": {
    "vscode": {
     "languageId": "r"
    }
   },
   "outputs": [
    {
     "name": "stdout",
     "output_type": "stream",
     "text": [
      "[1] 13  4  5\n",
      "[1]  4  5 13\n"
     ]
    },
    {
     "data": {
      "text/html": [
       "7.33333333333333"
      ],
      "text/latex": [
       "7.33333333333333"
      ],
      "text/markdown": [
       "7.33333333333333"
      ],
      "text/plain": [
       "[1] 7.333333"
      ]
     },
     "metadata": {},
     "output_type": "display_data"
    }
   ],
   "source": [
    "test = 1:9\n",
    "kTrimmedMean(test,0)"
   ]
  },
  {
   "cell_type": "markdown",
   "metadata": {},
   "source": [
    "# Class activity\n",
    "\n",
    "create a function and compare to the 1-trimmed mean"
   ]
  },
  {
   "cell_type": "code",
   "execution_count": 24,
   "metadata": {
    "vscode": {
     "languageId": "r"
    }
   },
   "outputs": [],
   "source": [
    "mean_sqr = function(x){\n",
    "    x_sqr = x*x\n",
    "    x_sqr_sum = sum(x_sqr)\n",
    "    return(x_sqr_sum/(length(x)^2))\n",
    "}\n"
   ]
  },
  {
   "cell_type": "code",
   "execution_count": null,
   "metadata": {
    "vscode": {
     "languageId": "r"
    }
   },
   "outputs": [],
   "source": []
  },
  {
   "cell_type": "code",
   "execution_count": 27,
   "metadata": {
    "vscode": {
     "languageId": "r"
    }
   },
   "outputs": [],
   "source": [
    "# test estimator with 1 trimmed mean\n",
    "\n",
    "n = 20\n",
    "size = 1\n",
    "p = 0.9\n",
    "theta = 0\n",
    "\n",
    "ns = c(20,50,100,1000)"
   ]
  },
  {
   "cell_type": "code",
   "execution_count": 28,
   "metadata": {
    "vscode": {
     "languageId": "r"
    }
   },
   "outputs": [
    {
     "data": {
      "text/html": [
       "<table class=\"dataframe\">\n",
       "<caption>A data.frame: 2 × 8</caption>\n",
       "<thead>\n",
       "\t<tr><th></th><th scope=col>n20.MSE</th><th scope=col>n20.Var</th><th scope=col>n50.MSE</th><th scope=col>n50.Var</th><th scope=col>n100.MSE</th><th scope=col>n100.Var</th><th scope=col>n1000.MSE</th><th scope=col>n1000.Var</th></tr>\n",
       "\t<tr><th></th><th scope=col>&lt;dbl&gt;</th><th scope=col>&lt;dbl&gt;</th><th scope=col>&lt;dbl&gt;</th><th scope=col>&lt;dbl&gt;</th><th scope=col>&lt;dbl&gt;</th><th scope=col>&lt;dbl&gt;</th><th scope=col>&lt;dbl&gt;</th><th scope=col>&lt;dbl&gt;</th></tr>\n",
       "</thead>\n",
       "<tbody>\n",
       "\t<tr><th scope=row>1-trimmed mean</th><td>0.5646550</td><td>0.5649027</td><td>0.20179266</td><td>0.20198602</td><td>0.11498183</td><td>0.115088580</td><td>0.010826412</td><td>1.081885e-02</td></tr>\n",
       "\t<tr><th scope=row>squared mean</th><td>0.6618364</td><td>0.3574117</td><td>0.06377815</td><td>0.01985799</td><td>0.01519406</td><td>0.003110484</td><td>0.000120339</td><td>2.919710e-06</td></tr>\n",
       "</tbody>\n",
       "</table>\n"
      ],
      "text/latex": [
       "A data.frame: 2 × 8\n",
       "\\begin{tabular}{r|llllllll}\n",
       "  & n20.MSE & n20.Var & n50.MSE & n50.Var & n100.MSE & n100.Var & n1000.MSE & n1000.Var\\\\\n",
       "  & <dbl> & <dbl> & <dbl> & <dbl> & <dbl> & <dbl> & <dbl> & <dbl>\\\\\n",
       "\\hline\n",
       "\t1-trimmed mean & 0.5646550 & 0.5649027 & 0.20179266 & 0.20198602 & 0.11498183 & 0.115088580 & 0.010826412 & 1.081885e-02\\\\\n",
       "\tsquared mean & 0.6618364 & 0.3574117 & 0.06377815 & 0.01985799 & 0.01519406 & 0.003110484 & 0.000120339 & 2.919710e-06\\\\\n",
       "\\end{tabular}\n"
      ],
      "text/markdown": [
       "\n",
       "A data.frame: 2 × 8\n",
       "\n",
       "| <!--/--> | n20.MSE &lt;dbl&gt; | n20.Var &lt;dbl&gt; | n50.MSE &lt;dbl&gt; | n50.Var &lt;dbl&gt; | n100.MSE &lt;dbl&gt; | n100.Var &lt;dbl&gt; | n1000.MSE &lt;dbl&gt; | n1000.Var &lt;dbl&gt; |\n",
       "|---|---|---|---|---|---|---|---|---|\n",
       "| 1-trimmed mean | 0.5646550 | 0.5649027 | 0.20179266 | 0.20198602 | 0.11498183 | 0.115088580 | 0.010826412 | 1.081885e-02 |\n",
       "| squared mean | 0.6618364 | 0.3574117 | 0.06377815 | 0.01985799 | 0.01519406 | 0.003110484 | 0.000120339 | 2.919710e-06 |\n",
       "\n"
      ],
      "text/plain": [
       "               n20.MSE   n20.Var   n50.MSE    n50.Var    n100.MSE   n100.Var   \n",
       "1-trimmed mean 0.5646550 0.5649027 0.20179266 0.20198602 0.11498183 0.115088580\n",
       "squared mean   0.6618364 0.3574117 0.06377815 0.01985799 0.01519406 0.003110484\n",
       "               n1000.MSE   n1000.Var   \n",
       "1-trimmed mean 0.010826412 1.081885e-02\n",
       "squared mean   0.000120339 2.919710e-06"
      ]
     },
     "metadata": {},
     "output_type": "display_data"
    }
   ],
   "source": [
    "runs = 1000 \n",
    "set.seed(1)\n",
    "# data storage\n",
    "results = data.frame(\"n20.MSE\"=rep(NA,2), \"n20.Var\"=rep(NA,2),\"n50.MSE\"=rep(NA,2), \"n50.Var\"=rep(NA,2),\"n100.MSE\"=rep(NA,2), \"n100.Var\"=rep(NA,2),\n",
    "        \"n1000.MSE\"=rep(NA,2), \"n1000.Var\"=rep(NA,2),\n",
    "        row.names=c(\"1-trimmed mean\", \"squared mean\"))\n",
    "\n",
    "theta_hat_1s = rep(NA, runs)\n",
    "theta_hat_2s = rep(NA, runs)\n",
    "for (i in 1:length(ns)){\n",
    "    n = ns[i]\n",
    "    for (r in 1:runs){\n",
    "        fromZ = rbinom(n, size, p)\n",
    "        sample = fromZ*rnorm(n, mean=theta, sd=1) + (fromZ == FALSE)*rnorm(n, mean=theta, sd=10)\n",
    "        # estimators\n",
    "        theta_hat1 = kTrimmedMean(sample,1)\n",
    "        theta_hat2 = mean_sqr(sample)\n",
    "        theta_hat_1s[r] = theta_hat1\n",
    "        theta_hat_2s[r] = theta_hat2\n",
    "    }\n",
    "    #store mse\n",
    "    MSE_col = (2*i)-1\n",
    "    var_col = (2*i)\n",
    "    results[1, MSE_col] = mean((theta_hat_1s-theta)^2)\n",
    "    results[2, MSE_col] = mean((theta_hat_2s-theta)^2)\n",
    "    #store var\n",
    "    var_col = 2*i\n",
    "    results[1, var_col] = var(theta_hat_1s)\n",
    "    results[2, var_col] = var(theta_hat_2s)\n",
    "}\n",
    "\n",
    "\n",
    "\n",
    "results"
   ]
  },
  {
   "cell_type": "code",
   "execution_count": null,
   "metadata": {
    "vscode": {
     "languageId": "r"
    }
   },
   "outputs": [],
   "source": []
  },
  {
   "cell_type": "markdown",
   "metadata": {},
   "source": [
    "Ours performs well on the standard normal but not on the mixture - outliers have a large impact\n",
    "\n",
    "As n increases, the numerator is bounded and so it coverges to 0 faster"
   ]
  }
 ],
 "metadata": {
  "kernelspec": {
   "display_name": "R",
   "language": "R",
   "name": "ir"
  },
  "language_info": {
   "codemirror_mode": "r",
   "file_extension": ".r",
   "mimetype": "text/x-r-source",
   "name": "R",
   "pygments_lexer": "r",
   "version": "4.2.2"
  },
  "orig_nbformat": 4
 },
 "nbformat": 4,
 "nbformat_minor": 2
}

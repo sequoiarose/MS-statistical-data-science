{
 "cells": [
  {
   "cell_type": "markdown",
   "metadata": {},
   "source": [
    "The code below estimates $\\int_0^1 e^{x^2/2}$"
   ]
  },
  {
   "cell_type": "code",
   "execution_count": 34,
   "metadata": {
    "vscode": {
     "languageId": "r"
    }
   },
   "outputs": [],
   "source": [
    "n = n\n",
    "a = 0\n",
    "b = 1\n",
    "u = runif(n, a, b)\n",
    "x = 1 \n",
    "hx = function(x,u){\n",
    "    exp((-(x*u)^2)/2)\n",
    "}\n",
    "true_val = (1 - pnorm(0) - pnorm(1, lower.tail=FALSE))*sqrt(2*pi)\n",
    "est = mean(hx(x, u))# 0.5 since x positive\n",
    "error = abs(est-true_val)/true_val"
   ]
  },
  {
   "cell_type": "code",
   "execution_count": 35,
   "metadata": {
    "vscode": {
     "languageId": "r"
    }
   },
   "outputs": [
    {
     "data": {
      "text/html": [
       "0.85328160136014"
      ],
      "text/latex": [
       "0.85328160136014"
      ],
      "text/markdown": [
       "0.85328160136014"
      ],
      "text/plain": [
       "[1] 0.8532816"
      ]
     },
     "metadata": {},
     "output_type": "display_data"
    }
   ],
   "source": [
    "est"
   ]
  },
  {
   "cell_type": "code",
   "execution_count": 36,
   "metadata": {
    "vscode": {
     "languageId": "r"
    }
   },
   "outputs": [
    {
     "data": {
      "text/html": [
       "0.855624391892149"
      ],
      "text/latex": [
       "0.855624391892149"
      ],
      "text/markdown": [
       "0.855624391892149"
      ],
      "text/plain": [
       "[1] 0.8556244"
      ]
     },
     "metadata": {},
     "output_type": "display_data"
    }
   ],
   "source": [
    "true_val"
   ]
  },
  {
   "cell_type": "code",
   "execution_count": 37,
   "metadata": {
    "vscode": {
     "languageId": "r"
    }
   },
   "outputs": [
    {
     "data": {
      "text/html": [
       "0.00273810629314578"
      ],
      "text/latex": [
       "0.00273810629314578"
      ],
      "text/markdown": [
       "0.00273810629314578"
      ],
      "text/plain": [
       "[1] 0.002738106"
      ]
     },
     "metadata": {},
     "output_type": "display_data"
    }
   ],
   "source": [
    "error"
   ]
  },
  {
   "cell_type": "markdown",
   "metadata": {},
   "source": [
    "To look at the error:"
   ]
  },
  {
   "cell_type": "code",
   "execution_count": 5,
   "metadata": {
    "vscode": {
     "languageId": "r"
    }
   },
   "outputs": [],
   "source": [
    "hx = function(x,u){\n",
    "        exp((-(x*u)^2)/2)\n",
    "}"
   ]
  },
  {
   "cell_type": "code",
   "execution_count": 32,
   "metadata": {
    "vscode": {
     "languageId": "r"
    }
   },
   "outputs": [],
   "source": [
    "sample = 100\n",
    "error_from_n = rep(NA,5)\n",
    "ns = c(10, 30, 50, 100, 250, 500)\n",
    "for (j in 1:length(ns)) {\n",
    "    n = ns[j]\n",
    "    errors = rep(NA, sample)\n",
    "    n = n\n",
    "    a = 0\n",
    "    b = 1\n",
    "    for (i in 1:sample){\n",
    "        u = runif(n, a, b)\n",
    "        x = 1 \n",
    "        true_val = (1 - pnorm(0) - pnorm(1, lower.tail=FALSE))*sqrt(2*pi)\n",
    "        est = mean(hx(x, u))# 0.5 since x positive\n",
    "        error = abs(est-true_val)/true_val\n",
    "        errors[i] = error\n",
    "    }\n",
    "    error_from_n[j] = mean(errors)\n",
    "}"
   ]
  },
  {
   "cell_type": "code",
   "execution_count": 33,
   "metadata": {
    "vscode": {
     "languageId": "r"
    }
   },
   "outputs": [
    {
     "data": {
      "text/html": [
       "<table class=\"dataframe\">\n",
       "<caption>A data.frame: 6 × 2</caption>\n",
       "<thead>\n",
       "\t<tr><th scope=col>ns</th><th scope=col>error_from_n</th></tr>\n",
       "\t<tr><th scope=col>&lt;dbl&gt;</th><th scope=col>&lt;dbl&gt;</th></tr>\n",
       "</thead>\n",
       "<tbody>\n",
       "\t<tr><td> 10</td><td>0.033015262</td></tr>\n",
       "\t<tr><td> 30</td><td>0.020783794</td></tr>\n",
       "\t<tr><td> 50</td><td>0.016324177</td></tr>\n",
       "\t<tr><td>100</td><td>0.011439409</td></tr>\n",
       "\t<tr><td>250</td><td>0.007681428</td></tr>\n",
       "\t<tr><td>500</td><td>0.005314605</td></tr>\n",
       "</tbody>\n",
       "</table>\n"
      ],
      "text/latex": [
       "A data.frame: 6 × 2\n",
       "\\begin{tabular}{ll}\n",
       " ns & error\\_from\\_n\\\\\n",
       " <dbl> & <dbl>\\\\\n",
       "\\hline\n",
       "\t  10 & 0.033015262\\\\\n",
       "\t  30 & 0.020783794\\\\\n",
       "\t  50 & 0.016324177\\\\\n",
       "\t 100 & 0.011439409\\\\\n",
       "\t 250 & 0.007681428\\\\\n",
       "\t 500 & 0.005314605\\\\\n",
       "\\end{tabular}\n"
      ],
      "text/markdown": [
       "\n",
       "A data.frame: 6 × 2\n",
       "\n",
       "| ns &lt;dbl&gt; | error_from_n &lt;dbl&gt; |\n",
       "|---|---|\n",
       "|  10 | 0.033015262 |\n",
       "|  30 | 0.020783794 |\n",
       "|  50 | 0.016324177 |\n",
       "| 100 | 0.011439409 |\n",
       "| 250 | 0.007681428 |\n",
       "| 500 | 0.005314605 |\n",
       "\n"
      ],
      "text/plain": [
       "  ns  error_from_n\n",
       "1  10 0.033015262 \n",
       "2  30 0.020783794 \n",
       "3  50 0.016324177 \n",
       "4 100 0.011439409 \n",
       "5 250 0.007681428 \n",
       "6 500 0.005314605 "
      ]
     },
     "metadata": {},
     "output_type": "display_data"
    }
   ],
   "source": [
    "data.frame(ns, error_from_n)"
   ]
  },
  {
   "cell_type": "markdown",
   "metadata": {},
   "source": [
    "To check with pnorm, need to multiply by $\\sqrt(2*\\pi)$"
   ]
  },
  {
   "cell_type": "code",
   "execution_count": 13,
   "metadata": {
    "vscode": {
     "languageId": "r"
    }
   },
   "outputs": [
    {
     "data": {
      "text/html": [
       "0.855624391892149"
      ],
      "text/latex": [
       "0.855624391892149"
      ],
      "text/markdown": [
       "0.855624391892149"
      ],
      "text/plain": [
       "[1] 0.8556244"
      ]
     },
     "metadata": {},
     "output_type": "display_data"
    }
   ],
   "source": [
    "(1 - pnorm(0) - pnorm(1, lower.tail=FALSE))*sqrt(2*pi)"
   ]
  },
  {
   "cell_type": "markdown",
   "metadata": {},
   "source": [
    "Examining the performance across different values of x"
   ]
  },
  {
   "cell_type": "code",
   "execution_count": 13,
   "metadata": {
    "vscode": {
     "languageId": "r"
    }
   },
   "outputs": [],
   "source": [
    "hx = function(x, u){\n",
    "        exp((-(x*u)^2)/2)\n",
    "}"
   ]
  },
  {
   "cell_type": "code",
   "execution_count": 16,
   "metadata": {
    "vscode": {
     "languageId": "r"
    }
   },
   "outputs": [
    {
     "data": {
      "text/html": [
       "<table class=\"dataframe\">\n",
       "<caption>A data.frame: 30 × 4</caption>\n",
       "<thead>\n",
       "\t<tr><th scope=col>xs</th><th scope=col>true</th><th scope=col>est</th><th scope=col>error</th></tr>\n",
       "\t<tr><th scope=col>&lt;dbl&gt;</th><th scope=col>&lt;dbl&gt;</th><th scope=col>&lt;dbl&gt;</th><th scope=col>&lt;dbl&gt;</th></tr>\n",
       "</thead>\n",
       "<tbody>\n",
       "\t<tr><td>0.1</td><td>0.5398278</td><td>0.5398316</td><td>6.949030e-06</td></tr>\n",
       "\t<tr><td>0.2</td><td>0.5792597</td><td>0.5792495</td><td>1.766187e-05</td></tr>\n",
       "\t<tr><td>0.3</td><td>0.6179114</td><td>0.6179082</td><td>5.199377e-06</td></tr>\n",
       "\t<tr><td>0.4</td><td>0.6554217</td><td>0.6554089</td><td>1.957126e-05</td></tr>\n",
       "\t<tr><td>0.5</td><td>0.6914625</td><td>0.6914033</td><td>8.554775e-05</td></tr>\n",
       "\t<tr><td>0.6</td><td>0.7257469</td><td>0.7259201</td><td>2.386787e-04</td></tr>\n",
       "\t<tr><td>0.7</td><td>0.7580363</td><td>0.7577878</td><td>3.278645e-04</td></tr>\n",
       "\t<tr><td>0.8</td><td>0.7881446</td><td>0.7870752</td><td>1.356816e-03</td></tr>\n",
       "\t<tr><td>0.9</td><td>0.8159399</td><td>0.8164640</td><td>6.424122e-04</td></tr>\n",
       "\t<tr><td>1.0</td><td>0.8413447</td><td>0.8390202</td><td>2.762949e-03</td></tr>\n",
       "\t<tr><td>1.1</td><td>0.8643339</td><td>0.8669808</td><td>3.062347e-03</td></tr>\n",
       "\t<tr><td>1.2</td><td>0.8849303</td><td>0.8857169</td><td>8.888400e-04</td></tr>\n",
       "\t<tr><td>1.3</td><td>0.9031995</td><td>0.9081621</td><td>5.494474e-03</td></tr>\n",
       "\t<tr><td>1.4</td><td>0.9192433</td><td>0.9166110</td><td>2.863629e-03</td></tr>\n",
       "\t<tr><td>1.5</td><td>0.9331928</td><td>0.9311792</td><td>2.157778e-03</td></tr>\n",
       "\t<tr><td>1.6</td><td>0.9452007</td><td>0.9408865</td><td>4.564303e-03</td></tr>\n",
       "\t<tr><td>1.7</td><td>0.9554345</td><td>0.9536915</td><td>1.824349e-03</td></tr>\n",
       "\t<tr><td>1.8</td><td>0.9640697</td><td>0.9692795</td><td>5.403988e-03</td></tr>\n",
       "\t<tr><td>1.9</td><td>0.9712834</td><td>0.9746781</td><td>3.495062e-03</td></tr>\n",
       "\t<tr><td>2.0</td><td>0.9772499</td><td>0.9724871</td><td>4.873655e-03</td></tr>\n",
       "\t<tr><td>2.1</td><td>0.9821356</td><td>0.9792227</td><td>2.965841e-03</td></tr>\n",
       "\t<tr><td>2.2</td><td>0.9860966</td><td>0.9906249</td><td>4.592240e-03</td></tr>\n",
       "\t<tr><td>2.3</td><td>0.9892759</td><td>0.9932848</td><td>4.052402e-03</td></tr>\n",
       "\t<tr><td>2.4</td><td>0.9918025</td><td>0.9848965</td><td>6.963041e-03</td></tr>\n",
       "\t<tr><td>2.5</td><td>0.9937903</td><td>0.9835679</td><td>1.028632e-02</td></tr>\n",
       "\t<tr><td>2.6</td><td>0.9953388</td><td>1.0005843</td><td>5.270088e-03</td></tr>\n",
       "\t<tr><td>2.7</td><td>0.9965330</td><td>1.0041904</td><td>7.683982e-03</td></tr>\n",
       "\t<tr><td>2.8</td><td>0.9974449</td><td>1.0064569</td><td>9.035113e-03</td></tr>\n",
       "\t<tr><td>2.9</td><td>0.9981342</td><td>0.9822485</td><td>1.591536e-02</td></tr>\n",
       "\t<tr><td>3.0</td><td>0.9986501</td><td>1.0174941</td><td>1.886943e-02</td></tr>\n",
       "</tbody>\n",
       "</table>\n"
      ],
      "text/latex": [
       "A data.frame: 30 × 4\n",
       "\\begin{tabular}{llll}\n",
       " xs & true & est & error\\\\\n",
       " <dbl> & <dbl> & <dbl> & <dbl>\\\\\n",
       "\\hline\n",
       "\t 0.1 & 0.5398278 & 0.5398316 & 6.949030e-06\\\\\n",
       "\t 0.2 & 0.5792597 & 0.5792495 & 1.766187e-05\\\\\n",
       "\t 0.3 & 0.6179114 & 0.6179082 & 5.199377e-06\\\\\n",
       "\t 0.4 & 0.6554217 & 0.6554089 & 1.957126e-05\\\\\n",
       "\t 0.5 & 0.6914625 & 0.6914033 & 8.554775e-05\\\\\n",
       "\t 0.6 & 0.7257469 & 0.7259201 & 2.386787e-04\\\\\n",
       "\t 0.7 & 0.7580363 & 0.7577878 & 3.278645e-04\\\\\n",
       "\t 0.8 & 0.7881446 & 0.7870752 & 1.356816e-03\\\\\n",
       "\t 0.9 & 0.8159399 & 0.8164640 & 6.424122e-04\\\\\n",
       "\t 1.0 & 0.8413447 & 0.8390202 & 2.762949e-03\\\\\n",
       "\t 1.1 & 0.8643339 & 0.8669808 & 3.062347e-03\\\\\n",
       "\t 1.2 & 0.8849303 & 0.8857169 & 8.888400e-04\\\\\n",
       "\t 1.3 & 0.9031995 & 0.9081621 & 5.494474e-03\\\\\n",
       "\t 1.4 & 0.9192433 & 0.9166110 & 2.863629e-03\\\\\n",
       "\t 1.5 & 0.9331928 & 0.9311792 & 2.157778e-03\\\\\n",
       "\t 1.6 & 0.9452007 & 0.9408865 & 4.564303e-03\\\\\n",
       "\t 1.7 & 0.9554345 & 0.9536915 & 1.824349e-03\\\\\n",
       "\t 1.8 & 0.9640697 & 0.9692795 & 5.403988e-03\\\\\n",
       "\t 1.9 & 0.9712834 & 0.9746781 & 3.495062e-03\\\\\n",
       "\t 2.0 & 0.9772499 & 0.9724871 & 4.873655e-03\\\\\n",
       "\t 2.1 & 0.9821356 & 0.9792227 & 2.965841e-03\\\\\n",
       "\t 2.2 & 0.9860966 & 0.9906249 & 4.592240e-03\\\\\n",
       "\t 2.3 & 0.9892759 & 0.9932848 & 4.052402e-03\\\\\n",
       "\t 2.4 & 0.9918025 & 0.9848965 & 6.963041e-03\\\\\n",
       "\t 2.5 & 0.9937903 & 0.9835679 & 1.028632e-02\\\\\n",
       "\t 2.6 & 0.9953388 & 1.0005843 & 5.270088e-03\\\\\n",
       "\t 2.7 & 0.9965330 & 1.0041904 & 7.683982e-03\\\\\n",
       "\t 2.8 & 0.9974449 & 1.0064569 & 9.035113e-03\\\\\n",
       "\t 2.9 & 0.9981342 & 0.9822485 & 1.591536e-02\\\\\n",
       "\t 3.0 & 0.9986501 & 1.0174941 & 1.886943e-02\\\\\n",
       "\\end{tabular}\n"
      ],
      "text/markdown": [
       "\n",
       "A data.frame: 30 × 4\n",
       "\n",
       "| xs &lt;dbl&gt; | true &lt;dbl&gt; | est &lt;dbl&gt; | error &lt;dbl&gt; |\n",
       "|---|---|---|---|\n",
       "| 0.1 | 0.5398278 | 0.5398316 | 6.949030e-06 |\n",
       "| 0.2 | 0.5792597 | 0.5792495 | 1.766187e-05 |\n",
       "| 0.3 | 0.6179114 | 0.6179082 | 5.199377e-06 |\n",
       "| 0.4 | 0.6554217 | 0.6554089 | 1.957126e-05 |\n",
       "| 0.5 | 0.6914625 | 0.6914033 | 8.554775e-05 |\n",
       "| 0.6 | 0.7257469 | 0.7259201 | 2.386787e-04 |\n",
       "| 0.7 | 0.7580363 | 0.7577878 | 3.278645e-04 |\n",
       "| 0.8 | 0.7881446 | 0.7870752 | 1.356816e-03 |\n",
       "| 0.9 | 0.8159399 | 0.8164640 | 6.424122e-04 |\n",
       "| 1.0 | 0.8413447 | 0.8390202 | 2.762949e-03 |\n",
       "| 1.1 | 0.8643339 | 0.8669808 | 3.062347e-03 |\n",
       "| 1.2 | 0.8849303 | 0.8857169 | 8.888400e-04 |\n",
       "| 1.3 | 0.9031995 | 0.9081621 | 5.494474e-03 |\n",
       "| 1.4 | 0.9192433 | 0.9166110 | 2.863629e-03 |\n",
       "| 1.5 | 0.9331928 | 0.9311792 | 2.157778e-03 |\n",
       "| 1.6 | 0.9452007 | 0.9408865 | 4.564303e-03 |\n",
       "| 1.7 | 0.9554345 | 0.9536915 | 1.824349e-03 |\n",
       "| 1.8 | 0.9640697 | 0.9692795 | 5.403988e-03 |\n",
       "| 1.9 | 0.9712834 | 0.9746781 | 3.495062e-03 |\n",
       "| 2.0 | 0.9772499 | 0.9724871 | 4.873655e-03 |\n",
       "| 2.1 | 0.9821356 | 0.9792227 | 2.965841e-03 |\n",
       "| 2.2 | 0.9860966 | 0.9906249 | 4.592240e-03 |\n",
       "| 2.3 | 0.9892759 | 0.9932848 | 4.052402e-03 |\n",
       "| 2.4 | 0.9918025 | 0.9848965 | 6.963041e-03 |\n",
       "| 2.5 | 0.9937903 | 0.9835679 | 1.028632e-02 |\n",
       "| 2.6 | 0.9953388 | 1.0005843 | 5.270088e-03 |\n",
       "| 2.7 | 0.9965330 | 1.0041904 | 7.683982e-03 |\n",
       "| 2.8 | 0.9974449 | 1.0064569 | 9.035113e-03 |\n",
       "| 2.9 | 0.9981342 | 0.9822485 | 1.591536e-02 |\n",
       "| 3.0 | 0.9986501 | 1.0174941 | 1.886943e-02 |\n",
       "\n"
      ],
      "text/plain": [
       "   xs  true      est       error       \n",
       "1  0.1 0.5398278 0.5398316 6.949030e-06\n",
       "2  0.2 0.5792597 0.5792495 1.766187e-05\n",
       "3  0.3 0.6179114 0.6179082 5.199377e-06\n",
       "4  0.4 0.6554217 0.6554089 1.957126e-05\n",
       "5  0.5 0.6914625 0.6914033 8.554775e-05\n",
       "6  0.6 0.7257469 0.7259201 2.386787e-04\n",
       "7  0.7 0.7580363 0.7577878 3.278645e-04\n",
       "8  0.8 0.7881446 0.7870752 1.356816e-03\n",
       "9  0.9 0.8159399 0.8164640 6.424122e-04\n",
       "10 1.0 0.8413447 0.8390202 2.762949e-03\n",
       "11 1.1 0.8643339 0.8669808 3.062347e-03\n",
       "12 1.2 0.8849303 0.8857169 8.888400e-04\n",
       "13 1.3 0.9031995 0.9081621 5.494474e-03\n",
       "14 1.4 0.9192433 0.9166110 2.863629e-03\n",
       "15 1.5 0.9331928 0.9311792 2.157778e-03\n",
       "16 1.6 0.9452007 0.9408865 4.564303e-03\n",
       "17 1.7 0.9554345 0.9536915 1.824349e-03\n",
       "18 1.8 0.9640697 0.9692795 5.403988e-03\n",
       "19 1.9 0.9712834 0.9746781 3.495062e-03\n",
       "20 2.0 0.9772499 0.9724871 4.873655e-03\n",
       "21 2.1 0.9821356 0.9792227 2.965841e-03\n",
       "22 2.2 0.9860966 0.9906249 4.592240e-03\n",
       "23 2.3 0.9892759 0.9932848 4.052402e-03\n",
       "24 2.4 0.9918025 0.9848965 6.963041e-03\n",
       "25 2.5 0.9937903 0.9835679 1.028632e-02\n",
       "26 2.6 0.9953388 1.0005843 5.270088e-03\n",
       "27 2.7 0.9965330 1.0041904 7.683982e-03\n",
       "28 2.8 0.9974449 1.0064569 9.035113e-03\n",
       "29 2.9 0.9981342 0.9822485 1.591536e-02\n",
       "30 3.0 0.9986501 1.0174941 1.886943e-02"
      ]
     },
     "metadata": {},
     "output_type": "display_data"
    }
   ],
   "source": [
    "xs = seq(0.1, 3, 0.1)\n",
    "n = 1000\n",
    "true = rep(NA, length(xs))\n",
    "est = rep(NA, length(xs))\n",
    "error = rep(NA, length(xs))\n",
    "\n",
    "for (i in 1:length(xs)){\n",
    "    x = xs[i]\n",
    "    u = runif(n)\n",
    "    true[i] = pnorm(x)\n",
    "    est[i] = 0.5 + x*mean(hx(x, u))*(1/sqrt(2*pi))\n",
    "    error[i] = abs(est[i]-true[i])/true[i]\n",
    "}\n",
    "\n",
    "data.frame(xs, true, est, error)\n"
   ]
  },
  {
   "cell_type": "code",
   "execution_count": null,
   "metadata": {
    "vscode": {
     "languageId": "r"
    }
   },
   "outputs": [],
   "source": []
  },
  {
   "cell_type": "code",
   "execution_count": 1,
   "metadata": {
    "vscode": {
     "languageId": "r"
    }
   },
   "outputs": [],
   "source": [
    "xs = seq(0.1, 3, 0.1)"
   ]
  },
  {
   "cell_type": "code",
   "execution_count": 2,
   "metadata": {
    "vscode": {
     "languageId": "r"
    }
   },
   "outputs": [
    {
     "data": {
      "text/html": [
       "<style>\n",
       ".list-inline {list-style: none; margin:0; padding: 0}\n",
       ".list-inline>li {display: inline-block}\n",
       ".list-inline>li:not(:last-child)::after {content: \"\\00b7\"; padding: 0 .5ex}\n",
       "</style>\n",
       "<ol class=list-inline><li>0.1</li><li>0.2</li><li>0.3</li><li>0.4</li><li>0.5</li><li>0.6</li><li>0.7</li><li>0.8</li><li>0.9</li><li>1</li><li>1.1</li><li>1.2</li><li>1.3</li><li>1.4</li><li>1.5</li><li>1.6</li><li>1.7</li><li>1.8</li><li>1.9</li><li>2</li><li>2.1</li><li>2.2</li><li>2.3</li><li>2.4</li><li>2.5</li><li>2.6</li><li>2.7</li><li>2.8</li><li>2.9</li><li>3</li></ol>\n"
      ],
      "text/latex": [
       "\\begin{enumerate*}\n",
       "\\item 0.1\n",
       "\\item 0.2\n",
       "\\item 0.3\n",
       "\\item 0.4\n",
       "\\item 0.5\n",
       "\\item 0.6\n",
       "\\item 0.7\n",
       "\\item 0.8\n",
       "\\item 0.9\n",
       "\\item 1\n",
       "\\item 1.1\n",
       "\\item 1.2\n",
       "\\item 1.3\n",
       "\\item 1.4\n",
       "\\item 1.5\n",
       "\\item 1.6\n",
       "\\item 1.7\n",
       "\\item 1.8\n",
       "\\item 1.9\n",
       "\\item 2\n",
       "\\item 2.1\n",
       "\\item 2.2\n",
       "\\item 2.3\n",
       "\\item 2.4\n",
       "\\item 2.5\n",
       "\\item 2.6\n",
       "\\item 2.7\n",
       "\\item 2.8\n",
       "\\item 2.9\n",
       "\\item 3\n",
       "\\end{enumerate*}\n"
      ],
      "text/markdown": [
       "1. 0.1\n",
       "2. 0.2\n",
       "3. 0.3\n",
       "4. 0.4\n",
       "5. 0.5\n",
       "6. 0.6\n",
       "7. 0.7\n",
       "8. 0.8\n",
       "9. 0.9\n",
       "10. 1\n",
       "11. 1.1\n",
       "12. 1.2\n",
       "13. 1.3\n",
       "14. 1.4\n",
       "15. 1.5\n",
       "16. 1.6\n",
       "17. 1.7\n",
       "18. 1.8\n",
       "19. 1.9\n",
       "20. 2\n",
       "21. 2.1\n",
       "22. 2.2\n",
       "23. 2.3\n",
       "24. 2.4\n",
       "25. 2.5\n",
       "26. 2.6\n",
       "27. 2.7\n",
       "28. 2.8\n",
       "29. 2.9\n",
       "30. 3\n",
       "\n",
       "\n"
      ],
      "text/plain": [
       " [1] 0.1 0.2 0.3 0.4 0.5 0.6 0.7 0.8 0.9 1.0 1.1 1.2 1.3 1.4 1.5 1.6 1.7 1.8 1.9\n",
       "[20] 2.0 2.1 2.2 2.3 2.4 2.5 2.6 2.7 2.8 2.9 3.0"
      ]
     },
     "metadata": {},
     "output_type": "display_data"
    }
   ],
   "source": [
    "xs"
   ]
  },
  {
   "cell_type": "code",
   "execution_count": 23,
   "metadata": {
    "vscode": {
     "languageId": "r"
    }
   },
   "outputs": [
    {
     "data": {
      "image/png": "[encoded data removed]",
      "text/plain": [
       "plot without title"
      ]
     },
     "metadata": {
      "image/png": {
       "height": 420,
       "width": 420
      }
     },
     "output_type": "display_data"
    },
    {
     "data": {
      "image/png": "[encoded data removed]",
      "text/plain": [
       "plot without title"
      ]
     },
     "metadata": {
      "image/png": {
       "height": 420,
       "width": 420
      }
     },
     "output_type": "display_data"
    }
   ],
   "source": [
    "plot(xs, true, 'l')\n",
    "plot(xs, est, 'l')"
   ]
  },
  {
   "cell_type": "code",
   "execution_count": null,
   "metadata": {
    "vscode": {
     "languageId": "r"
    }
   },
   "outputs": [],
   "source": []
  }
 ],
 "metadata": {
  "kernelspec": {
   "display_name": "R",
   "language": "R",
   "name": "ir"
  },
  "language_info": {
   "codemirror_mode": "r",
   "file_extension": ".r",
   "mimetype": "text/x-r-source",
   "name": "R",
   "pygments_lexer": "r",
   "version": "4.2.2"
  },
  "orig_nbformat": 4
 },
 "nbformat": 4,
 "nbformat_minor": 2
}

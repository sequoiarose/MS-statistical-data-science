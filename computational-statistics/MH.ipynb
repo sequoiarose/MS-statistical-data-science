{
 "cells": [
  {
   "cell_type": "code",
   "execution_count": 10,
   "metadata": {
    "vscode": {
     "languageId": "r"
    }
   },
   "outputs": [
    {
     "ename": "ERROR",
     "evalue": "Error in parse(text = x, srcfile = src): '=>' is disabled; set '_R_USE_PIPEBIND_' envvar to a true value to enable it\n",
     "output_type": "error",
     "traceback": [
      "Error in parse(text = x, srcfile = src): '=>' is disabled; set '_R_USE_PIPEBIND_' envvar to a true value to enable it\nTraceback:\n"
     ]
    }
   ],
   "source": [
    "# propose y\n",
    "\n",
    "gx = function(xt){\n",
    "    if (xt>1){\n",
    "        u = runif(1)\n",
    "        y = (u<2/3)*(xt+1)+(u => 2/3)*(xt-1)\n",
    "    } else {\n",
    "        y = xt+1\n",
    "    }\n",
    "    return(y)\n",
    "}\n",
    "# update function\n",
    "\n",
    "update_fxn = function(xt){\n",
    "    # propose y\n",
    "    candidate = gx(xt)\n",
    "\n",
    "    #decide to accept or not\n",
    "    if (candidate>xt){\n",
    "        alpha = 0.5*(xt/candidate)^2\n",
    "    } else{\n",
    "        alpha = 2*(xt/candidate)^2\n",
    "    }\n",
    "\n",
    "    u = runif(1)\n",
    "    y = (u<alpha) * candidate + (u>=alpha)*xt\n",
    "    return(y)\n",
    "}"
   ]
  },
  {
   "cell_type": "code",
   "execution_count": 14,
   "metadata": {
    "vscode": {
     "languageId": "r"
    }
   },
   "outputs": [
    {
     "data": {
      "image/png": "[encoded data removed]",
      "text/plain": [
       "plot without title"
      ]
     },
     "metadata": {
      "image/png": {
       "height": 420,
       "width": 420
      }
     },
     "output_type": "display_data"
    }
   ],
   "source": [
    "# initial state\n",
    "x_0 = 1\n",
    "burn_in = 1000\n",
    "# burn in\n",
    "x = x_0\n",
    "for (i in 1:burn_in){\n",
    "    x = update_fxn(x)\n",
    "}\n",
    "# actual sample\n",
    "xs = c()\n",
    "for (i in 1:(10*burn_in)){\n",
    "    x = update_fxn(x)\n",
    "    # save state\n",
    "    xs[i] = x\n",
    "}\n",
    "barplot(table(xs))"
   ]
  },
  {
   "cell_type": "code",
   "execution_count": null,
   "metadata": {
    "vscode": {
     "languageId": "r"
    }
   },
   "outputs": [],
   "source": []
  }
 ],
 "metadata": {
  "kernelspec": {
   "display_name": "R",
   "language": "R",
   "name": "ir"
  },
  "language_info": {
   "codemirror_mode": "r",
   "file_extension": ".r",
   "mimetype": "text/x-r-source",
   "name": "R",
   "pygments_lexer": "r",
   "version": "4.2.2"
  }
 },
 "nbformat": 4,
 "nbformat_minor": 2
}

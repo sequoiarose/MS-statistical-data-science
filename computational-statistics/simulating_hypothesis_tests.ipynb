{
 "cells": [
  {
   "cell_type": "markdown",
   "metadata": {},
   "source": [
    "# Simulating a hypothesis test\n",
    "ex: students sitting randomly in a class room"
   ]
  },
  {
   "cell_type": "code",
   "execution_count": 2,
   "metadata": {
    "vscode": {
     "languageId": "r"
    }
   },
   "outputs": [],
   "source": [
    "xCoord = c(0.2, 0.1, 0.6, 0.5, 0.4)\n",
    "yCoord = c(0.9, 0.8, 0.7, 0.5, 0.3)"
   ]
  },
  {
   "cell_type": "code",
   "execution_count": 7,
   "metadata": {
    "vscode": {
     "languageId": "r"
    }
   },
   "outputs": [],
   "source": [
    "pointDistances = function(xVec, yVec){\n",
    "    total = 0\n",
    "    n = length(xVec)\n",
    "    for (i in 1:n){\n",
    "        for (j in 1:n){\n",
    "            dist_ij = sqrt((xVec[i] - xVec[j])^2 + (yVec[i] - yVec[j])^2)\n",
    "            total = total +dist_ij\n",
    "        }\n",
    "    }\n",
    "    return(total)\n",
    "}"
   ]
  },
  {
   "cell_type": "code",
   "execution_count": 8,
   "metadata": {
    "vscode": {
     "languageId": "r"
    }
   },
   "outputs": [
    {
     "data": {
      "text/html": [
       "2.82842712474619"
      ],
      "text/latex": [
       "2.82842712474619"
      ],
      "text/markdown": [
       "2.82842712474619"
      ],
      "text/plain": [
       "[1] 2.828427"
      ]
     },
     "metadata": {},
     "output_type": "display_data"
    }
   ],
   "source": [
    "testX = c(0,1)\n",
    "testY = c(0,1)\n",
    "pointDistances(testX, testY)"
   ]
  },
  {
   "cell_type": "code",
   "execution_count": 9,
   "metadata": {
    "vscode": {
     "languageId": "r"
    }
   },
   "outputs": [
    {
     "data": {
      "text/html": [
       "8.41702963122933"
      ],
      "text/latex": [
       "8.41702963122933"
      ],
      "text/markdown": [
       "8.41702963122933"
      ],
      "text/plain": [
       "[1] 8.41703"
      ]
     },
     "metadata": {},
     "output_type": "display_data"
    }
   ],
   "source": [
    "pointDistances(xCoord, yCoord)"
   ]
  },
  {
   "cell_type": "code",
   "execution_count": null,
   "metadata": {
    "vscode": {
     "languageId": "r"
    }
   },
   "outputs": [],
   "source": []
  },
  {
   "cell_type": "markdown",
   "metadata": {},
   "source": [
    "Can we use the CLT to say metric S~N(mu, sigma) in a hypothesis test where\n",
    "\n",
    "$H_0:$ students are sitting randomly $\\mu=\\mu_0$\n",
    "\n",
    "$H_1:$ students are not sitting randomly $\\mu\\neq\\mu_0$\n",
    "\n",
    "issues:\n",
    "- we don't know the distribution is normal because n is small\n",
    "- we dont know the parameters\n",
    "- no distribution to calculate a p value\n",
    "\n",
    "Can we use the law of large numbers?\n",
    "- maybe if we can figure out what $\\bar{X}$ should be\n",
    "\n",
    "what is a p-value:\n",
    "\n",
    "in this case it is the P(S is as extreme or more extreme that sample given the null)\n",
    "\n",
    "$P(S\\in A|H_0) = E{1(S\\in A|H_0)}$\n",
    "\n",
    "where:\n",
    "\n",
    "$1()$ is an indicator function where if exp is true then $1(expr)=1$\n",
    "\n",
    "\n",
    "Use LLN:\n",
    "\n",
    "1. simulate data of students picking seats randomly (under the null)\n",
    "2. save S statistic\n",
    "3. repeat many times and take average $\\bar{s}$\n",
    "\n"
   ]
  },
  {
   "cell_type": "markdown",
   "metadata": {},
   "source": [
    "Lets see what extreme is...\n",
    "\n",
    "In this case, it will be any sum of distances which is smaller than 8.417 (where $s<8.417$)"
   ]
  },
  {
   "cell_type": "code",
   "execution_count": 17,
   "metadata": {
    "vscode": {
     "languageId": "r"
    }
   },
   "outputs": [
    {
     "data": {
      "text/html": [
       "10.3980904324014"
      ],
      "text/latex": [
       "10.3980904324014"
      ],
      "text/markdown": [
       "10.3980904324014"
      ],
      "text/plain": [
       "[1] 10.39809"
      ]
     },
     "metadata": {},
     "output_type": "display_data"
    },
    {
     "data": {
      "text/html": [
       "2.05515373739423"
      ],
      "text/latex": [
       "2.05515373739423"
      ],
      "text/markdown": [
       "2.05515373739423"
      ],
      "text/plain": [
       "[1] 2.055154"
      ]
     },
     "metadata": {},
     "output_type": "display_data"
    }
   ],
   "source": [
    "numStudents = 5\n",
    "runs = 1000\n",
    "\n",
    "s = rep(NA, runs)\n",
    "for (r in 1:runs){\n",
    "    studentsX = runif(numStudents, 0, 1)\n",
    "    studentsY = runif(numStudents, 0, 1)\n",
    "    s[r] = pointDistances(studentsX, studentsY)\n",
    "}\n",
    "mean(s)\n",
    "sd(s)\n"
   ]
  },
  {
   "cell_type": "markdown",
   "metadata": {},
   "source": [
    " how to use simulation to extimate pval?\n",
    "\n",
    " see how many values fall in the range - use indicator and take average for $1(s>8.417)$"
   ]
  },
  {
   "cell_type": "code",
   "execution_count": 22,
   "metadata": {
    "vscode": {
     "languageId": "r"
    }
   },
   "outputs": [
    {
     "data": {
      "text/html": [
       "0.318"
      ],
      "text/latex": [
       "0.318"
      ],
      "text/markdown": [
       "0.318"
      ],
      "text/plain": [
       "[1] 0.318"
      ]
     },
     "metadata": {},
     "output_type": "display_data"
    }
   ],
   "source": [
    "numStudents = 5\n",
    "runs = 1000\n",
    "\n",
    "sExtreme = rep(NA, runs)\n",
    "dataStat = pointDistances(xCoord, yCoord)\n",
    "sVals = rep(NA, runs)\n",
    "for (r in 1:runs){\n",
    "    studentsX = runif(numStudents, 0, 1)\n",
    "    studentsY = runif(numStudents, 0, 1)\n",
    "    s = pointDistances(studentsX, studentsY)\n",
    "    sVals[r] = s\n",
    "    sExtreme[r] = (s < dataStat)\n",
    "}\n",
    "\n",
    "mean(sExtreme)*2"
   ]
  },
  {
   "cell_type": "markdown",
   "metadata": {},
   "source": [
    "Interpretation:\n",
    "\n",
    "Because the p-value is about 0.314, which is > alpha = .05, we \n",
    "fail to reject the null hypothesis and cannot conclude that students do not sit randomly in the room."
   ]
  },
  {
   "cell_type": "markdown",
   "metadata": {},
   "source": []
  },
  {
   "cell_type": "markdown",
   "metadata": {},
   "source": [
    "# Class work\n"
   ]
  }
 ],
 "metadata": {
  "kernelspec": {
   "display_name": "R",
   "language": "R",
   "name": "ir"
  },
  "language_info": {
   "codemirror_mode": "r",
   "file_extension": ".r",
   "mimetype": "text/x-r-source",
   "name": "R",
   "pygments_lexer": "r",
   "version": "4.2.2"
  },
  "orig_nbformat": 4
 },
 "nbformat": 4,
 "nbformat_minor": 2
}
